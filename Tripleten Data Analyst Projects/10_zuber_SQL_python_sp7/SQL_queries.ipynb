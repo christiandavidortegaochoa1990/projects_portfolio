{
  "nbformat": 4,
  "nbformat_minor": 0,
  "metadata": {
    "colab": {
      "provenance": [],
      "toc_visible": true
    },
    "kernelspec": {
      "name": "python3",
      "display_name": "Python 3"
    },
    "language_info": {
      "name": "python"
    }
  },
  "cells": [
    {
      "cell_type": "markdown",
      "source": [
        "# Descripción del proyecto\n",
        "Estás trabajando como analista para Zuber, una nueva empresa de viajes compartidos que se está lanzando en Chicago. Tu tarea es encontrar patrones en la información disponible. Quieres comprender las preferencias de los pasajeros y el impacto de los factores externos en los viajes.\n",
        "\n",
        "Al trabajar con una base de datos, analizarás los datos de los competidores y probarás una hipótesis sobre el impacto del clima en la frecuencia de los viajes."
      ],
      "metadata": {
        "id": "GOK8Fu-iXCNz"
      }
    },
    {
      "cell_type": "markdown",
      "source": [
        "## Descripción de los datos\n",
        "Una base de datos con información sobre viajes en taxi en Chicago:\n",
        "\n",
        "**tabla neighborhoods: datos sobre los barrios de la ciudad**\n",
        "\n",
        "- name: nombre del barrio\n",
        "- neighborhood_id: código del barrio\n",
        "\n",
        "**tabla cabs: datos sobre los taxis**\n",
        "\n",
        "- cab_id: código del vehículo\n",
        "- vehicle_id: ID técnico del vehículo\n",
        "- company_name: la empresa propietaria del vehículo\n",
        "\n",
        "**tabla trips: datos sobre los viajes**\n",
        "\n",
        "- trip_id: código del viaje\n",
        "- cab_id: código del vehículo que opera el viaje\n",
        "- start_ts: fecha y hora del inicio del viaje (tiempo redondeado a la hora)\n",
        "- end_ts: fecha y hora de finalización del viaje (tiempo redondeado a la hora)\n",
        "- duration_seconds: duración del viaje en segundos\n",
        "- distance_miles: distancia del viaje en millas\n",
        "- pickup_location_id: código del barrio de recogida\n",
        "- dropoff_location_id: código del barrio de finalización\n",
        "\n",
        "**tabla weather_records: datos sobre el clima**\n",
        "\n",
        "- record_id: código del registro meteorológico\n",
        "- ts: fecha y hora del registro (tiempo redondeado a la hora)\n",
        "- temperature: temperatura cuando se tomó el registro\n",
        "- description: breve descripción de las condiciones meteorológicas, por ejemplo, \"lluvia ligera\" o \"nubes dispersas\""
      ],
      "metadata": {
        "id": "EvSslhnrXeZM"
      }
    },
    {
      "cell_type": "markdown",
      "source": [
        "## Esquema de la tabla\n",
        "\n",
        "![](https://practicum-content.s3.us-west-1.amazonaws.com/resources/moved_Untitled_1_1585510727.png)"
      ],
      "metadata": {
        "id": "WfbYHO-SZMXp"
      }
    },
    {
      "cell_type": "markdown",
      "source": [
        "Nota: no existe una conexión directa entre las tablas trips y weather_records en la base de datos. Pero aún puedes usar JOIN y vincularlas usando la hora en la que comenzó el viaje (trips.start_ts) y la hora en la que se tomó el registro meteorológico (weather_records.ts)."
      ],
      "metadata": {
        "id": "r6NAfCloZkOH"
      }
    },
    {
      "cell_type": "markdown",
      "source": [
        "## Instrucciones para completar el proyecto\n",
        "Paso 1. Escribe un código para analizar los datos sobre el clima en Chicago en noviembre de 2017 desde el sitio web:\n",
        "\n",
        "https://practicum-content.s3.us-west-1.amazonaws.com/data-analyst-eng/moved_chicago_weather_2017.html"
      ],
      "metadata": {
        "id": "d6wSnQgjZoqM"
      }
    },
    {
      "cell_type": "markdown",
      "source": [
        "## Paso 2. Análisis exploratorio de datos\n",
        "\n",
        "1. Encuentra el número de viajes en taxi para cada empresa de taxis del 15 al 16 de noviembre de 2017. Nombra el campo resultante trips_amount y muéstralo junto con el campo company_name. Ordena los resultados por el campo trips_amount en orden descendente.\n",
        "\n",
        "2. Encuentra la cantidad de viajes para cada empresa de taxis cuyo nombre contenga las palabras \"Yellow\" o \"Blue\" del 1 al 7 de noviembre de 2017. Nombra la variable resultante trips_amount. Agrupa los resultados por el campo company_name.\n",
        "\n",
        "3. En noviembre de 2017 las empresas de taxis más populares fueron Flash Cab y Taxi Affiliation Services. Encuentra el número de viajes de estas dos empresas y asigna a la variable resultante el nombre trips_amount. Junta los viajes de todas las demás empresas en el grupo \"Other\". Agrupa los datos por nombres de empresas de taxis. Nombra el campo con nombres de empresas de taxis company. Ordena el resultado en orden descendente por trips_amount."
      ],
      "metadata": {
        "id": "1OEJldghZwjb"
      }
    },
    {
      "cell_type": "markdown",
      "source": [
        "## Paso 3. Prueba la hipótesis de que la duración de los viajes desde el Loop hasta el Aeropuerto Internacional O'Hare cambia los sábados lluviosos.\n",
        "\n",
        "1. Recupera los identificadores de los barrios de O'Hare y Loop de la tabla neighborhoods.\n",
        "\n",
        "2. Para cada hora recupera los registros de condiciones meteorológicas de la tabla weather_records. Usando el operador CASE, divide todas las horas en dos grupos: \"Bad\" si el campo description contiene las palabras \"rain\" o \"storm\" y \"Good\" para los demás. Nombra el campo resultante weather_conditions. La tabla final debe incluir dos campos: fecha y hora (ts) y weather_conditions.\n",
        "\n",
        "3. Recupera de la tabla trips todos los viajes que comenzaron en el Loop (neighborhood_id: 50) y finalizaron en O'Hare (neighborhood_id: 63) un sábado. Obtén las condiciones climáticas para cada viaje. Utiliza el método que aplicaste en la tarea anterior. Recupera también la duración de cada viaje.\n",
        "Ignora los viajes para los que no hay datos disponibles sobre las condiciones climáticas."
      ],
      "metadata": {
        "id": "3Oyq6Ufzajpm"
      }
    },
    {
      "cell_type": "markdown",
      "source": [
        "## Paso 4. Análisis exploratorio de datos (Python)\n",
        "\n",
        "Además de los datos que recuperaste en las tareas anteriores te han dado un segundo archivo. Ahora tienes estos dos CSV:\n",
        "\n",
        "/datasets/project_sql_result_01.csv. Contiene los siguientes datos:\n",
        "\n",
        "- company_name: nombre de la empresa de taxis\n",
        "- trips_amount: el número de viajes de cada compañía de taxis el 15 y 16 de noviembre de 2017.\n",
        "\n",
        "/datasets/project_sql_result_04.csv. Contiene los siguientes datos:\n",
        "\n",
        "- dropoff_location_name: barrios de Chicago donde finalizaron los viajes\n",
        "- average_trips: el promedio de viajes que terminaron en cada barrio en noviembre de 2017.\n",
        "\n",
        "Para estos dos datasets ahora necesitas:\n",
        "\n",
        "- importar los archivos\n",
        "- estudiar los datos que contienen\n",
        "- asegurarte de que los tipos de datos sean correctos\n",
        "- identificar los 10 principales barrios en términos de finalización\n",
        "- hacer gráficos: empresas de taxis y número de viajes, los 10 barrios principales por número de finalizaciones\n",
        "- sacar conclusiones basadas en cada gráfico y explicar los resultados"
      ],
      "metadata": {
        "id": "-FiL25PPawai"
      }
    },
    {
      "cell_type": "markdown",
      "source": [
        "##Paso 5. Prueba de hipótesis (Python)\n",
        "\n",
        "/datasets/project_sql_result_07.csv: el resultado de la última consulta. Contiene datos sobre viajes desde el Loop hasta el Aeropuerto Internacional O'Hare. Recuerda, estos son los valores de campo de la tabla:\n",
        "\n",
        "- start_ts: fecha y hora de recogida\n",
        "- weather_conditions: condiciones climáticas en el momento en el que comenzó el viaje\n",
        "- duration_seconds: duración del viaje en segundos\n",
        "\n",
        "Prueba la hipótesis:\n",
        "\n",
        "\"La duración promedio de los viajes desde el Loop hasta el Aeropuerto Internacional O'Hare cambia los sábados lluviosos\".\n",
        "\n",
        "Establece el valor del nivel de significación (alfa) por tu cuenta.\n",
        "\n",
        "Explica:\n",
        "\n",
        "- cómo planteaste las hipótesis nula y alternativa\n",
        "- qué criterio usaste para probar las hipótesis y por qué"
      ],
      "metadata": {
        "id": "NYDNeayMbOcV"
      }
    },
    {
      "cell_type": "markdown",
      "source": [
        "# ¿Cómo será evaluado mi proyecto?\n",
        "Estos son los criterios de evaluación del proyecto. Léelos atentamente antes de empezar a trabajar.\n",
        "\n",
        "Esto es lo que buscará el revisor del proyecto al evaluar tu proyecto:\n",
        "\n",
        "- cómo recuperas los datos del sitio web\n",
        "- cómo creas slices de datos\n",
        "- cómo agrupas los datos\n",
        "- si utilizas los métodos correctos para unir tablas\n",
        "- cómo formulas las hipótesis\n",
        "- qué criterios utilizas para probar las hipótesis y por qué\n",
        "- a qué conclusiones llegas\n",
        "- si dejas comentarios en cada paso\n",
        "\n",
        "Las hojas informativas y resúmenes de las lecciones anteriores tienen todo lo que necesitas para completar el proyecto.\n",
        "\n",
        "¡Buena suerte!"
      ],
      "metadata": {
        "id": "Nm6GrR_rbhmb"
      }
    },
    {
      "cell_type": "markdown",
      "source": [
        "#Desarrollo del Proyecto\n",
        "\n",
        "Escribe un código para analizar los datos sobre el clima en Chicago en noviembre de 2017 desde el sitio web:\n",
        "\n",
        "[https://practicum-content.s3.us-west-1.amazonaws.com/data-analyst-eng/moved_chicago_weather_2017.html)\n",
        "\n",
        "El nombre del DataFrame debe ser weather_records y tienes que especificarlo cuando buscas: attrs={\"id\": \"weather_records\"} . Imprime el DataFrame completo."
      ],
      "metadata": {
        "id": "ct1hWckbkBGs"
      }
    },
    {
      "cell_type": "code",
      "execution_count": null,
      "metadata": {
        "colab": {
          "base_uri": "https://localhost:8080/"
        },
        "id": "36K3JPALWvV-",
        "outputId": "3530f038-0c41-4635-cbf0-1d9bc2a9a15c"
      },
      "outputs": [
        {
          "output_type": "stream",
          "name": "stdout",
          "text": [
            "           Date and time Temperature       Description\n",
            "0    2017-11-01 00:00:00     276.150     broken clouds\n",
            "1    2017-11-01 01:00:00     275.700  scattered clouds\n",
            "2    2017-11-01 02:00:00     275.610   overcast clouds\n",
            "3    2017-11-01 03:00:00     275.350     broken clouds\n",
            "4    2017-11-01 04:00:00     275.240     broken clouds\n",
            "..                   ...         ...               ...\n",
            "692  2017-11-29 20:00:00     281.340        few clouds\n",
            "693  2017-11-29 21:00:00     281.690      sky is clear\n",
            "694  2017-11-29 22:00:00     281.070        few clouds\n",
            "695  2017-11-29 23:00:00     280.060      sky is clear\n",
            "696  2017-11-30 00:00:00     278.460      sky is clear\n",
            "\n",
            "[697 rows x 3 columns]\n"
          ]
        }
      ],
      "source": [
        "import requests\n",
        "from bs4 import BeautifulSoup\n",
        "import pandas as pd\n",
        "\n",
        "URL = 'https://practicum-content.s3.us-west-1.amazonaws.com/data-analyst-eng/moved_chicago_weather_2017.html'\n",
        "\n",
        "req = requests.get(URL)\n",
        "\n",
        "soup=BeautifulSoup(req.text, 'lxml')\n",
        "\n",
        "table = soup.find(\"table\",attrs={\"id\": \"weather_records\"})\n",
        "\n",
        "#Encontrar los encabezados de table:\n",
        "heading_table = []  # Lista donde se almacenarán los nombres de las columnas\n",
        "\n",
        "for row in table.find_all(\n",
        "    'th'\n",
        "):  # Los nombres de las columnas están dentro de los elementos <th>,\n",
        "    # así que encontraremos todos los elementos <th> en la tabla y los ejecutaremos en un bucle\n",
        "    heading_table.append(\n",
        "        row.text\n",
        "    )\n",
        "\n",
        "\n",
        "#Encontrar los registros de table:\n",
        "content = []  # lista donde se almacenarán los datos de la tabla\n",
        "for row in table.find_all('tr'):\n",
        "    # Cada fila está envuelta en una etiqueta <tr>, necesitamos recorrer todas las filas\n",
        "    if not row.find_all('th'):\n",
        "        # Necesitamos esta condición para ignorar la primera fila de la tabla, con encabezados\n",
        "        content.append([element.text for element in row.find_all('td')])\n",
        "        # Dentro de cada fila, el contenido de la celda está envuelto en etiquetas <td> </td>\n",
        "        # Necesitamos recorrer todos los elementos <td>, extraer el contenido de las celdas y agregarlo a la lista\n",
        "        # Luego agregamos cada una de las listas a la lista de contenido}\n",
        "\n",
        "weather_records = pd.DataFrame(content, columns = heading_table)\n",
        "print(weather_records)"
      ]
    },
    {
      "cell_type": "markdown",
      "source": [
        "# Ejercicios de 1 a 3: Análisis exploratorio de datos\n",
        "\n",
        "1. Imprime el campo company_name. Encuentra la cantidad de viajes en taxi para cada compañía de taxis para el 15 y 16 de noviembre de 2017, asigna al campo resultante el nombre trips_amount e imprímelo también. Ordena los resultados por el campo trips_amount en orden descendente."
      ],
      "metadata": {
        "id": "1XQqrl0l5lmy"
      }
    },
    {
      "cell_type": "code",
      "source": [
        "SELECT c.company_name AS company_name,\n",
        "    COUNT(t.trip_id) AS trips_amount\n",
        "FROM cabs c INNER JOIN trips t ON c.cab_id = t.cab_id\n",
        "WHERE t.start_ts :: date BETWEEN '2017-11-15' AND '2017-11-16'\n",
        "GROUP BY company_name\n",
        "ORDER BY trips_amount DESC;\n",
        "\n",
        "\n",
        "Resultado\n",
        "company_name\ttrips_amount\n",
        "Flash Cab\t19558\n",
        "Taxi Affiliation Services\t11422\n",
        "Medallion Leasin\t10367\n",
        "Yellow Cab\t9888\n",
        "Taxi Affiliation Service Yellow\t9299\n",
        "Chicago Carriage Cab Corp\t9181\n",
        "City Service\t8448\n",
        "Sun Taxi\t7701\n",
        "Star North Management LLC\t7455\n",
        "Blue Ribbon Taxi Association Inc.\t5953\n",
        "Choice Taxi Association\t5015"
      ],
      "metadata": {
        "id": "hvb5cfkG7uU4"
      },
      "execution_count": null,
      "outputs": []
    },
    {
      "cell_type": "markdown",
      "source": [
        "2. Encuentra la cantidad de viajes para cada empresa de taxis cuyo nombre contenga las palabras \"Yellow\" o \"Blue\" del 1 al 7 de noviembre de 2017. Nombra la variable resultante trips_amount. Agrupa los resultados por el campo company_name."
      ],
      "metadata": {
        "id": "HhO9LQjZ70SU"
      }
    },
    {
      "cell_type": "code",
      "source": [
        "(SELECT c.company_name AS company_name, COUNT(t.trip_id) AS trips_amount\n",
        "FROM cabs c INNER JOIN trips t ON c.cab_id = t.cab_id\n",
        "WHERE c.company_name LIKE '%Yellow%'\n",
        "AND t.start_ts :: date BETWEEN '2017-11-01' AND '2017-11-07'\n",
        "GROUP BY company_name)\n",
        "UNION\n",
        "(SELECT c.company_name AS company_name, COUNT(t.trip_id) AS trips_amount\n",
        "FROM cabs c INNER JOIN trips t ON c.cab_id = t.cab_id\n",
        "WHERE c.company_name LIKE '%Blue%'\n",
        "AND t.start_ts :: date BETWEEN '2017-11-01' AND '2017-11-07'\n",
        "GROUP BY company_name)\n",
        "\n",
        "\n",
        "\n",
        "\n",
        "Resultado\n",
        "company_name\ttrips_amount\n",
        "Blue Ribbon Taxi Association Inc.\t17675\n",
        "Blue Diamond\t6764\n",
        "Taxi Affiliation Service Yellow\t29213\n",
        "Yellow Cab\t33668"
      ],
      "metadata": {
        "id": "D3rL0qol-47v"
      },
      "execution_count": null,
      "outputs": []
    },
    {
      "cell_type": "markdown",
      "source": [
        "3. Del 1 al 7 de noviembre de 2017, las empresas de taxis más populares fueron Flash Cab y Taxi Affiliation Services. Encuentra el número de viajes de estas dos empresas y asigna a la variable resultante el nombre trips_amount. Junta los viajes de todas las demás empresas en el grupo \"Other\". Agrupa los datos por nombres de empresas de taxis. Asigna el nombre company al campo con nombres de empresas de taxis. Ordena el resultado en orden descendente por trips_amount."
      ],
      "metadata": {
        "id": "Y0F_V_nb_C_1"
      }
    },
    {
      "cell_type": "code",
      "source": [
        "SELECT CASE WHEN c.company_name LIKE '%Flash Cab%' THEN 'Flash Cab'\n",
        "    WHEN c.company_name LIKE '%Taxi Affiliation Services%' THEN 'Taxi Affiliation Services'\n",
        "    ELSE 'Other'\n",
        "    END AS company,\n",
        "    COUNT(t.trip_id) AS trips_amount\n",
        "FROM cabs c INNER JOIN trips t ON c.cab_id = t.cab_id\n",
        "WHERE t.start_ts :: date BETWEEN '2017-11-01' AND '2017-11-07'\n",
        "GROUP BY company\n",
        "ORDER BY trips_amount DESC;\n",
        "\n",
        "Resultado\n",
        "company\ttrips_amount\n",
        "Other\t335771\n",
        "Flash Cab\t64084\n",
        "Taxi Affiliation Services\t37583"
      ],
      "metadata": {
        "id": "dJAyNsXPFqNw"
      },
      "execution_count": null,
      "outputs": []
    },
    {
      "cell_type": "markdown",
      "source": [
        "# Ejercicios de 4 a 6: Prueba la hipótesis de que la duración de los viajes desde el Loop hasta el Aeropuerto Internacional O'Hare cambia los sábados lluviosos\n",
        "\n",
        "\n",
        "4. Recupera los identificadores de los barrios de O'Hare y Loop de la tabla neighborhoods."
      ],
      "metadata": {
        "id": "w6aoyiAzKBe2"
      }
    },
    {
      "cell_type": "code",
      "source": [
        "SELECT *\n",
        "FROM neighborhoods\n",
        "WHERE name LIKE '%Hare' OR name LIKE 'Loop'\n",
        "\n",
        "\n",
        "Resultado\n",
        "neighborhood_id\tname\n",
        "50\tLoop\n",
        "63\tO'Hare"
      ],
      "metadata": {
        "id": "Y3JJ_W_wMJRo"
      },
      "execution_count": null,
      "outputs": []
    },
    {
      "cell_type": "markdown",
      "source": [
        "5. Para cada hora recupera los registros de condiciones meteorológicas de la tabla weather_records. Usando el operador CASE, divide todas las horas en dos grupos: Bad si el campo description contiene las palabras rain o storm, y Good para los demás. Nombra el campo resultante weather_conditions. La tabla final debe incluir dos campos: fecha y hora (ts) y weather_conditions"
      ],
      "metadata": {
        "id": "mN_JXcrPKFjf"
      }
    },
    {
      "cell_type": "code",
      "source": [
        "SELECT ts,\n",
        "    CASE WHEN description LIKE '%rain%' THEN 'Bad'\n",
        "    WHEN description LIKE '%storm%' THEN 'Bad'\n",
        "    ELSE 'Good'\n",
        "    END AS weather_conditions\n",
        "FROM weather_records\n",
        "\n",
        "\n",
        "Resultado\n",
        "ts\tweather_conditions\n",
        "2017-11-01 00:00:00\tGood\n",
        "2017-11-01 01:00:00\tGood\n",
        "2017-11-01 02:00:00\tGood\n",
        "2017-11-01 03:00:00\tGood\n",
        "2017-11-01 04:00:00\tGood\n",
        "2017-11-01 05:00:00\tGood\n",
        "2017-11-01 06:00:00\tGood\n",
        "2017-11-01 07:00:00\tGood\n",
        "2017-11-01 08:00:00\tGood\n",
        "2017-11-01 09:00:00\tGood\n",
        "2017-11-01 10:00:00\tGood"
      ],
      "metadata": {
        "id": "VW5CtYDrPDlI"
      },
      "execution_count": null,
      "outputs": []
    },
    {
      "cell_type": "markdown",
      "source": [
        "6. Recupera de la tabla de trips todos los viajes que comenzaron en el Loop (pickup_location_id: 50) el sábado y terminaron en O'Hare (dropoff_location_id: 63). Obtén las condiciones climáticas para cada viaje. Utiliza el método que aplicaste en la tarea anterior. Recupera también la duración de cada viaje. Ignora los viajes para los que no hay datos disponibles sobre las condiciones climáticas.\n",
        "\n",
        "Las columnas de la tabla deben estar en el siguiente orden:\n",
        "\n",
        "start_ts\n",
        "weather_conditions\n",
        "duration_seconds\n",
        "Ordena por trip_id."
      ],
      "metadata": {
        "id": "WVXNo5iHPMF2"
      }
    },
    {
      "cell_type": "code",
      "source": [
        "SELECT t.start_ts AS start_ts,\n",
        "    sq.weather_conditions AS weather_conditions,\n",
        "    t.duration_seconds AS duration_seconds\n",
        "FROM\n",
        "(SELECT ts,\n",
        "    CASE WHEN description LIKE '%rain%' THEN 'Bad'\n",
        "    WHEN description LIKE '%storm%' THEN 'Bad'\n",
        "    ELSE 'Good'\n",
        "    END AS weather_conditions\n",
        "FROM weather_records) as sq INNER JOIN trips t ON sq.ts = t.start_ts\n",
        "WHERE t.pickup_location_id = 50 AND t.dropoff_location_id = 63\n",
        "AND EXTRACT(isodow FROM t.start_ts) = 6\n",
        "AND sq.weather_conditions IS NOT NULL\n",
        "ORDER BY t.trip_id\n",
        "\n",
        "\n",
        "Resultado\n",
        "start_ts\tweather_conditions\tduration_seconds\n",
        "2017-11-25 12:00:00\tGood\t1380\n",
        "2017-11-25 16:00:00\tGood\t2410\n",
        "2017-11-25 14:00:00\tGood\t1920\n",
        "2017-11-25 12:00:00\tGood\t1543\n",
        "2017-11-04 10:00:00\tGood\t2512\n",
        "2017-11-11 07:00:00\tGood\t1440\n",
        "2017-11-11 04:00:00\tGood\t1320\n",
        "2017-11-04 16:00:00\tBad\t2969\n",
        "2017-11-18 11:00:00\tGood\t2280\n",
        "2017-11-04 16:00:00\tBad\t3120\n",
        "2017-11-11 15:00:00\tGood\t4800"
      ],
      "metadata": {
        "id": "yuORuXjUTrI0"
      },
      "execution_count": null,
      "outputs": []
    }
  ]
}