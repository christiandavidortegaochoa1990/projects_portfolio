{
 "cells": [
  {
   "cell_type": "markdown",
   "metadata": {
    "id": "3rYiDeEH0q0f"
   },
   "source": [
    "# ¿Cuál es la mejor tarifa?\n",
    "\n",
    "Trabajas como analista para el operador de telecomunicaciones Megaline. La empresa ofrece a sus clientes dos tarifas de prepago, Surf y Ultimate. El departamento comercial quiere saber cuál de las tarifas genera más ingresos para poder ajustar el presupuesto de publicidad.\n",
    "\n",
    "Vas a realizar un análisis preliminar de las tarifas basado en una selección de clientes relativamente pequeña. Tendrás los datos de 500 clientes de Megaline: quiénes son los clientes, de dónde son, qué tarifa usan, así como la cantidad de llamadas que hicieron y los mensajes de texto que enviaron en 2018. Tu trabajo es analizar el comportamiento de los clientes y determinar qué tarifa de prepago genera más ingresos."
   ]
  },
  {
   "cell_type": "markdown",
   "metadata": {
    "id": "VNddPNRQ0q0w"
   },
   "source": [
    "[Te proporcionamos algunos comentarios para orientarte mientras completas este proyecto. Pero debes asegurarte de eliminar todos los comentarios entre corchetes antes de entregar tu proyecto.]\n",
    "\n",
    "[Antes de sumergirte en el análisis de datos, explica por tu propia cuenta el propósito del proyecto y las acciones que planeas realizar.]\n",
    "\n",
    "[Ten en cuenta que estudiar, modificar y analizar datos es un proceso iterativo. Es normal volver a los pasos anteriores y corregirlos/ampliarlos para permitir nuevos pasos.]"
   ]
  },
  {
   "cell_type": "markdown",
   "metadata": {
    "id": "MQi4IPy70q0y"
   },
   "source": [
    "## Inicialización"
   ]
  },
  {
   "cell_type": "code",
   "execution_count": 1,
   "metadata": {
    "id": "MtYIuBxu0q0z"
   },
   "outputs": [],
   "source": [
    "# Cargar todas las librerías\n",
    "\n",
    "import pandas as pd\n",
    "import numpy as np\n",
    "import seaborn as sns\n",
    "from matplotlib import pyplot as plt\n",
    "from scipy import stats as st\n",
    "\n"
   ]
  },
  {
   "cell_type": "markdown",
   "metadata": {},
   "source": [
    "<div class=\"alert alert-block alert-warning\">\n",
    "<b>Comentario revisor</b> <a class=\"tocSkip\"></a>\n",
    "\n",
    "\n",
    "Recomiendo cargar la libreria math. De esta manera, puedes realizar redondeos con otros métodos. \n",
    "</div>"
   ]
  },
  {
   "cell_type": "markdown",
   "metadata": {
    "id": "4ysWWC5i0q00"
   },
   "source": [
    "## Cargar datos"
   ]
  },
  {
   "cell_type": "code",
   "execution_count": 2,
   "metadata": {
    "id": "CCqPW7rS0q01"
   },
   "outputs": [],
   "source": [
    "# Carga los archivos de datos en diferentes DataFrames\n",
    "\n",
    "users = pd.read_csv('/datasets/megaline_users.csv')\n",
    "\n",
    "calls = pd.read_csv('/datasets/megaline_calls.csv')\n",
    "\n",
    "messages = pd.read_csv('/datasets/megaline_messages.csv')\n",
    "\n",
    "internet = pd.read_csv('/datasets/megaline_internet.csv')\n",
    "\n",
    "plans = pd.read_csv('/datasets/megaline_plans.csv')"
   ]
  },
  {
   "cell_type": "markdown",
   "metadata": {
    "id": "69qqoJ3r0q01"
   },
   "source": [
    "## Preparar los datos"
   ]
  },
  {
   "cell_type": "markdown",
   "metadata": {
    "id": "vUuZw80S0q01"
   },
   "source": [
    "[Los datos para este proyecto se dividen en varias tablas. Explora cada una para tener una comprensión inicial de los datos. Si es necesario, haz las correcciones requeridas en cada tabla.]"
   ]
  },
  {
   "cell_type": "markdown",
   "metadata": {
    "id": "ohBhimvH0q01"
   },
   "source": [
    "## Tarifas"
   ]
  },
  {
   "cell_type": "code",
   "execution_count": 3,
   "metadata": {
    "id": "GptqP3Q40q02"
   },
   "outputs": [
    {
     "name": "stdout",
     "output_type": "stream",
     "text": [
      "<class 'pandas.core.frame.DataFrame'>\n",
      "RangeIndex: 2 entries, 0 to 1\n",
      "Data columns (total 8 columns):\n",
      " #   Column                 Non-Null Count  Dtype  \n",
      "---  ------                 --------------  -----  \n",
      " 0   messages_included      2 non-null      int64  \n",
      " 1   mb_per_month_included  2 non-null      int64  \n",
      " 2   minutes_included       2 non-null      int64  \n",
      " 3   usd_monthly_pay        2 non-null      int64  \n",
      " 4   usd_per_gb             2 non-null      int64  \n",
      " 5   usd_per_message        2 non-null      float64\n",
      " 6   usd_per_minute         2 non-null      float64\n",
      " 7   plan_name              2 non-null      object \n",
      "dtypes: float64(2), int64(5), object(1)\n",
      "memory usage: 256.0+ bytes\n"
     ]
    },
    {
     "data": {
      "text/plain": [
       "None"
      ]
     },
     "metadata": {},
     "output_type": "display_data"
    }
   ],
   "source": [
    "# Imprime la información general/resumida sobre el DataFrame de las tarifas\n",
    "\n",
    "#Información de DataFrame plans:\n",
    "\n",
    "display(plans.info())\n"
   ]
  },
  {
   "cell_type": "code",
   "execution_count": 4,
   "metadata": {
    "id": "64xzjwL70q02"
   },
   "outputs": [
    {
     "data": {
      "text/html": [
       "<div>\n",
       "<style scoped>\n",
       "    .dataframe tbody tr th:only-of-type {\n",
       "        vertical-align: middle;\n",
       "    }\n",
       "\n",
       "    .dataframe tbody tr th {\n",
       "        vertical-align: top;\n",
       "    }\n",
       "\n",
       "    .dataframe thead th {\n",
       "        text-align: right;\n",
       "    }\n",
       "</style>\n",
       "<table border=\"1\" class=\"dataframe\">\n",
       "  <thead>\n",
       "    <tr style=\"text-align: right;\">\n",
       "      <th></th>\n",
       "      <th>messages_included</th>\n",
       "      <th>mb_per_month_included</th>\n",
       "      <th>minutes_included</th>\n",
       "      <th>usd_monthly_pay</th>\n",
       "      <th>usd_per_gb</th>\n",
       "      <th>usd_per_message</th>\n",
       "      <th>usd_per_minute</th>\n",
       "      <th>plan_name</th>\n",
       "    </tr>\n",
       "  </thead>\n",
       "  <tbody>\n",
       "    <tr>\n",
       "      <th>0</th>\n",
       "      <td>50</td>\n",
       "      <td>15360</td>\n",
       "      <td>500</td>\n",
       "      <td>20</td>\n",
       "      <td>10</td>\n",
       "      <td>0.03</td>\n",
       "      <td>0.03</td>\n",
       "      <td>surf</td>\n",
       "    </tr>\n",
       "    <tr>\n",
       "      <th>1</th>\n",
       "      <td>1000</td>\n",
       "      <td>30720</td>\n",
       "      <td>3000</td>\n",
       "      <td>70</td>\n",
       "      <td>7</td>\n",
       "      <td>0.01</td>\n",
       "      <td>0.01</td>\n",
       "      <td>ultimate</td>\n",
       "    </tr>\n",
       "  </tbody>\n",
       "</table>\n",
       "</div>"
      ],
      "text/plain": [
       "   messages_included  mb_per_month_included  minutes_included  \\\n",
       "0                 50                  15360               500   \n",
       "1               1000                  30720              3000   \n",
       "\n",
       "   usd_monthly_pay  usd_per_gb  usd_per_message  usd_per_minute plan_name  \n",
       "0               20          10             0.03            0.03      surf  \n",
       "1               70           7             0.01            0.01  ultimate  "
      ]
     },
     "metadata": {},
     "output_type": "display_data"
    }
   ],
   "source": [
    "# Imprime una muestra de los datos para las tarifas\n",
    "\n",
    "display(plans.sample(2))"
   ]
  },
  {
   "cell_type": "markdown",
   "metadata": {
    "id": "mEc_3_hs0q02"
   },
   "source": [
    "[Describe lo que ves y observas en la información general y en la muestra de datos impresa para el precio de datos anterior. ¿Hay algún problema (tipos de datos no adecuados, datos ausentes, etc.) que pudieran necesitar investigación y cambios adicionales? ¿Cómo se puede arreglar?]"
   ]
  },
  {
   "cell_type": "markdown",
   "metadata": {},
   "source": [
    "Esta tabla es dimensional. Contiene información sobre los planes y paquetes ofrecidos por la compañía en sólo dos filas de información. De momento la tabla no requiere ninguna modificación.\n",
    "\n"
   ]
  },
  {
   "cell_type": "markdown",
   "metadata": {
    "id": "R3C05i1l0q03"
   },
   "source": [
    "## Corregir datos"
   ]
  },
  {
   "cell_type": "markdown",
   "metadata": {
    "id": "bIi8StZI0q03"
   },
   "source": [
    "[Corrige los problemas obvios con los datos basándote en las observaciones iniciales.]"
   ]
  },
  {
   "cell_type": "code",
   "execution_count": 5,
   "metadata": {
    "id": "Y7SVmjGn0q03"
   },
   "outputs": [],
   "source": [
    "#la tabla plans no requiere de momento ser corregida ni modificada."
   ]
  },
  {
   "cell_type": "markdown",
   "metadata": {
    "id": "LJir7bml0q03"
   },
   "source": [
    "## Enriquecer los datos"
   ]
  },
  {
   "cell_type": "markdown",
   "metadata": {
    "id": "eqADpCfg0q04"
   },
   "source": [
    "[Agrega factores adicionales a los datos si crees que pudieran ser útiles.]"
   ]
  },
  {
   "cell_type": "code",
   "execution_count": 6,
   "metadata": {
    "id": "gfcIEuXV0q04"
   },
   "outputs": [],
   "source": [
    "#la tabla plans no requiere de momento ser corregida ni modificada."
   ]
  },
  {
   "cell_type": "markdown",
   "metadata": {
    "id": "1n2X6WXf0q04"
   },
   "source": [
    "## Usuarios/as"
   ]
  },
  {
   "cell_type": "code",
   "execution_count": 7,
   "metadata": {
    "id": "2NgjWFqx0q05"
   },
   "outputs": [
    {
     "name": "stdout",
     "output_type": "stream",
     "text": [
      "<class 'pandas.core.frame.DataFrame'>\n",
      "RangeIndex: 500 entries, 0 to 499\n",
      "Data columns (total 8 columns):\n",
      " #   Column      Non-Null Count  Dtype \n",
      "---  ------      --------------  ----- \n",
      " 0   user_id     500 non-null    int64 \n",
      " 1   first_name  500 non-null    object\n",
      " 2   last_name   500 non-null    object\n",
      " 3   age         500 non-null    int64 \n",
      " 4   city        500 non-null    object\n",
      " 5   reg_date    500 non-null    object\n",
      " 6   plan        500 non-null    object\n",
      " 7   churn_date  34 non-null     object\n",
      "dtypes: int64(2), object(6)\n",
      "memory usage: 31.4+ KB\n"
     ]
    },
    {
     "data": {
      "text/plain": [
       "None"
      ]
     },
     "metadata": {},
     "output_type": "display_data"
    }
   ],
   "source": [
    "# Imprime la información general/resumida sobre el DataFrame de usuarios\n",
    "\n",
    "#Información de DataFrame users:\n",
    "\n",
    "\n",
    "display(users.info())"
   ]
  },
  {
   "cell_type": "code",
   "execution_count": 8,
   "metadata": {
    "id": "1IN1L9uh0q05"
   },
   "outputs": [
    {
     "data": {
      "text/html": [
       "<div>\n",
       "<style scoped>\n",
       "    .dataframe tbody tr th:only-of-type {\n",
       "        vertical-align: middle;\n",
       "    }\n",
       "\n",
       "    .dataframe tbody tr th {\n",
       "        vertical-align: top;\n",
       "    }\n",
       "\n",
       "    .dataframe thead th {\n",
       "        text-align: right;\n",
       "    }\n",
       "</style>\n",
       "<table border=\"1\" class=\"dataframe\">\n",
       "  <thead>\n",
       "    <tr style=\"text-align: right;\">\n",
       "      <th></th>\n",
       "      <th>user_id</th>\n",
       "      <th>first_name</th>\n",
       "      <th>last_name</th>\n",
       "      <th>age</th>\n",
       "      <th>city</th>\n",
       "      <th>reg_date</th>\n",
       "      <th>plan</th>\n",
       "      <th>churn_date</th>\n",
       "    </tr>\n",
       "  </thead>\n",
       "  <tbody>\n",
       "    <tr>\n",
       "      <th>317</th>\n",
       "      <td>1317</td>\n",
       "      <td>Ruthanne</td>\n",
       "      <td>Heath</td>\n",
       "      <td>70</td>\n",
       "      <td>Phoenix-Mesa-Chandler, AZ MSA</td>\n",
       "      <td>2018-11-11</td>\n",
       "      <td>ultimate</td>\n",
       "      <td>NaN</td>\n",
       "    </tr>\n",
       "    <tr>\n",
       "      <th>32</th>\n",
       "      <td>1032</td>\n",
       "      <td>Delila</td>\n",
       "      <td>Dalton</td>\n",
       "      <td>59</td>\n",
       "      <td>Birmingham-Hoover, AL MSA</td>\n",
       "      <td>2018-06-07</td>\n",
       "      <td>ultimate</td>\n",
       "      <td>NaN</td>\n",
       "    </tr>\n",
       "    <tr>\n",
       "      <th>324</th>\n",
       "      <td>1324</td>\n",
       "      <td>Romana</td>\n",
       "      <td>Moore</td>\n",
       "      <td>18</td>\n",
       "      <td>Minneapolis-St. Paul-Bloomington, MN-WI MSA</td>\n",
       "      <td>2018-04-04</td>\n",
       "      <td>surf</td>\n",
       "      <td>NaN</td>\n",
       "    </tr>\n",
       "    <tr>\n",
       "      <th>202</th>\n",
       "      <td>1202</td>\n",
       "      <td>Osvaldo</td>\n",
       "      <td>Mayer</td>\n",
       "      <td>36</td>\n",
       "      <td>Minneapolis-St. Paul-Bloomington, MN-WI MSA</td>\n",
       "      <td>2018-09-30</td>\n",
       "      <td>ultimate</td>\n",
       "      <td>NaN</td>\n",
       "    </tr>\n",
       "    <tr>\n",
       "      <th>259</th>\n",
       "      <td>1259</td>\n",
       "      <td>Etsuko</td>\n",
       "      <td>Perry</td>\n",
       "      <td>63</td>\n",
       "      <td>Philadelphia-Camden-Wilmington, PA-NJ-DE-MD MSA</td>\n",
       "      <td>2018-03-16</td>\n",
       "      <td>surf</td>\n",
       "      <td>NaN</td>\n",
       "    </tr>\n",
       "    <tr>\n",
       "      <th>3</th>\n",
       "      <td>1003</td>\n",
       "      <td>Reynaldo</td>\n",
       "      <td>Jenkins</td>\n",
       "      <td>52</td>\n",
       "      <td>Tulsa, OK MSA</td>\n",
       "      <td>2018-01-28</td>\n",
       "      <td>surf</td>\n",
       "      <td>NaN</td>\n",
       "    </tr>\n",
       "    <tr>\n",
       "      <th>477</th>\n",
       "      <td>1477</td>\n",
       "      <td>Magaly</td>\n",
       "      <td>Rivas</td>\n",
       "      <td>52</td>\n",
       "      <td>Riverside-San Bernardino-Ontario, CA MSA</td>\n",
       "      <td>2018-08-24</td>\n",
       "      <td>ultimate</td>\n",
       "      <td>NaN</td>\n",
       "    </tr>\n",
       "    <tr>\n",
       "      <th>52</th>\n",
       "      <td>1052</td>\n",
       "      <td>Edmond</td>\n",
       "      <td>Hopkins</td>\n",
       "      <td>47</td>\n",
       "      <td>Houston-The Woodlands-Sugar Land, TX MSA</td>\n",
       "      <td>2018-03-05</td>\n",
       "      <td>surf</td>\n",
       "      <td>NaN</td>\n",
       "    </tr>\n",
       "    <tr>\n",
       "      <th>297</th>\n",
       "      <td>1297</td>\n",
       "      <td>Nicky</td>\n",
       "      <td>Tucker</td>\n",
       "      <td>51</td>\n",
       "      <td>Los Angeles-Long Beach-Anaheim, CA MSA</td>\n",
       "      <td>2018-08-25</td>\n",
       "      <td>surf</td>\n",
       "      <td>NaN</td>\n",
       "    </tr>\n",
       "    <tr>\n",
       "      <th>280</th>\n",
       "      <td>1280</td>\n",
       "      <td>Jasper</td>\n",
       "      <td>Berry</td>\n",
       "      <td>29</td>\n",
       "      <td>New York-Newark-Jersey City, NY-NJ-PA MSA</td>\n",
       "      <td>2018-06-23</td>\n",
       "      <td>surf</td>\n",
       "      <td>NaN</td>\n",
       "    </tr>\n",
       "  </tbody>\n",
       "</table>\n",
       "</div>"
      ],
      "text/plain": [
       "     user_id first_name last_name  age  \\\n",
       "317     1317   Ruthanne     Heath   70   \n",
       "32      1032     Delila    Dalton   59   \n",
       "324     1324     Romana     Moore   18   \n",
       "202     1202    Osvaldo     Mayer   36   \n",
       "259     1259     Etsuko     Perry   63   \n",
       "3       1003   Reynaldo   Jenkins   52   \n",
       "477     1477     Magaly     Rivas   52   \n",
       "52      1052     Edmond   Hopkins   47   \n",
       "297     1297      Nicky    Tucker   51   \n",
       "280     1280     Jasper     Berry   29   \n",
       "\n",
       "                                                city    reg_date      plan  \\\n",
       "317                    Phoenix-Mesa-Chandler, AZ MSA  2018-11-11  ultimate   \n",
       "32                         Birmingham-Hoover, AL MSA  2018-06-07  ultimate   \n",
       "324      Minneapolis-St. Paul-Bloomington, MN-WI MSA  2018-04-04      surf   \n",
       "202      Minneapolis-St. Paul-Bloomington, MN-WI MSA  2018-09-30  ultimate   \n",
       "259  Philadelphia-Camden-Wilmington, PA-NJ-DE-MD MSA  2018-03-16      surf   \n",
       "3                                      Tulsa, OK MSA  2018-01-28      surf   \n",
       "477         Riverside-San Bernardino-Ontario, CA MSA  2018-08-24  ultimate   \n",
       "52          Houston-The Woodlands-Sugar Land, TX MSA  2018-03-05      surf   \n",
       "297           Los Angeles-Long Beach-Anaheim, CA MSA  2018-08-25      surf   \n",
       "280        New York-Newark-Jersey City, NY-NJ-PA MSA  2018-06-23      surf   \n",
       "\n",
       "    churn_date  \n",
       "317        NaN  \n",
       "32         NaN  \n",
       "324        NaN  \n",
       "202        NaN  \n",
       "259        NaN  \n",
       "3          NaN  \n",
       "477        NaN  \n",
       "52         NaN  \n",
       "297        NaN  \n",
       "280        NaN  "
      ]
     },
     "metadata": {},
     "output_type": "display_data"
    }
   ],
   "source": [
    "# Imprime una muestra de datos para usuarios\n",
    "\n",
    "display(users.sample(10))"
   ]
  },
  {
   "cell_type": "markdown",
   "metadata": {
    "id": "dCZoUq4f0q06"
   },
   "source": [
    "[Describe lo que ves y observas en la información general y en la muestra de datos impresa para el precio de datos anterior. ¿Hay algún problema (tipos de datos no adecuados, datos ausentes, etc.) que pudieran necesitar investigación y cambios adicionales? ¿Cómo se puede arreglar?]"
   ]
  },
  {
   "cell_type": "markdown",
   "metadata": {},
   "source": [
    "   \n",
    "Al realizar una revisión de los datos, podemos observar lo siguiente:\n",
    "    \n",
    "1. La columna 'reg_date' (que hace referencia a la fecha de suscripción en formato (dd, mm, aa) es un tipo object. Si     queremos realizar cualquier análisis, será necesario convertirla a DateTime.\n",
    "    \n",
    "2. La columna 'churn_date contiene sólo 34 registros de tipo fecha. De momento lo que haremos será asignarle el registro 'active' a los valores nulos de esta columna. En caso que sea necesario hacer un análisis sobre los 34 registros de fechas, se filtrarán y luego se procede con el cambio a tipo datetime64[ns]\n",
    "\n",
    "3. Se revisarán los posibles datos duplicados\n"
   ]
  },
  {
   "cell_type": "markdown",
   "metadata": {
    "id": "BX5FQh_I0q06"
   },
   "source": [
    "### Corregir los datos"
   ]
  },
  {
   "cell_type": "markdown",
   "metadata": {
    "id": "8OdKMwJv0q06"
   },
   "source": [
    "[Corrige los problemas obvios con los datos basándote en las observaciones iniciales.]"
   ]
  },
  {
   "cell_type": "code",
   "execution_count": 9,
   "metadata": {},
   "outputs": [
    {
     "data": {
      "text/plain": [
       "0     2018-12-24\n",
       "1     2018-08-13\n",
       "2     2018-10-21\n",
       "3     2018-01-28\n",
       "4     2018-05-23\n",
       "         ...    \n",
       "495   2018-09-04\n",
       "496   2018-02-20\n",
       "497   2018-12-10\n",
       "498   2018-02-04\n",
       "499   2018-05-06\n",
       "Name: reg_date, Length: 500, dtype: datetime64[ns]"
      ]
     },
     "metadata": {},
     "output_type": "display_data"
    }
   ],
   "source": [
    "#Se procede a realizar el cambio del tipo de dato en la columna 'reg_date' a datetime:\n",
    "\n",
    "users['reg_date'] = pd.to_datetime(users['reg_date'], format='%Y-%m-%dT')\n",
    "\n",
    "display(users['reg_date'])"
   ]
  },
  {
   "cell_type": "code",
   "execution_count": 10,
   "metadata": {},
   "outputs": [
    {
     "data": {
      "text/plain": [
       "user_id       0.0\n",
       "first_name    0.0\n",
       "last_name     0.0\n",
       "age           0.0\n",
       "city          0.0\n",
       "plan          0.0\n",
       "churn_date    0.0\n",
       "dtype: float64"
      ]
     },
     "metadata": {},
     "output_type": "display_data"
    },
    {
     "data": {
      "text/plain": [
       "user_id       0.0\n",
       "first_name    0.0\n",
       "last_name     0.0\n",
       "age           0.0\n",
       "city          0.0\n",
       "plan          0.0\n",
       "churn_date    0.0\n",
       "dtype: float64"
      ]
     },
     "metadata": {},
     "output_type": "display_data"
    }
   ],
   "source": [
    "#Ahora revisaremos si existen datos duplicados que afecten el análisis de esta tabla:\n",
    "\n",
    "duplicated_users = users[users.duplicated()]\n",
    "\n",
    "display(duplicated_users.sum())\n",
    "\n",
    "#Revisamos que ningún id de usuario esté duplicado:\n",
    "\n",
    "duplicated_user_id = users[users['user_id'].duplicated()]\n",
    "display(duplicated_user_id.sum())\n",
    "\n",
    "\n",
    "#Cabe destacar que en esta tabla, el resto de columnas pueden contener valores duplicados (nombres, edades, ciudades, planes y \n",
    "#fechas pueden contener valores duplicados)"
   ]
  },
  {
   "cell_type": "markdown",
   "metadata": {
    "id": "ycwuARJp0q07"
   },
   "source": [
    "### Enriquecer los datos"
   ]
  },
  {
   "cell_type": "code",
   "execution_count": 11,
   "metadata": {},
   "outputs": [
    {
     "data": {
      "text/plain": [
       "user_id         0\n",
       "first_name      0\n",
       "last_name       0\n",
       "age             0\n",
       "city            0\n",
       "reg_date        0\n",
       "plan            0\n",
       "churn_date    466\n",
       "dtype: int64"
      ]
     },
     "metadata": {},
     "output_type": "display_data"
    }
   ],
   "source": [
    "#Revisemos si existen datos nulos en el dataset users:\n",
    "display(users.isnull().sum())"
   ]
  },
  {
   "cell_type": "code",
   "execution_count": 12,
   "metadata": {
    "id": "yUqX-K0C0q07"
   },
   "outputs": [
    {
     "data": {
      "text/html": [
       "<div>\n",
       "<style scoped>\n",
       "    .dataframe tbody tr th:only-of-type {\n",
       "        vertical-align: middle;\n",
       "    }\n",
       "\n",
       "    .dataframe tbody tr th {\n",
       "        vertical-align: top;\n",
       "    }\n",
       "\n",
       "    .dataframe thead th {\n",
       "        text-align: right;\n",
       "    }\n",
       "</style>\n",
       "<table border=\"1\" class=\"dataframe\">\n",
       "  <thead>\n",
       "    <tr style=\"text-align: right;\">\n",
       "      <th></th>\n",
       "      <th>user_id</th>\n",
       "      <th>first_name</th>\n",
       "      <th>last_name</th>\n",
       "      <th>age</th>\n",
       "      <th>city</th>\n",
       "      <th>reg_date</th>\n",
       "      <th>plan</th>\n",
       "      <th>churn_date</th>\n",
       "    </tr>\n",
       "  </thead>\n",
       "  <tbody>\n",
       "    <tr>\n",
       "      <th>6</th>\n",
       "      <td>1006</td>\n",
       "      <td>Jesusa</td>\n",
       "      <td>Bradford</td>\n",
       "      <td>73</td>\n",
       "      <td>San Francisco-Oakland-Berkeley, CA MSA</td>\n",
       "      <td>2018-11-27</td>\n",
       "      <td>ultimate</td>\n",
       "      <td>2018-12-18</td>\n",
       "    </tr>\n",
       "    <tr>\n",
       "      <th>12</th>\n",
       "      <td>1012</td>\n",
       "      <td>Jonelle</td>\n",
       "      <td>Mcbride</td>\n",
       "      <td>59</td>\n",
       "      <td>Chicago-Naperville-Elgin, IL-IN-WI MSA</td>\n",
       "      <td>2018-06-28</td>\n",
       "      <td>surf</td>\n",
       "      <td>2018-11-16</td>\n",
       "    </tr>\n",
       "    <tr>\n",
       "      <th>22</th>\n",
       "      <td>1022</td>\n",
       "      <td>Bo</td>\n",
       "      <td>Snow</td>\n",
       "      <td>73</td>\n",
       "      <td>New York-Newark-Jersey City, NY-NJ-PA MSA</td>\n",
       "      <td>2018-04-20</td>\n",
       "      <td>surf</td>\n",
       "      <td>2018-09-07</td>\n",
       "    </tr>\n",
       "    <tr>\n",
       "      <th>40</th>\n",
       "      <td>1040</td>\n",
       "      <td>Paris</td>\n",
       "      <td>Santos</td>\n",
       "      <td>72</td>\n",
       "      <td>Philadelphia-Camden-Wilmington, PA-NJ-DE-MD MSA</td>\n",
       "      <td>2018-12-23</td>\n",
       "      <td>surf</td>\n",
       "      <td>2018-12-30</td>\n",
       "    </tr>\n",
       "    <tr>\n",
       "      <th>50</th>\n",
       "      <td>1050</td>\n",
       "      <td>Jone</td>\n",
       "      <td>Owen</td>\n",
       "      <td>23</td>\n",
       "      <td>Miami-Fort Lauderdale-West Palm Beach, FL MSA</td>\n",
       "      <td>2018-03-20</td>\n",
       "      <td>ultimate</td>\n",
       "      <td>2018-10-07</td>\n",
       "    </tr>\n",
       "    <tr>\n",
       "      <th>54</th>\n",
       "      <td>1054</td>\n",
       "      <td>Denis</td>\n",
       "      <td>Frost</td>\n",
       "      <td>50</td>\n",
       "      <td>Phoenix-Mesa-Chandler, AZ MSA</td>\n",
       "      <td>2018-04-21</td>\n",
       "      <td>surf</td>\n",
       "      <td>2018-12-31</td>\n",
       "    </tr>\n",
       "    <tr>\n",
       "      <th>67</th>\n",
       "      <td>1067</td>\n",
       "      <td>Robt</td>\n",
       "      <td>Allen</td>\n",
       "      <td>37</td>\n",
       "      <td>Grand Rapids-Kentwood, MI MSA</td>\n",
       "      <td>2018-09-24</td>\n",
       "      <td>surf</td>\n",
       "      <td>2018-11-24</td>\n",
       "    </tr>\n",
       "    <tr>\n",
       "      <th>83</th>\n",
       "      <td>1083</td>\n",
       "      <td>Lyndia</td>\n",
       "      <td>Acevedo</td>\n",
       "      <td>65</td>\n",
       "      <td>Los Angeles-Long Beach-Anaheim, CA MSA</td>\n",
       "      <td>2018-10-26</td>\n",
       "      <td>surf</td>\n",
       "      <td>2018-12-18</td>\n",
       "    </tr>\n",
       "    <tr>\n",
       "      <th>84</th>\n",
       "      <td>1084</td>\n",
       "      <td>Wiley</td>\n",
       "      <td>Mckinney</td>\n",
       "      <td>21</td>\n",
       "      <td>Miami-Fort Lauderdale-West Palm Beach, FL MSA</td>\n",
       "      <td>2018-06-04</td>\n",
       "      <td>surf</td>\n",
       "      <td>2018-11-11</td>\n",
       "    </tr>\n",
       "    <tr>\n",
       "      <th>94</th>\n",
       "      <td>1094</td>\n",
       "      <td>Walter</td>\n",
       "      <td>Petersen</td>\n",
       "      <td>54</td>\n",
       "      <td>Los Angeles-Long Beach-Anaheim, CA MSA</td>\n",
       "      <td>2018-10-30</td>\n",
       "      <td>surf</td>\n",
       "      <td>2018-12-12</td>\n",
       "    </tr>\n",
       "    <tr>\n",
       "      <th>106</th>\n",
       "      <td>1106</td>\n",
       "      <td>Eddy</td>\n",
       "      <td>Garrison</td>\n",
       "      <td>47</td>\n",
       "      <td>New York-Newark-Jersey City, NY-NJ-PA MSA</td>\n",
       "      <td>2018-05-10</td>\n",
       "      <td>surf</td>\n",
       "      <td>2018-11-14</td>\n",
       "    </tr>\n",
       "    <tr>\n",
       "      <th>129</th>\n",
       "      <td>1129</td>\n",
       "      <td>Marin</td>\n",
       "      <td>Bolton</td>\n",
       "      <td>70</td>\n",
       "      <td>Baton Rouge, LA MSA</td>\n",
       "      <td>2018-11-10</td>\n",
       "      <td>surf</td>\n",
       "      <td>2018-12-27</td>\n",
       "    </tr>\n",
       "    <tr>\n",
       "      <th>172</th>\n",
       "      <td>1172</td>\n",
       "      <td>Weldon</td>\n",
       "      <td>Robinson</td>\n",
       "      <td>72</td>\n",
       "      <td>Boston-Cambridge-Newton, MA-NH MSA</td>\n",
       "      <td>2018-03-30</td>\n",
       "      <td>surf</td>\n",
       "      <td>2018-11-29</td>\n",
       "    </tr>\n",
       "    <tr>\n",
       "      <th>180</th>\n",
       "      <td>1180</td>\n",
       "      <td>Wonda</td>\n",
       "      <td>Hays</td>\n",
       "      <td>24</td>\n",
       "      <td>New York-Newark-Jersey City, NY-NJ-PA MSA</td>\n",
       "      <td>2018-12-01</td>\n",
       "      <td>surf</td>\n",
       "      <td>2018-12-22</td>\n",
       "    </tr>\n",
       "    <tr>\n",
       "      <th>186</th>\n",
       "      <td>1186</td>\n",
       "      <td>Josiah</td>\n",
       "      <td>Douglas</td>\n",
       "      <td>55</td>\n",
       "      <td>Las Vegas-Henderson-Paradise, NV MSA</td>\n",
       "      <td>2018-12-22</td>\n",
       "      <td>ultimate</td>\n",
       "      <td>2018-12-31</td>\n",
       "    </tr>\n",
       "    <tr>\n",
       "      <th>191</th>\n",
       "      <td>1191</td>\n",
       "      <td>Zack</td>\n",
       "      <td>Waters</td>\n",
       "      <td>75</td>\n",
       "      <td>St. Louis, MO-IL MSA</td>\n",
       "      <td>2018-01-21</td>\n",
       "      <td>ultimate</td>\n",
       "      <td>2018-11-30</td>\n",
       "    </tr>\n",
       "    <tr>\n",
       "      <th>220</th>\n",
       "      <td>1220</td>\n",
       "      <td>Jack</td>\n",
       "      <td>Strong</td>\n",
       "      <td>26</td>\n",
       "      <td>Cincinnati, OH-KY-IN MSA</td>\n",
       "      <td>2018-04-22</td>\n",
       "      <td>surf</td>\n",
       "      <td>2018-10-13</td>\n",
       "    </tr>\n",
       "    <tr>\n",
       "      <th>246</th>\n",
       "      <td>1246</td>\n",
       "      <td>Stevie</td>\n",
       "      <td>Moran</td>\n",
       "      <td>69</td>\n",
       "      <td>Tampa-St. Petersburg-Clearwater, FL MSA</td>\n",
       "      <td>2018-01-09</td>\n",
       "      <td>ultimate</td>\n",
       "      <td>2018-07-31</td>\n",
       "    </tr>\n",
       "    <tr>\n",
       "      <th>269</th>\n",
       "      <td>1269</td>\n",
       "      <td>Irving</td>\n",
       "      <td>Thompson</td>\n",
       "      <td>39</td>\n",
       "      <td>Dallas-Fort Worth-Arlington, TX MSA</td>\n",
       "      <td>2018-09-13</td>\n",
       "      <td>ultimate</td>\n",
       "      <td>2018-12-15</td>\n",
       "    </tr>\n",
       "    <tr>\n",
       "      <th>281</th>\n",
       "      <td>1281</td>\n",
       "      <td>Zack</td>\n",
       "      <td>Hardy</td>\n",
       "      <td>39</td>\n",
       "      <td>Charlotte-Concord-Gastonia, NC-SC MSA</td>\n",
       "      <td>2018-07-23</td>\n",
       "      <td>surf</td>\n",
       "      <td>2018-11-14</td>\n",
       "    </tr>\n",
       "    <tr>\n",
       "      <th>296</th>\n",
       "      <td>1296</td>\n",
       "      <td>Weston</td>\n",
       "      <td>Conley</td>\n",
       "      <td>36</td>\n",
       "      <td>Miami-Fort Lauderdale-West Palm Beach, FL MSA</td>\n",
       "      <td>2018-10-20</td>\n",
       "      <td>ultimate</td>\n",
       "      <td>2018-12-18</td>\n",
       "    </tr>\n",
       "    <tr>\n",
       "      <th>298</th>\n",
       "      <td>1298</td>\n",
       "      <td>Loyce</td>\n",
       "      <td>Cooley</td>\n",
       "      <td>53</td>\n",
       "      <td>Nashville-Davidson–Murfreesboro–Franklin, TN MSA</td>\n",
       "      <td>2018-09-21</td>\n",
       "      <td>surf</td>\n",
       "      <td>2018-12-19</td>\n",
       "    </tr>\n",
       "    <tr>\n",
       "      <th>300</th>\n",
       "      <td>1300</td>\n",
       "      <td>Rene</td>\n",
       "      <td>Frost</td>\n",
       "      <td>23</td>\n",
       "      <td>New York-Newark-Jersey City, NY-NJ-PA MSA</td>\n",
       "      <td>2018-10-21</td>\n",
       "      <td>surf</td>\n",
       "      <td>2018-12-19</td>\n",
       "    </tr>\n",
       "    <tr>\n",
       "      <th>315</th>\n",
       "      <td>1315</td>\n",
       "      <td>Mora</td>\n",
       "      <td>Schroeder</td>\n",
       "      <td>45</td>\n",
       "      <td>Raleigh-Cary, NC MSA</td>\n",
       "      <td>2018-04-26</td>\n",
       "      <td>surf</td>\n",
       "      <td>2018-10-03</td>\n",
       "    </tr>\n",
       "    <tr>\n",
       "      <th>358</th>\n",
       "      <td>1358</td>\n",
       "      <td>Vaughn</td>\n",
       "      <td>Maldonado</td>\n",
       "      <td>20</td>\n",
       "      <td>New York-Newark-Jersey City, NY-NJ-PA MSA</td>\n",
       "      <td>2018-04-26</td>\n",
       "      <td>surf</td>\n",
       "      <td>2018-10-22</td>\n",
       "    </tr>\n",
       "    <tr>\n",
       "      <th>363</th>\n",
       "      <td>1363</td>\n",
       "      <td>Sandee</td>\n",
       "      <td>Lott</td>\n",
       "      <td>33</td>\n",
       "      <td>Seattle-Tacoma-Bellevue, WA MSA</td>\n",
       "      <td>2018-01-05</td>\n",
       "      <td>ultimate</td>\n",
       "      <td>2018-08-16</td>\n",
       "    </tr>\n",
       "    <tr>\n",
       "      <th>402</th>\n",
       "      <td>1402</td>\n",
       "      <td>Jesus</td>\n",
       "      <td>Berry</td>\n",
       "      <td>25</td>\n",
       "      <td>New York-Newark-Jersey City, NY-NJ-PA MSA</td>\n",
       "      <td>2018-06-11</td>\n",
       "      <td>surf</td>\n",
       "      <td>2018-12-26</td>\n",
       "    </tr>\n",
       "    <tr>\n",
       "      <th>414</th>\n",
       "      <td>1414</td>\n",
       "      <td>Georgianne</td>\n",
       "      <td>Herring</td>\n",
       "      <td>30</td>\n",
       "      <td>Urban Honolulu, HI MSA</td>\n",
       "      <td>2018-03-03</td>\n",
       "      <td>surf</td>\n",
       "      <td>2018-09-01</td>\n",
       "    </tr>\n",
       "    <tr>\n",
       "      <th>416</th>\n",
       "      <td>1416</td>\n",
       "      <td>Deja</td>\n",
       "      <td>Moss</td>\n",
       "      <td>25</td>\n",
       "      <td>Minneapolis-St. Paul-Bloomington, MN-WI MSA</td>\n",
       "      <td>2018-10-03</td>\n",
       "      <td>surf</td>\n",
       "      <td>2018-11-21</td>\n",
       "    </tr>\n",
       "    <tr>\n",
       "      <th>441</th>\n",
       "      <td>1441</td>\n",
       "      <td>Piedad</td>\n",
       "      <td>Myers</td>\n",
       "      <td>23</td>\n",
       "      <td>Atlanta-Sandy Springs-Roswell, GA MSA</td>\n",
       "      <td>2018-03-08</td>\n",
       "      <td>ultimate</td>\n",
       "      <td>2018-08-19</td>\n",
       "    </tr>\n",
       "    <tr>\n",
       "      <th>451</th>\n",
       "      <td>1451</td>\n",
       "      <td>Lenard</td>\n",
       "      <td>Harding</td>\n",
       "      <td>53</td>\n",
       "      <td>Charlotte-Concord-Gastonia, NC-SC MSA</td>\n",
       "      <td>2018-02-15</td>\n",
       "      <td>ultimate</td>\n",
       "      <td>2018-12-10</td>\n",
       "    </tr>\n",
       "    <tr>\n",
       "      <th>466</th>\n",
       "      <td>1466</td>\n",
       "      <td>Alphonse</td>\n",
       "      <td>Harmon</td>\n",
       "      <td>56</td>\n",
       "      <td>Los Angeles-Long Beach-Anaheim, CA MSA</td>\n",
       "      <td>2018-01-26</td>\n",
       "      <td>surf</td>\n",
       "      <td>2018-09-17</td>\n",
       "    </tr>\n",
       "    <tr>\n",
       "      <th>467</th>\n",
       "      <td>1467</td>\n",
       "      <td>Nickolas</td>\n",
       "      <td>Deleon</td>\n",
       "      <td>64</td>\n",
       "      <td>Atlanta-Sandy Springs-Roswell, GA MSA</td>\n",
       "      <td>2018-01-31</td>\n",
       "      <td>ultimate</td>\n",
       "      <td>2018-11-18</td>\n",
       "    </tr>\n",
       "    <tr>\n",
       "      <th>491</th>\n",
       "      <td>1491</td>\n",
       "      <td>Terina</td>\n",
       "      <td>Jensen</td>\n",
       "      <td>22</td>\n",
       "      <td>Grand Rapids-Kentwood, MI MSA</td>\n",
       "      <td>2018-04-27</td>\n",
       "      <td>surf</td>\n",
       "      <td>2018-09-18</td>\n",
       "    </tr>\n",
       "  </tbody>\n",
       "</table>\n",
       "</div>"
      ],
      "text/plain": [
       "     user_id  first_name  last_name  age  \\\n",
       "6       1006      Jesusa   Bradford   73   \n",
       "12      1012     Jonelle    Mcbride   59   \n",
       "22      1022          Bo       Snow   73   \n",
       "40      1040       Paris     Santos   72   \n",
       "50      1050        Jone       Owen   23   \n",
       "54      1054       Denis      Frost   50   \n",
       "67      1067        Robt      Allen   37   \n",
       "83      1083      Lyndia    Acevedo   65   \n",
       "84      1084       Wiley   Mckinney   21   \n",
       "94      1094      Walter   Petersen   54   \n",
       "106     1106        Eddy   Garrison   47   \n",
       "129     1129       Marin     Bolton   70   \n",
       "172     1172      Weldon   Robinson   72   \n",
       "180     1180       Wonda       Hays   24   \n",
       "186     1186      Josiah    Douglas   55   \n",
       "191     1191        Zack     Waters   75   \n",
       "220     1220        Jack     Strong   26   \n",
       "246     1246      Stevie      Moran   69   \n",
       "269     1269      Irving   Thompson   39   \n",
       "281     1281        Zack      Hardy   39   \n",
       "296     1296      Weston     Conley   36   \n",
       "298     1298       Loyce     Cooley   53   \n",
       "300     1300        Rene      Frost   23   \n",
       "315     1315        Mora  Schroeder   45   \n",
       "358     1358      Vaughn  Maldonado   20   \n",
       "363     1363      Sandee       Lott   33   \n",
       "402     1402       Jesus      Berry   25   \n",
       "414     1414  Georgianne    Herring   30   \n",
       "416     1416        Deja       Moss   25   \n",
       "441     1441      Piedad      Myers   23   \n",
       "451     1451      Lenard    Harding   53   \n",
       "466     1466    Alphonse     Harmon   56   \n",
       "467     1467    Nickolas     Deleon   64   \n",
       "491     1491      Terina     Jensen   22   \n",
       "\n",
       "                                                 city   reg_date      plan  \\\n",
       "6              San Francisco-Oakland-Berkeley, CA MSA 2018-11-27  ultimate   \n",
       "12             Chicago-Naperville-Elgin, IL-IN-WI MSA 2018-06-28      surf   \n",
       "22          New York-Newark-Jersey City, NY-NJ-PA MSA 2018-04-20      surf   \n",
       "40    Philadelphia-Camden-Wilmington, PA-NJ-DE-MD MSA 2018-12-23      surf   \n",
       "50      Miami-Fort Lauderdale-West Palm Beach, FL MSA 2018-03-20  ultimate   \n",
       "54                      Phoenix-Mesa-Chandler, AZ MSA 2018-04-21      surf   \n",
       "67                      Grand Rapids-Kentwood, MI MSA 2018-09-24      surf   \n",
       "83             Los Angeles-Long Beach-Anaheim, CA MSA 2018-10-26      surf   \n",
       "84      Miami-Fort Lauderdale-West Palm Beach, FL MSA 2018-06-04      surf   \n",
       "94             Los Angeles-Long Beach-Anaheim, CA MSA 2018-10-30      surf   \n",
       "106         New York-Newark-Jersey City, NY-NJ-PA MSA 2018-05-10      surf   \n",
       "129                               Baton Rouge, LA MSA 2018-11-10      surf   \n",
       "172                Boston-Cambridge-Newton, MA-NH MSA 2018-03-30      surf   \n",
       "180         New York-Newark-Jersey City, NY-NJ-PA MSA 2018-12-01      surf   \n",
       "186              Las Vegas-Henderson-Paradise, NV MSA 2018-12-22  ultimate   \n",
       "191                              St. Louis, MO-IL MSA 2018-01-21  ultimate   \n",
       "220                          Cincinnati, OH-KY-IN MSA 2018-04-22      surf   \n",
       "246           Tampa-St. Petersburg-Clearwater, FL MSA 2018-01-09  ultimate   \n",
       "269               Dallas-Fort Worth-Arlington, TX MSA 2018-09-13  ultimate   \n",
       "281             Charlotte-Concord-Gastonia, NC-SC MSA 2018-07-23      surf   \n",
       "296     Miami-Fort Lauderdale-West Palm Beach, FL MSA 2018-10-20  ultimate   \n",
       "298  Nashville-Davidson–Murfreesboro–Franklin, TN MSA 2018-09-21      surf   \n",
       "300         New York-Newark-Jersey City, NY-NJ-PA MSA 2018-10-21      surf   \n",
       "315                              Raleigh-Cary, NC MSA 2018-04-26      surf   \n",
       "358         New York-Newark-Jersey City, NY-NJ-PA MSA 2018-04-26      surf   \n",
       "363                   Seattle-Tacoma-Bellevue, WA MSA 2018-01-05  ultimate   \n",
       "402         New York-Newark-Jersey City, NY-NJ-PA MSA 2018-06-11      surf   \n",
       "414                            Urban Honolulu, HI MSA 2018-03-03      surf   \n",
       "416       Minneapolis-St. Paul-Bloomington, MN-WI MSA 2018-10-03      surf   \n",
       "441             Atlanta-Sandy Springs-Roswell, GA MSA 2018-03-08  ultimate   \n",
       "451             Charlotte-Concord-Gastonia, NC-SC MSA 2018-02-15  ultimate   \n",
       "466            Los Angeles-Long Beach-Anaheim, CA MSA 2018-01-26      surf   \n",
       "467             Atlanta-Sandy Springs-Roswell, GA MSA 2018-01-31  ultimate   \n",
       "491                     Grand Rapids-Kentwood, MI MSA 2018-04-27      surf   \n",
       "\n",
       "     churn_date  \n",
       "6    2018-12-18  \n",
       "12   2018-11-16  \n",
       "22   2018-09-07  \n",
       "40   2018-12-30  \n",
       "50   2018-10-07  \n",
       "54   2018-12-31  \n",
       "67   2018-11-24  \n",
       "83   2018-12-18  \n",
       "84   2018-11-11  \n",
       "94   2018-12-12  \n",
       "106  2018-11-14  \n",
       "129  2018-12-27  \n",
       "172  2018-11-29  \n",
       "180  2018-12-22  \n",
       "186  2018-12-31  \n",
       "191  2018-11-30  \n",
       "220  2018-10-13  \n",
       "246  2018-07-31  \n",
       "269  2018-12-15  \n",
       "281  2018-11-14  \n",
       "296  2018-12-18  \n",
       "298  2018-12-19  \n",
       "300  2018-12-19  \n",
       "315  2018-10-03  \n",
       "358  2018-10-22  \n",
       "363  2018-08-16  \n",
       "402  2018-12-26  \n",
       "414  2018-09-01  \n",
       "416  2018-11-21  \n",
       "441  2018-08-19  \n",
       "451  2018-12-10  \n",
       "466  2018-09-17  \n",
       "467  2018-11-18  \n",
       "491  2018-09-18  "
      ]
     },
     "metadata": {},
     "output_type": "display_data"
    }
   ],
   "source": [
    "#Revisión de información de usuarios que contienen registros no-nulos en la columna 'churn_date':\n",
    "display(users[~users['churn_date'].isnull()])"
   ]
  },
  {
   "cell_type": "markdown",
   "metadata": {
    "id": "96NIh4CJ0q08"
   },
   "source": [
    "[Agrega factores adicionales a los datos si crees que pudieran ser útiles.]"
   ]
  },
  {
   "cell_type": "code",
   "execution_count": 13,
   "metadata": {
    "id": "iq0AaBS90q08"
   },
   "outputs": [
    {
     "data": {
      "text/html": [
       "<div>\n",
       "<style scoped>\n",
       "    .dataframe tbody tr th:only-of-type {\n",
       "        vertical-align: middle;\n",
       "    }\n",
       "\n",
       "    .dataframe tbody tr th {\n",
       "        vertical-align: top;\n",
       "    }\n",
       "\n",
       "    .dataframe thead th {\n",
       "        text-align: right;\n",
       "    }\n",
       "</style>\n",
       "<table border=\"1\" class=\"dataframe\">\n",
       "  <thead>\n",
       "    <tr style=\"text-align: right;\">\n",
       "      <th></th>\n",
       "      <th>user_id</th>\n",
       "      <th>first_name</th>\n",
       "      <th>last_name</th>\n",
       "      <th>age</th>\n",
       "      <th>city</th>\n",
       "      <th>reg_date</th>\n",
       "      <th>plan</th>\n",
       "      <th>churn_date</th>\n",
       "    </tr>\n",
       "  </thead>\n",
       "  <tbody>\n",
       "    <tr>\n",
       "      <th>0</th>\n",
       "      <td>1000</td>\n",
       "      <td>Anamaria</td>\n",
       "      <td>Bauer</td>\n",
       "      <td>45</td>\n",
       "      <td>Atlanta-Sandy Springs-Roswell, GA MSA</td>\n",
       "      <td>2018-12-24</td>\n",
       "      <td>ultimate</td>\n",
       "      <td>active</td>\n",
       "    </tr>\n",
       "    <tr>\n",
       "      <th>1</th>\n",
       "      <td>1001</td>\n",
       "      <td>Mickey</td>\n",
       "      <td>Wilkerson</td>\n",
       "      <td>28</td>\n",
       "      <td>Seattle-Tacoma-Bellevue, WA MSA</td>\n",
       "      <td>2018-08-13</td>\n",
       "      <td>surf</td>\n",
       "      <td>active</td>\n",
       "    </tr>\n",
       "    <tr>\n",
       "      <th>2</th>\n",
       "      <td>1002</td>\n",
       "      <td>Carlee</td>\n",
       "      <td>Hoffman</td>\n",
       "      <td>36</td>\n",
       "      <td>Las Vegas-Henderson-Paradise, NV MSA</td>\n",
       "      <td>2018-10-21</td>\n",
       "      <td>surf</td>\n",
       "      <td>active</td>\n",
       "    </tr>\n",
       "    <tr>\n",
       "      <th>3</th>\n",
       "      <td>1003</td>\n",
       "      <td>Reynaldo</td>\n",
       "      <td>Jenkins</td>\n",
       "      <td>52</td>\n",
       "      <td>Tulsa, OK MSA</td>\n",
       "      <td>2018-01-28</td>\n",
       "      <td>surf</td>\n",
       "      <td>active</td>\n",
       "    </tr>\n",
       "    <tr>\n",
       "      <th>4</th>\n",
       "      <td>1004</td>\n",
       "      <td>Leonila</td>\n",
       "      <td>Thompson</td>\n",
       "      <td>40</td>\n",
       "      <td>Seattle-Tacoma-Bellevue, WA MSA</td>\n",
       "      <td>2018-05-23</td>\n",
       "      <td>surf</td>\n",
       "      <td>active</td>\n",
       "    </tr>\n",
       "    <tr>\n",
       "      <th>5</th>\n",
       "      <td>1005</td>\n",
       "      <td>Livia</td>\n",
       "      <td>Shields</td>\n",
       "      <td>31</td>\n",
       "      <td>Dallas-Fort Worth-Arlington, TX MSA</td>\n",
       "      <td>2018-11-29</td>\n",
       "      <td>surf</td>\n",
       "      <td>active</td>\n",
       "    </tr>\n",
       "    <tr>\n",
       "      <th>6</th>\n",
       "      <td>1006</td>\n",
       "      <td>Jesusa</td>\n",
       "      <td>Bradford</td>\n",
       "      <td>73</td>\n",
       "      <td>San Francisco-Oakland-Berkeley, CA MSA</td>\n",
       "      <td>2018-11-27</td>\n",
       "      <td>ultimate</td>\n",
       "      <td>2018-12-18</td>\n",
       "    </tr>\n",
       "    <tr>\n",
       "      <th>7</th>\n",
       "      <td>1007</td>\n",
       "      <td>Eusebio</td>\n",
       "      <td>Welch</td>\n",
       "      <td>42</td>\n",
       "      <td>Grand Rapids-Kentwood, MI MSA</td>\n",
       "      <td>2018-07-11</td>\n",
       "      <td>surf</td>\n",
       "      <td>active</td>\n",
       "    </tr>\n",
       "    <tr>\n",
       "      <th>8</th>\n",
       "      <td>1008</td>\n",
       "      <td>Emely</td>\n",
       "      <td>Hoffman</td>\n",
       "      <td>53</td>\n",
       "      <td>Orlando-Kissimmee-Sanford, FL MSA</td>\n",
       "      <td>2018-08-03</td>\n",
       "      <td>ultimate</td>\n",
       "      <td>active</td>\n",
       "    </tr>\n",
       "    <tr>\n",
       "      <th>9</th>\n",
       "      <td>1009</td>\n",
       "      <td>Gerry</td>\n",
       "      <td>Little</td>\n",
       "      <td>19</td>\n",
       "      <td>San Jose-Sunnyvale-Santa Clara, CA MSA</td>\n",
       "      <td>2018-04-22</td>\n",
       "      <td>surf</td>\n",
       "      <td>active</td>\n",
       "    </tr>\n",
       "  </tbody>\n",
       "</table>\n",
       "</div>"
      ],
      "text/plain": [
       "   user_id first_name  last_name  age                                    city  \\\n",
       "0     1000   Anamaria      Bauer   45   Atlanta-Sandy Springs-Roswell, GA MSA   \n",
       "1     1001     Mickey  Wilkerson   28         Seattle-Tacoma-Bellevue, WA MSA   \n",
       "2     1002     Carlee    Hoffman   36    Las Vegas-Henderson-Paradise, NV MSA   \n",
       "3     1003   Reynaldo    Jenkins   52                           Tulsa, OK MSA   \n",
       "4     1004    Leonila   Thompson   40         Seattle-Tacoma-Bellevue, WA MSA   \n",
       "5     1005      Livia    Shields   31     Dallas-Fort Worth-Arlington, TX MSA   \n",
       "6     1006     Jesusa   Bradford   73  San Francisco-Oakland-Berkeley, CA MSA   \n",
       "7     1007    Eusebio      Welch   42           Grand Rapids-Kentwood, MI MSA   \n",
       "8     1008      Emely    Hoffman   53       Orlando-Kissimmee-Sanford, FL MSA   \n",
       "9     1009      Gerry     Little   19  San Jose-Sunnyvale-Santa Clara, CA MSA   \n",
       "\n",
       "    reg_date      plan  churn_date  \n",
       "0 2018-12-24  ultimate      active  \n",
       "1 2018-08-13      surf      active  \n",
       "2 2018-10-21      surf      active  \n",
       "3 2018-01-28      surf      active  \n",
       "4 2018-05-23      surf      active  \n",
       "5 2018-11-29      surf      active  \n",
       "6 2018-11-27  ultimate  2018-12-18  \n",
       "7 2018-07-11      surf      active  \n",
       "8 2018-08-03  ultimate      active  \n",
       "9 2018-04-22      surf      active  "
      ]
     },
     "metadata": {},
     "output_type": "display_data"
    }
   ],
   "source": [
    "#En el caso de la columna 'churn_date' sólo cambiaremos de momento los valores nulos por la palabra 'active', \n",
    "#así entenderemos que el usuario está activo. En caso de requerirlo, filtraremos los datos con fechas y haremos el cambio a\n",
    "#datetime\n",
    "\n",
    "users['churn_date'] = users['churn_date'].fillna('active')\n",
    "\n",
    "display(users.head(10))"
   ]
  },
  {
   "cell_type": "markdown",
   "metadata": {},
   "source": [
    "Listo, nuestro dataframe 'users' está listo para su posterior análisis.\n",
    "    \n",
    "    \n",
    "Ahora procederemos con el dataframe 'calls':\n",
    "\n"
   ]
  },
  {
   "cell_type": "markdown",
   "metadata": {
    "id": "o7MeKCid0q08"
   },
   "source": [
    "## Llamadas"
   ]
  },
  {
   "cell_type": "code",
   "execution_count": 14,
   "metadata": {
    "id": "6dDlnoDm0q08"
   },
   "outputs": [
    {
     "name": "stdout",
     "output_type": "stream",
     "text": [
      "<class 'pandas.core.frame.DataFrame'>\n",
      "RangeIndex: 137735 entries, 0 to 137734\n",
      "Data columns (total 4 columns):\n",
      " #   Column     Non-Null Count   Dtype  \n",
      "---  ------     --------------   -----  \n",
      " 0   id         137735 non-null  object \n",
      " 1   user_id    137735 non-null  int64  \n",
      " 2   call_date  137735 non-null  object \n",
      " 3   duration   137735 non-null  float64\n",
      "dtypes: float64(1), int64(1), object(2)\n",
      "memory usage: 4.2+ MB\n"
     ]
    },
    {
     "data": {
      "text/plain": [
       "None"
      ]
     },
     "metadata": {},
     "output_type": "display_data"
    }
   ],
   "source": [
    "# Imprime la información general/resumida sobre el DataFrame de las llamadas\n",
    "\n",
    "#Información de DataFrame calls:\n",
    "\n",
    "display(calls.info())"
   ]
  },
  {
   "cell_type": "code",
   "execution_count": 15,
   "metadata": {
    "id": "kuh1vlNB0q09"
   },
   "outputs": [
    {
     "data": {
      "text/html": [
       "<div>\n",
       "<style scoped>\n",
       "    .dataframe tbody tr th:only-of-type {\n",
       "        vertical-align: middle;\n",
       "    }\n",
       "\n",
       "    .dataframe tbody tr th {\n",
       "        vertical-align: top;\n",
       "    }\n",
       "\n",
       "    .dataframe thead th {\n",
       "        text-align: right;\n",
       "    }\n",
       "</style>\n",
       "<table border=\"1\" class=\"dataframe\">\n",
       "  <thead>\n",
       "    <tr style=\"text-align: right;\">\n",
       "      <th></th>\n",
       "      <th>id</th>\n",
       "      <th>user_id</th>\n",
       "      <th>call_date</th>\n",
       "      <th>duration</th>\n",
       "    </tr>\n",
       "  </thead>\n",
       "  <tbody>\n",
       "    <tr>\n",
       "      <th>65655</th>\n",
       "      <td>1237_262</td>\n",
       "      <td>1237</td>\n",
       "      <td>2018-12-02</td>\n",
       "      <td>3.82</td>\n",
       "    </tr>\n",
       "    <tr>\n",
       "      <th>77882</th>\n",
       "      <td>1279_10</td>\n",
       "      <td>1279</td>\n",
       "      <td>2018-10-27</td>\n",
       "      <td>5.00</td>\n",
       "    </tr>\n",
       "    <tr>\n",
       "      <th>68319</th>\n",
       "      <td>1246_338</td>\n",
       "      <td>1246</td>\n",
       "      <td>2018-05-19</td>\n",
       "      <td>1.71</td>\n",
       "    </tr>\n",
       "    <tr>\n",
       "      <th>115934</th>\n",
       "      <td>1406_160</td>\n",
       "      <td>1406</td>\n",
       "      <td>2018-11-27</td>\n",
       "      <td>11.03</td>\n",
       "    </tr>\n",
       "    <tr>\n",
       "      <th>74989</th>\n",
       "      <td>1264_323</td>\n",
       "      <td>1264</td>\n",
       "      <td>2018-11-29</td>\n",
       "      <td>1.55</td>\n",
       "    </tr>\n",
       "    <tr>\n",
       "      <th>114466</th>\n",
       "      <td>1401_172</td>\n",
       "      <td>1401</td>\n",
       "      <td>2018-10-08</td>\n",
       "      <td>8.61</td>\n",
       "    </tr>\n",
       "    <tr>\n",
       "      <th>90127</th>\n",
       "      <td>1327_52</td>\n",
       "      <td>1327</td>\n",
       "      <td>2018-10-21</td>\n",
       "      <td>5.27</td>\n",
       "    </tr>\n",
       "    <tr>\n",
       "      <th>137558</th>\n",
       "      <td>1499_27</td>\n",
       "      <td>1499</td>\n",
       "      <td>2018-10-21</td>\n",
       "      <td>6.46</td>\n",
       "    </tr>\n",
       "    <tr>\n",
       "      <th>94471</th>\n",
       "      <td>1336_337</td>\n",
       "      <td>1336</td>\n",
       "      <td>2018-04-25</td>\n",
       "      <td>0.00</td>\n",
       "    </tr>\n",
       "    <tr>\n",
       "      <th>46505</th>\n",
       "      <td>1168_569</td>\n",
       "      <td>1168</td>\n",
       "      <td>2018-12-23</td>\n",
       "      <td>12.94</td>\n",
       "    </tr>\n",
       "  </tbody>\n",
       "</table>\n",
       "</div>"
      ],
      "text/plain": [
       "              id  user_id   call_date  duration\n",
       "65655   1237_262     1237  2018-12-02      3.82\n",
       "77882    1279_10     1279  2018-10-27      5.00\n",
       "68319   1246_338     1246  2018-05-19      1.71\n",
       "115934  1406_160     1406  2018-11-27     11.03\n",
       "74989   1264_323     1264  2018-11-29      1.55\n",
       "114466  1401_172     1401  2018-10-08      8.61\n",
       "90127    1327_52     1327  2018-10-21      5.27\n",
       "137558   1499_27     1499  2018-10-21      6.46\n",
       "94471   1336_337     1336  2018-04-25      0.00\n",
       "46505   1168_569     1168  2018-12-23     12.94"
      ]
     },
     "metadata": {},
     "output_type": "display_data"
    }
   ],
   "source": [
    "# Imprime una muestra de datos para las llamadas\n",
    "\n",
    "display(calls.sample(10))"
   ]
  },
  {
   "cell_type": "markdown",
   "metadata": {
    "id": "DOAxYJSx0q09"
   },
   "source": [
    "[Describe lo que ves y observas en la información general y en la muestra de datos impresa para el precio de datos anterior. ¿Hay algún problema (tipos de datos no adecuados, datos ausentes, etc.) que pudieran necesitar investigación y cambios adicionales? ¿Cómo se puede arreglar?]"
   ]
  },
  {
   "cell_type": "markdown",
   "metadata": {},
   "source": [
    "  \n",
    "Al realizar una revisión de los datos, podemos observar lo siguiente:\n",
    "    \n",
    "1. Los registros están completos en todas las columnas de la tabla.\n",
    "2. El formato de la columna 'call_date' será modificado a datetime.\n",
    "3. Se revisarán los posibles datos duplicados.    \n",
    "\n"
   ]
  },
  {
   "cell_type": "markdown",
   "metadata": {
    "id": "S7hzxmbX0q0-"
   },
   "source": [
    "### Corregir los datos"
   ]
  },
  {
   "cell_type": "markdown",
   "metadata": {
    "id": "YxWyAjD20q0-"
   },
   "source": [
    "[Corrige los problemas obvios con los datos basándote en las observaciones iniciales.]"
   ]
  },
  {
   "cell_type": "code",
   "execution_count": 16,
   "metadata": {
    "id": "S2r8xA4f0q0-"
   },
   "outputs": [
    {
     "data": {
      "text/plain": [
       "id           0.0\n",
       "user_id      0.0\n",
       "call_date    0.0\n",
       "duration     0.0\n",
       "dtype: float64"
      ]
     },
     "metadata": {},
     "output_type": "display_data"
    },
    {
     "data": {
      "text/plain": [
       "0"
      ]
     },
     "metadata": {},
     "output_type": "display_data"
    }
   ],
   "source": [
    "#Revisión de datos duplicados en la tabla calls:\n",
    "\n",
    "duplicated_calls = calls[calls.duplicated()]\n",
    "\n",
    "display(duplicated_calls.sum())\n",
    "\n",
    "\n",
    "#Revisamos que ningún id de llamada esté duplicado:\n",
    "duplicated_id_calls = calls['id'].duplicated()\n",
    "display(duplicated_id_calls.sum())\n",
    "\n",
    "#Cabe destacar que en esta tabla, las columnas user_id y call_date pueden contener valores duplicados: Un usuario puede realizar\n",
    "#más de una llamada al día. Lo mismo la columna duration, una llamada pudo haber tenido la misma duración que otra."
   ]
  },
  {
   "cell_type": "markdown",
   "metadata": {
    "id": "KrMgTrlG0q0_"
   },
   "source": [
    "### Enriquecer los datos"
   ]
  },
  {
   "cell_type": "markdown",
   "metadata": {
    "id": "a9MbmEvE0q0_"
   },
   "source": [
    "[Agrega factores adicionales a los datos si crees que pudieran ser útiles.]"
   ]
  },
  {
   "cell_type": "code",
   "execution_count": 17,
   "metadata": {
    "id": "iZ1avpA_0q0_"
   },
   "outputs": [
    {
     "data": {
      "text/plain": [
       "0        2018-12-27\n",
       "1        2018-12-27\n",
       "2        2018-12-27\n",
       "3        2018-12-28\n",
       "4        2018-12-30\n",
       "            ...    \n",
       "137730   2018-11-21\n",
       "137731   2018-10-20\n",
       "137732   2018-09-21\n",
       "137733   2018-10-10\n",
       "137734   2018-12-29\n",
       "Name: call_date, Length: 137735, dtype: datetime64[ns]"
      ]
     },
     "metadata": {},
     "output_type": "display_data"
    }
   ],
   "source": [
    "#Modificación de columna 'call_date' a tipo datetime:\n",
    "\n",
    "calls['call_date'] = pd.to_datetime(calls['call_date'], format='%Y-%m-%dT')\n",
    "\n",
    "display(calls['call_date'])"
   ]
  },
  {
   "cell_type": "markdown",
   "metadata": {},
   "source": [
    "<div class=\"alert alert-block alert-warning\">\n",
    "<b>Comentario Revisor</b> <a class=\"tocSkip\"></a>\n",
    "\n",
    "Qué podríamos decir hasta el momento de las llamadas que tienen una duración de 0?\n",
    "</div>"
   ]
  },
  {
   "cell_type": "markdown",
   "metadata": {},
   "source": [
    "Listo nuestro dataframe calls.\n",
    "    \n",
    "Procedemos a revisar el dataframe messages\n"
   ]
  },
  {
   "cell_type": "markdown",
   "metadata": {
    "id": "mOUZSi180q0_"
   },
   "source": [
    "## Mensajes"
   ]
  },
  {
   "cell_type": "code",
   "execution_count": 18,
   "metadata": {
    "id": "R-bYJpdV0q1A"
   },
   "outputs": [
    {
     "name": "stdout",
     "output_type": "stream",
     "text": [
      "<class 'pandas.core.frame.DataFrame'>\n",
      "RangeIndex: 76051 entries, 0 to 76050\n",
      "Data columns (total 3 columns):\n",
      " #   Column        Non-Null Count  Dtype \n",
      "---  ------        --------------  ----- \n",
      " 0   id            76051 non-null  object\n",
      " 1   user_id       76051 non-null  int64 \n",
      " 2   message_date  76051 non-null  object\n",
      "dtypes: int64(1), object(2)\n",
      "memory usage: 1.7+ MB\n"
     ]
    },
    {
     "data": {
      "text/plain": [
       "None"
      ]
     },
     "metadata": {},
     "output_type": "display_data"
    }
   ],
   "source": [
    "# Imprime la información general/resumida sobre el DataFrame de los mensajes\n",
    "\n",
    "#Información de DataFrame messages:\n",
    "\n",
    "display(messages.info())"
   ]
  },
  {
   "cell_type": "code",
   "execution_count": 19,
   "metadata": {
    "id": "mCEl2iGE0q1A"
   },
   "outputs": [
    {
     "data": {
      "text/html": [
       "<div>\n",
       "<style scoped>\n",
       "    .dataframe tbody tr th:only-of-type {\n",
       "        vertical-align: middle;\n",
       "    }\n",
       "\n",
       "    .dataframe tbody tr th {\n",
       "        vertical-align: top;\n",
       "    }\n",
       "\n",
       "    .dataframe thead th {\n",
       "        text-align: right;\n",
       "    }\n",
       "</style>\n",
       "<table border=\"1\" class=\"dataframe\">\n",
       "  <thead>\n",
       "    <tr style=\"text-align: right;\">\n",
       "      <th></th>\n",
       "      <th>id</th>\n",
       "      <th>user_id</th>\n",
       "      <th>message_date</th>\n",
       "    </tr>\n",
       "  </thead>\n",
       "  <tbody>\n",
       "    <tr>\n",
       "      <th>29787</th>\n",
       "      <td>1183_182</td>\n",
       "      <td>1183</td>\n",
       "      <td>2018-11-22</td>\n",
       "    </tr>\n",
       "    <tr>\n",
       "      <th>72026</th>\n",
       "      <td>1467_358</td>\n",
       "      <td>1467</td>\n",
       "      <td>2018-09-03</td>\n",
       "    </tr>\n",
       "    <tr>\n",
       "      <th>74636</th>\n",
       "      <td>1482_49</td>\n",
       "      <td>1482</td>\n",
       "      <td>2018-11-08</td>\n",
       "    </tr>\n",
       "    <tr>\n",
       "      <th>957</th>\n",
       "      <td>1008_4</td>\n",
       "      <td>1008</td>\n",
       "      <td>2018-11-22</td>\n",
       "    </tr>\n",
       "    <tr>\n",
       "      <th>48089</th>\n",
       "      <td>1324_820</td>\n",
       "      <td>1324</td>\n",
       "      <td>2018-04-16</td>\n",
       "    </tr>\n",
       "    <tr>\n",
       "      <th>30729</th>\n",
       "      <td>1193_455</td>\n",
       "      <td>1193</td>\n",
       "      <td>2018-07-11</td>\n",
       "    </tr>\n",
       "    <tr>\n",
       "      <th>4797</th>\n",
       "      <td>1044_177</td>\n",
       "      <td>1044</td>\n",
       "      <td>2018-09-15</td>\n",
       "    </tr>\n",
       "    <tr>\n",
       "      <th>43103</th>\n",
       "      <td>1283_42</td>\n",
       "      <td>1283</td>\n",
       "      <td>2018-12-04</td>\n",
       "    </tr>\n",
       "    <tr>\n",
       "      <th>22452</th>\n",
       "      <td>1133_621</td>\n",
       "      <td>1133</td>\n",
       "      <td>2018-09-11</td>\n",
       "    </tr>\n",
       "    <tr>\n",
       "      <th>31773</th>\n",
       "      <td>1196_259</td>\n",
       "      <td>1196</td>\n",
       "      <td>2018-02-25</td>\n",
       "    </tr>\n",
       "  </tbody>\n",
       "</table>\n",
       "</div>"
      ],
      "text/plain": [
       "             id  user_id message_date\n",
       "29787  1183_182     1183   2018-11-22\n",
       "72026  1467_358     1467   2018-09-03\n",
       "74636   1482_49     1482   2018-11-08\n",
       "957      1008_4     1008   2018-11-22\n",
       "48089  1324_820     1324   2018-04-16\n",
       "30729  1193_455     1193   2018-07-11\n",
       "4797   1044_177     1044   2018-09-15\n",
       "43103   1283_42     1283   2018-12-04\n",
       "22452  1133_621     1133   2018-09-11\n",
       "31773  1196_259     1196   2018-02-25"
      ]
     },
     "metadata": {},
     "output_type": "display_data"
    }
   ],
   "source": [
    "# Imprime una muestra de datos para los mensajes\n",
    "\n",
    "display(messages.sample(10))"
   ]
  },
  {
   "cell_type": "markdown",
   "metadata": {
    "id": "04xDj7KH0q1A"
   },
   "source": [
    "[Describe lo que ves y observas en la información general y en la muestra de datos impresa para el precio de datos anterior. ¿Hay algún problema (tipos de datos no adecuados, datos ausentes, etc.) que pudieran necesitar investigación y cambios adicionales? ¿Cómo se puede arreglar?]"
   ]
  },
  {
   "cell_type": "markdown",
   "metadata": {},
   "source": [
    "<div class=\"alert alert-block alert-info\">\n",
    "<b>Comentarios del estudiante.</b> <a class=\"tocSkip\"></a>\n",
    "    \n",
    "Mismo caso que el dataframe calls:\n",
    "    \n",
    "1. Los registros están completos en todas las columnas de la tabla.\n",
    "2. El formato de la columna 'message_date' será modificado a datetime.\n",
    "3. Se revisarán los posibles datos duplicados.\n",
    "\n",
    "</div>"
   ]
  },
  {
   "cell_type": "markdown",
   "metadata": {
    "id": "Sprfak900q1B"
   },
   "source": [
    "### Corregir los datos"
   ]
  },
  {
   "cell_type": "markdown",
   "metadata": {
    "id": "eGw7d9j10q1B"
   },
   "source": [
    "[Corrige los problemas obvios con los datos basándote en las observaciones iniciales.]"
   ]
  },
  {
   "cell_type": "code",
   "execution_count": 20,
   "metadata": {
    "id": "vsllvkoa0q1B"
   },
   "outputs": [
    {
     "data": {
      "text/plain": [
       "id              0.0\n",
       "user_id         0.0\n",
       "message_date    0.0\n",
       "dtype: float64"
      ]
     },
     "metadata": {},
     "output_type": "display_data"
    },
    {
     "data": {
      "text/plain": [
       "id              0.0\n",
       "user_id         0.0\n",
       "message_date    0.0\n",
       "dtype: float64"
      ]
     },
     "metadata": {},
     "output_type": "display_data"
    }
   ],
   "source": [
    "#Revisión de datos duplicados:\n",
    "\n",
    "duplicated_messages = messages[messages.duplicated()]\n",
    "\n",
    "display(duplicated_messages.sum())\n",
    "\n",
    "#Revisión de posibles id_mensajes duplicados:\n",
    "\n",
    "duplicated_id_messages = messages[messages['id'].duplicated()]\n",
    "display(duplicated_id_messages.sum())"
   ]
  },
  {
   "cell_type": "markdown",
   "metadata": {
    "id": "HvLid7iD0q1B"
   },
   "source": [
    "### Enriquecer los datos"
   ]
  },
  {
   "cell_type": "markdown",
   "metadata": {
    "id": "8nhPFKIe0q1C"
   },
   "source": [
    "[Agrega factores adicionales a los datos si crees que pudieran ser útiles.]"
   ]
  },
  {
   "cell_type": "code",
   "execution_count": 21,
   "metadata": {
    "id": "zYEXZac10q1C"
   },
   "outputs": [
    {
     "data": {
      "text/plain": [
       "0       2018-12-27\n",
       "1       2018-12-31\n",
       "2       2018-12-31\n",
       "3       2018-12-27\n",
       "4       2018-12-26\n",
       "           ...    \n",
       "76046   2018-12-24\n",
       "76047   2018-12-24\n",
       "76048   2018-12-31\n",
       "76049   2018-12-24\n",
       "76050   2018-12-23\n",
       "Name: message_date, Length: 76051, dtype: datetime64[ns]"
      ]
     },
     "metadata": {},
     "output_type": "display_data"
    }
   ],
   "source": [
    "#Modificación de columna 'message_date' a tipo datetime:\n",
    "\n",
    "messages['message_date'] = pd.to_datetime(messages['message_date'], format='%Y-%m-%dT')\n",
    "\n",
    "display(messages['message_date'])"
   ]
  },
  {
   "cell_type": "markdown",
   "metadata": {},
   "source": [
    "**Comentarios:**\n",
    "\n",
    "Listo nuestro dataframe messages.\n",
    "    \n",
    "Procedemos a revisar el dataframe internet."
   ]
  },
  {
   "cell_type": "markdown",
   "metadata": {
    "id": "bStkaxn40q1C"
   },
   "source": [
    "## Internet"
   ]
  },
  {
   "cell_type": "code",
   "execution_count": 22,
   "metadata": {
    "id": "e-Uz5qyn0q1C"
   },
   "outputs": [
    {
     "name": "stdout",
     "output_type": "stream",
     "text": [
      "<class 'pandas.core.frame.DataFrame'>\n",
      "RangeIndex: 104825 entries, 0 to 104824\n",
      "Data columns (total 4 columns):\n",
      " #   Column        Non-Null Count   Dtype  \n",
      "---  ------        --------------   -----  \n",
      " 0   id            104825 non-null  object \n",
      " 1   user_id       104825 non-null  int64  \n",
      " 2   session_date  104825 non-null  object \n",
      " 3   mb_used       104825 non-null  float64\n",
      "dtypes: float64(1), int64(1), object(2)\n",
      "memory usage: 3.2+ MB\n"
     ]
    },
    {
     "data": {
      "text/plain": [
       "None"
      ]
     },
     "metadata": {},
     "output_type": "display_data"
    }
   ],
   "source": [
    "# Imprime la información general/resumida sobre el DataFrame de internet\n",
    "\n",
    "#Información de DataFrame internet:\n",
    "\n",
    "display(internet.info())"
   ]
  },
  {
   "cell_type": "code",
   "execution_count": 23,
   "metadata": {
    "id": "9r3x_XLw0q1C"
   },
   "outputs": [
    {
     "data": {
      "text/html": [
       "<div>\n",
       "<style scoped>\n",
       "    .dataframe tbody tr th:only-of-type {\n",
       "        vertical-align: middle;\n",
       "    }\n",
       "\n",
       "    .dataframe tbody tr th {\n",
       "        vertical-align: top;\n",
       "    }\n",
       "\n",
       "    .dataframe thead th {\n",
       "        text-align: right;\n",
       "    }\n",
       "</style>\n",
       "<table border=\"1\" class=\"dataframe\">\n",
       "  <thead>\n",
       "    <tr style=\"text-align: right;\">\n",
       "      <th></th>\n",
       "      <th>id</th>\n",
       "      <th>user_id</th>\n",
       "      <th>session_date</th>\n",
       "      <th>mb_used</th>\n",
       "    </tr>\n",
       "  </thead>\n",
       "  <tbody>\n",
       "    <tr>\n",
       "      <th>82859</th>\n",
       "      <td>1387_75</td>\n",
       "      <td>1387</td>\n",
       "      <td>2018-10-11</td>\n",
       "      <td>46.30</td>\n",
       "    </tr>\n",
       "    <tr>\n",
       "      <th>91270</th>\n",
       "      <td>1420_163</td>\n",
       "      <td>1420</td>\n",
       "      <td>2018-08-07</td>\n",
       "      <td>201.21</td>\n",
       "    </tr>\n",
       "    <tr>\n",
       "      <th>67434</th>\n",
       "      <td>1313_108</td>\n",
       "      <td>1313</td>\n",
       "      <td>2018-07-31</td>\n",
       "      <td>218.43</td>\n",
       "    </tr>\n",
       "    <tr>\n",
       "      <th>87345</th>\n",
       "      <td>1405_48</td>\n",
       "      <td>1405</td>\n",
       "      <td>2018-08-21</td>\n",
       "      <td>75.83</td>\n",
       "    </tr>\n",
       "    <tr>\n",
       "      <th>9546</th>\n",
       "      <td>1049_196</td>\n",
       "      <td>1049</td>\n",
       "      <td>2018-10-18</td>\n",
       "      <td>447.38</td>\n",
       "    </tr>\n",
       "    <tr>\n",
       "      <th>1385</th>\n",
       "      <td>1008_96</td>\n",
       "      <td>1008</td>\n",
       "      <td>2018-11-03</td>\n",
       "      <td>309.07</td>\n",
       "    </tr>\n",
       "    <tr>\n",
       "      <th>29859</th>\n",
       "      <td>1138_85</td>\n",
       "      <td>1138</td>\n",
       "      <td>2018-04-09</td>\n",
       "      <td>0.00</td>\n",
       "    </tr>\n",
       "    <tr>\n",
       "      <th>75330</th>\n",
       "      <td>1354_256</td>\n",
       "      <td>1354</td>\n",
       "      <td>2018-11-07</td>\n",
       "      <td>545.92</td>\n",
       "    </tr>\n",
       "    <tr>\n",
       "      <th>26864</th>\n",
       "      <td>1123_359</td>\n",
       "      <td>1123</td>\n",
       "      <td>2018-07-24</td>\n",
       "      <td>0.00</td>\n",
       "    </tr>\n",
       "    <tr>\n",
       "      <th>91144</th>\n",
       "      <td>1420_37</td>\n",
       "      <td>1420</td>\n",
       "      <td>2018-11-21</td>\n",
       "      <td>185.01</td>\n",
       "    </tr>\n",
       "  </tbody>\n",
       "</table>\n",
       "</div>"
      ],
      "text/plain": [
       "             id  user_id session_date  mb_used\n",
       "82859   1387_75     1387   2018-10-11    46.30\n",
       "91270  1420_163     1420   2018-08-07   201.21\n",
       "67434  1313_108     1313   2018-07-31   218.43\n",
       "87345   1405_48     1405   2018-08-21    75.83\n",
       "9546   1049_196     1049   2018-10-18   447.38\n",
       "1385    1008_96     1008   2018-11-03   309.07\n",
       "29859   1138_85     1138   2018-04-09     0.00\n",
       "75330  1354_256     1354   2018-11-07   545.92\n",
       "26864  1123_359     1123   2018-07-24     0.00\n",
       "91144   1420_37     1420   2018-11-21   185.01"
      ]
     },
     "metadata": {},
     "output_type": "display_data"
    }
   ],
   "source": [
    "# Imprime una muestra de datos para el tráfico de internet\n",
    "\n",
    "display(internet.sample(10))"
   ]
  },
  {
   "cell_type": "markdown",
   "metadata": {
    "id": "EzOG5ik30q1D"
   },
   "source": [
    "[Describe lo que ves y observas en la información general y en la muestra de datos impresa para el precio de datos anterior. ¿Hay algún problema (tipos de datos no adecuados, datos ausentes, etc.) que pudieran necesitar investigación y cambios adicionales? ¿Cómo se puede arreglar?]"
   ]
  },
  {
   "cell_type": "markdown",
   "metadata": {},
   "source": [
    "**Comentarios revisión previa de DataFrame internet:**\n",
    "    \n",
    "1. Los registros están completos en todas las columnas de la tabla.\n",
    "2. El formato de la columna 'session_date' será modificado a datetime.\n",
    "3. Se revisarán los posibles datos duplicados."
   ]
  },
  {
   "cell_type": "markdown",
   "metadata": {
    "id": "yA0tkPFg0q1D"
   },
   "source": [
    "### Corregir los datos"
   ]
  },
  {
   "cell_type": "markdown",
   "metadata": {
    "id": "zlZMuIEK0q1D"
   },
   "source": [
    "[Corrige los problemas obvios con los datos basándote en las observaciones iniciales.]"
   ]
  },
  {
   "cell_type": "code",
   "execution_count": 24,
   "metadata": {
    "id": "zVeanzdd0q1E"
   },
   "outputs": [
    {
     "data": {
      "text/plain": [
       "id              0.0\n",
       "user_id         0.0\n",
       "session_date    0.0\n",
       "mb_used         0.0\n",
       "dtype: float64"
      ]
     },
     "metadata": {},
     "output_type": "display_data"
    },
    {
     "data": {
      "text/plain": [
       "id              0.0\n",
       "user_id         0.0\n",
       "session_date    0.0\n",
       "mb_used         0.0\n",
       "dtype: float64"
      ]
     },
     "metadata": {},
     "output_type": "display_data"
    }
   ],
   "source": [
    "#Revisión de datos duplicados\n",
    "\n",
    "duplicated_internet = internet[internet.duplicated()]\n",
    "display(duplicated_internet.sum())\n",
    "\n",
    "#Revisión de posibles id de sesiones de internet duplicados:\n",
    "\n",
    "duplicated_id_internet_sessions = internet[internet['id'].duplicated()]\n",
    "display(duplicated_id_internet_sessions.sum())"
   ]
  },
  {
   "cell_type": "markdown",
   "metadata": {
    "id": "e8_mLF4a0q1E"
   },
   "source": [
    "### Enriquecer los datos"
   ]
  },
  {
   "cell_type": "markdown",
   "metadata": {
    "id": "xhNdn2tE0q1E"
   },
   "source": [
    "[Agrega factores adicionales a los datos si crees que pudieran ser útiles.]"
   ]
  },
  {
   "cell_type": "code",
   "execution_count": 25,
   "metadata": {
    "id": "ESiYPIEK0q1E"
   },
   "outputs": [
    {
     "data": {
      "text/plain": [
       "0        2018-12-29\n",
       "1        2018-12-31\n",
       "2        2018-12-28\n",
       "3        2018-12-26\n",
       "4        2018-12-27\n",
       "            ...    \n",
       "104820   2018-10-20\n",
       "104821   2018-12-30\n",
       "104822   2018-09-22\n",
       "104823   2018-12-07\n",
       "104824   2018-12-24\n",
       "Name: session_date, Length: 104825, dtype: datetime64[ns]"
      ]
     },
     "metadata": {},
     "output_type": "display_data"
    }
   ],
   "source": [
    "#Modificación de columna 'session_date' a tipo datetime:\n",
    "internet['session_date'] = pd.to_datetime(internet['session_date'], format='%Y-%m-%dT')\n",
    "\n",
    "display(internet['session_date'])"
   ]
  },
  {
   "cell_type": "markdown",
   "metadata": {},
   "source": [
    "<div class=\"alert alert-block alert-warning\">\n",
    "<b>Comentario revisor</b> <a class=\"tocSkip\"></a>\n",
    "\n",
    "\n",
    "Te recomiendo solamente comentar que cuando agrupemos los datos vamos a tener que redondear hacia arriba lo valores de la transformación de mbegabyter a gigabyte, para este ejercicio debemos hacer el redondeo superior dado que se cobra el costo extra en cuanto se pasa de los límites.Por lo que es necesario hacer la transformación de mb a gb y después hacer el redondeo.  \n",
    "</div>"
   ]
  },
  {
   "cell_type": "markdown",
   "metadata": {
    "id": "3UA2cqIW0q1E"
   },
   "source": [
    "## Estudiar las condiciones de las tarifas"
   ]
  },
  {
   "cell_type": "markdown",
   "metadata": {
    "id": "T86Sqltq0q1F"
   },
   "source": [
    "[Es sumamente importante entender cómo funcionan las tarifas, cómo se les cobra a los usuarios en función de su plan de suscripción. Así que te sugerimos imprimir la información de la tarifa para ver una vez más sus condiciones.]"
   ]
  },
  {
   "cell_type": "code",
   "execution_count": 26,
   "metadata": {
    "id": "i409op8p0q1F"
   },
   "outputs": [
    {
     "data": {
      "text/html": [
       "<div>\n",
       "<style scoped>\n",
       "    .dataframe tbody tr th:only-of-type {\n",
       "        vertical-align: middle;\n",
       "    }\n",
       "\n",
       "    .dataframe tbody tr th {\n",
       "        vertical-align: top;\n",
       "    }\n",
       "\n",
       "    .dataframe thead th {\n",
       "        text-align: right;\n",
       "    }\n",
       "</style>\n",
       "<table border=\"1\" class=\"dataframe\">\n",
       "  <thead>\n",
       "    <tr style=\"text-align: right;\">\n",
       "      <th></th>\n",
       "      <th>messages_included</th>\n",
       "      <th>mb_per_month_included</th>\n",
       "      <th>minutes_included</th>\n",
       "      <th>usd_monthly_pay</th>\n",
       "      <th>usd_per_gb</th>\n",
       "      <th>usd_per_message</th>\n",
       "      <th>usd_per_minute</th>\n",
       "      <th>plan_name</th>\n",
       "    </tr>\n",
       "  </thead>\n",
       "  <tbody>\n",
       "    <tr>\n",
       "      <th>0</th>\n",
       "      <td>50</td>\n",
       "      <td>15360</td>\n",
       "      <td>500</td>\n",
       "      <td>20</td>\n",
       "      <td>10</td>\n",
       "      <td>0.03</td>\n",
       "      <td>0.03</td>\n",
       "      <td>surf</td>\n",
       "    </tr>\n",
       "    <tr>\n",
       "      <th>1</th>\n",
       "      <td>1000</td>\n",
       "      <td>30720</td>\n",
       "      <td>3000</td>\n",
       "      <td>70</td>\n",
       "      <td>7</td>\n",
       "      <td>0.01</td>\n",
       "      <td>0.01</td>\n",
       "      <td>ultimate</td>\n",
       "    </tr>\n",
       "  </tbody>\n",
       "</table>\n",
       "</div>"
      ],
      "text/plain": [
       "   messages_included  mb_per_month_included  minutes_included  \\\n",
       "0                 50                  15360               500   \n",
       "1               1000                  30720              3000   \n",
       "\n",
       "   usd_monthly_pay  usd_per_gb  usd_per_message  usd_per_minute plan_name  \n",
       "0               20          10             0.03            0.03      surf  \n",
       "1               70           7             0.01            0.01  ultimate  "
      ]
     },
     "metadata": {},
     "output_type": "display_data"
    },
    {
     "name": "stdout",
     "output_type": "stream",
     "text": [
      "\n",
      "<class 'pandas.core.frame.DataFrame'>\n",
      "RangeIndex: 2 entries, 0 to 1\n",
      "Data columns (total 8 columns):\n",
      " #   Column                 Non-Null Count  Dtype  \n",
      "---  ------                 --------------  -----  \n",
      " 0   messages_included      2 non-null      int64  \n",
      " 1   mb_per_month_included  2 non-null      int64  \n",
      " 2   minutes_included       2 non-null      int64  \n",
      " 3   usd_monthly_pay        2 non-null      int64  \n",
      " 4   usd_per_gb             2 non-null      int64  \n",
      " 5   usd_per_message        2 non-null      float64\n",
      " 6   usd_per_minute         2 non-null      float64\n",
      " 7   plan_name              2 non-null      object \n",
      "dtypes: float64(2), int64(5), object(1)\n",
      "memory usage: 256.0+ bytes\n"
     ]
    },
    {
     "data": {
      "text/plain": [
       "None"
      ]
     },
     "metadata": {},
     "output_type": "display_data"
    }
   ],
   "source": [
    "# Imprime las condiciones de la tarifa y asegúrate de que te quedan claras\n",
    "\n",
    "display(plans)\n",
    "print()\n",
    "display(plans.info())"
   ]
  },
  {
   "cell_type": "markdown",
   "metadata": {},
   "source": [
    "### Descripción de las tarifas\n",
    "Nota: Megaline redondea los segundos a minutos y los megabytes a gigabytes. Para llamadas, cada llamada individual se redondea: incluso si la llamada duró solo un segundo, se contará como un minuto. Para tráfico web, las sesiones web individuales no se redondean. En vez de esto, el total del mes se redondea hacia arriba. Si alguien usa 1025 megabytes este mes, se le cobrarán 2 gigabytes.\n",
    "\n",
    "A continuación puedes ver una descripción de las tarifas:"
   ]
  },
  {
   "cell_type": "markdown",
   "metadata": {},
   "source": [
    "### Surf\n",
    "\n",
    "- Pago mensual: 20$.\n",
    "\n",
    "- 500 minutos al mes, 50 SMS y 15 GB de datos.\n",
    "- Si se exceden los límites del paquete:\n",
    "- 1 minuto: 3 centavos.\n",
    "- 1 SMS: 3 centavos.\n",
    "- 1 GB de datos: 10$."
   ]
  },
  {
   "cell_type": "markdown",
   "metadata": {},
   "source": [
    "### Ultimate\n",
    "\n",
    "\n",
    "- Pago mensual: 70$.\n",
    "\n",
    "- 3000 minutos al mes, 1000 SMS y 30 GB de datos.\n",
    "- Si se exceden los límites del paquete:\n",
    "- 1 minuto: 1 centavo.\n",
    "- 1 SMS: 1 centavo.\n",
    "- 1 GB de datos: 7$."
   ]
  },
  {
   "cell_type": "markdown",
   "metadata": {
    "id": "hMR1tP5d0q1F"
   },
   "source": [
    "## Agregar datos por usuario\n",
    "\n",
    "[Ahora que los datos están limpios, agrega los datos por usuario y por periodo para que solo haya un registro por usuario y por periodo. Esto facilitará mucho el análisis posterior.]"
   ]
  },
  {
   "cell_type": "code",
   "execution_count": 27,
   "metadata": {
    "id": "A332cedB0q1G"
   },
   "outputs": [
    {
     "data": {
      "text/html": [
       "<div>\n",
       "<style scoped>\n",
       "    .dataframe tbody tr th:only-of-type {\n",
       "        vertical-align: middle;\n",
       "    }\n",
       "\n",
       "    .dataframe tbody tr th {\n",
       "        vertical-align: top;\n",
       "    }\n",
       "\n",
       "    .dataframe thead th {\n",
       "        text-align: right;\n",
       "    }\n",
       "</style>\n",
       "<table border=\"1\" class=\"dataframe\">\n",
       "  <thead>\n",
       "    <tr style=\"text-align: right;\">\n",
       "      <th></th>\n",
       "      <th>user_id</th>\n",
       "      <th>dt_month</th>\n",
       "      <th>calls_per_month</th>\n",
       "    </tr>\n",
       "  </thead>\n",
       "  <tbody>\n",
       "    <tr>\n",
       "      <th>0</th>\n",
       "      <td>1000</td>\n",
       "      <td>12</td>\n",
       "      <td>16</td>\n",
       "    </tr>\n",
       "    <tr>\n",
       "      <th>1</th>\n",
       "      <td>1001</td>\n",
       "      <td>8</td>\n",
       "      <td>27</td>\n",
       "    </tr>\n",
       "    <tr>\n",
       "      <th>2</th>\n",
       "      <td>1001</td>\n",
       "      <td>9</td>\n",
       "      <td>49</td>\n",
       "    </tr>\n",
       "    <tr>\n",
       "      <th>3</th>\n",
       "      <td>1001</td>\n",
       "      <td>10</td>\n",
       "      <td>65</td>\n",
       "    </tr>\n",
       "    <tr>\n",
       "      <th>4</th>\n",
       "      <td>1001</td>\n",
       "      <td>11</td>\n",
       "      <td>64</td>\n",
       "    </tr>\n",
       "    <tr>\n",
       "      <th>...</th>\n",
       "      <td>...</td>\n",
       "      <td>...</td>\n",
       "      <td>...</td>\n",
       "    </tr>\n",
       "    <tr>\n",
       "      <th>2253</th>\n",
       "      <td>1498</td>\n",
       "      <td>12</td>\n",
       "      <td>39</td>\n",
       "    </tr>\n",
       "    <tr>\n",
       "      <th>2254</th>\n",
       "      <td>1499</td>\n",
       "      <td>9</td>\n",
       "      <td>41</td>\n",
       "    </tr>\n",
       "    <tr>\n",
       "      <th>2255</th>\n",
       "      <td>1499</td>\n",
       "      <td>10</td>\n",
       "      <td>53</td>\n",
       "    </tr>\n",
       "    <tr>\n",
       "      <th>2256</th>\n",
       "      <td>1499</td>\n",
       "      <td>11</td>\n",
       "      <td>45</td>\n",
       "    </tr>\n",
       "    <tr>\n",
       "      <th>2257</th>\n",
       "      <td>1499</td>\n",
       "      <td>12</td>\n",
       "      <td>65</td>\n",
       "    </tr>\n",
       "  </tbody>\n",
       "</table>\n",
       "<p>2258 rows × 3 columns</p>\n",
       "</div>"
      ],
      "text/plain": [
       "      user_id  dt_month  calls_per_month\n",
       "0        1000        12               16\n",
       "1        1001         8               27\n",
       "2        1001         9               49\n",
       "3        1001        10               65\n",
       "4        1001        11               64\n",
       "...       ...       ...              ...\n",
       "2253     1498        12               39\n",
       "2254     1499         9               41\n",
       "2255     1499        10               53\n",
       "2256     1499        11               45\n",
       "2257     1499        12               65\n",
       "\n",
       "[2258 rows x 3 columns]"
      ]
     },
     "metadata": {},
     "output_type": "display_data"
    }
   ],
   "source": [
    "# Calcula el número de llamadas hechas por cada usuario al mes. Guarda el resultado.\n",
    "\n",
    "#Primero agregamos una columna que almacene el número del mes de la columna 'call_date' utilizando el método dt.month.\n",
    "#La llamaremos 'dt_month':\n",
    "\n",
    "calls['dt_month'] = calls['call_date'].dt.month\n",
    "\n",
    "\n",
    "#Ahora procederemos con agrupar por usuarios y por los números de meses las id de llamadas (columna 'id'):\n",
    "calls_per_month = calls.groupby(['user_id','dt_month'])['id'].count().reset_index()\n",
    "\n",
    "\n",
    "#Finalmente, reemplazamos los nombres de las columnas por algo más descriptivo:\n",
    "calls_per_month = calls_per_month.rename(columns = {'id':'calls_per_month'})\n",
    "\n",
    "display(calls_per_month)\n",
    "\n",
    "                                         "
   ]
  },
  {
   "cell_type": "markdown",
   "metadata": {},
   "source": [
    "\n",
    "<div class=\"alert alert-block alert-warning\">\n",
    "\n",
    "<b>Comentario revisor</b> <a class=\"tocSkip\"></a>\n",
    "\n",
    "Si bien es correcta la forma de agrupar para sacar la duración de las llamadas por cada ususario, para proximas ocasiones puedes hacer uso de la siguiente forma:\n",
    "    \n",
    "    pivot_calls = calls.pivot_table(index=['user_id', 'month'],\n",
    "                                values=['duration'],\n",
    "                                aggfunc=['sum','count']).reset_index()\n",
    "\n",
    "</div>"
   ]
  },
  {
   "cell_type": "code",
   "execution_count": 28,
   "metadata": {
    "id": "aw2cmuql0q1G"
   },
   "outputs": [
    {
     "data": {
      "text/html": [
       "<div>\n",
       "<style scoped>\n",
       "    .dataframe tbody tr th:only-of-type {\n",
       "        vertical-align: middle;\n",
       "    }\n",
       "\n",
       "    .dataframe tbody tr th {\n",
       "        vertical-align: top;\n",
       "    }\n",
       "\n",
       "    .dataframe thead th {\n",
       "        text-align: right;\n",
       "    }\n",
       "</style>\n",
       "<table border=\"1\" class=\"dataframe\">\n",
       "  <thead>\n",
       "    <tr style=\"text-align: right;\">\n",
       "      <th></th>\n",
       "      <th>user_id</th>\n",
       "      <th>dt_month</th>\n",
       "      <th>minutes_spent</th>\n",
       "    </tr>\n",
       "  </thead>\n",
       "  <tbody>\n",
       "    <tr>\n",
       "      <th>0</th>\n",
       "      <td>1000</td>\n",
       "      <td>12</td>\n",
       "      <td>116.83</td>\n",
       "    </tr>\n",
       "    <tr>\n",
       "      <th>1</th>\n",
       "      <td>1001</td>\n",
       "      <td>8</td>\n",
       "      <td>171.14</td>\n",
       "    </tr>\n",
       "    <tr>\n",
       "      <th>2</th>\n",
       "      <td>1001</td>\n",
       "      <td>9</td>\n",
       "      <td>297.69</td>\n",
       "    </tr>\n",
       "    <tr>\n",
       "      <th>3</th>\n",
       "      <td>1001</td>\n",
       "      <td>10</td>\n",
       "      <td>374.11</td>\n",
       "    </tr>\n",
       "    <tr>\n",
       "      <th>4</th>\n",
       "      <td>1001</td>\n",
       "      <td>11</td>\n",
       "      <td>404.59</td>\n",
       "    </tr>\n",
       "    <tr>\n",
       "      <th>...</th>\n",
       "      <td>...</td>\n",
       "      <td>...</td>\n",
       "      <td>...</td>\n",
       "    </tr>\n",
       "    <tr>\n",
       "      <th>2253</th>\n",
       "      <td>1498</td>\n",
       "      <td>12</td>\n",
       "      <td>324.77</td>\n",
       "    </tr>\n",
       "    <tr>\n",
       "      <th>2254</th>\n",
       "      <td>1499</td>\n",
       "      <td>9</td>\n",
       "      <td>330.37</td>\n",
       "    </tr>\n",
       "    <tr>\n",
       "      <th>2255</th>\n",
       "      <td>1499</td>\n",
       "      <td>10</td>\n",
       "      <td>363.28</td>\n",
       "    </tr>\n",
       "    <tr>\n",
       "      <th>2256</th>\n",
       "      <td>1499</td>\n",
       "      <td>11</td>\n",
       "      <td>288.56</td>\n",
       "    </tr>\n",
       "    <tr>\n",
       "      <th>2257</th>\n",
       "      <td>1499</td>\n",
       "      <td>12</td>\n",
       "      <td>468.10</td>\n",
       "    </tr>\n",
       "  </tbody>\n",
       "</table>\n",
       "<p>2258 rows × 3 columns</p>\n",
       "</div>"
      ],
      "text/plain": [
       "      user_id  dt_month  minutes_spent\n",
       "0        1000        12         116.83\n",
       "1        1001         8         171.14\n",
       "2        1001         9         297.69\n",
       "3        1001        10         374.11\n",
       "4        1001        11         404.59\n",
       "...       ...       ...            ...\n",
       "2253     1498        12         324.77\n",
       "2254     1499         9         330.37\n",
       "2255     1499        10         363.28\n",
       "2256     1499        11         288.56\n",
       "2257     1499        12         468.10\n",
       "\n",
       "[2258 rows x 3 columns]"
      ]
     },
     "metadata": {},
     "output_type": "display_data"
    }
   ],
   "source": [
    "# Calcula la cantidad de minutos usados por cada usuario al mes. Guarda el resultado.\n",
    "\n",
    "#Utilizaremos la variable minutes_spent para almacenar el cálculo de la suma de minutos usados por usuario:\n",
    "minutes_spent = calls.groupby(['user_id','dt_month'])['duration'].sum().reset_index()\n",
    "\n",
    "#Y ahora reemplazamos los nombres de la columna 'duration' por algo más descriptivo:\n",
    "minutes_spent = minutes_spent.rename(columns={'duration':'minutes_spent'})\n",
    "\n",
    "display(minutes_spent)"
   ]
  },
  {
   "cell_type": "code",
   "execution_count": 29,
   "metadata": {
    "id": "CcQvNHn60q1G"
   },
   "outputs": [
    {
     "data": {
      "text/html": [
       "<div>\n",
       "<style scoped>\n",
       "    .dataframe tbody tr th:only-of-type {\n",
       "        vertical-align: middle;\n",
       "    }\n",
       "\n",
       "    .dataframe tbody tr th {\n",
       "        vertical-align: top;\n",
       "    }\n",
       "\n",
       "    .dataframe thead th {\n",
       "        text-align: right;\n",
       "    }\n",
       "</style>\n",
       "<table border=\"1\" class=\"dataframe\">\n",
       "  <thead>\n",
       "    <tr style=\"text-align: right;\">\n",
       "      <th></th>\n",
       "      <th>user_id</th>\n",
       "      <th>dt_month</th>\n",
       "      <th>messages_sent</th>\n",
       "    </tr>\n",
       "  </thead>\n",
       "  <tbody>\n",
       "    <tr>\n",
       "      <th>0</th>\n",
       "      <td>1000</td>\n",
       "      <td>12</td>\n",
       "      <td>11</td>\n",
       "    </tr>\n",
       "    <tr>\n",
       "      <th>1</th>\n",
       "      <td>1001</td>\n",
       "      <td>8</td>\n",
       "      <td>30</td>\n",
       "    </tr>\n",
       "    <tr>\n",
       "      <th>2</th>\n",
       "      <td>1001</td>\n",
       "      <td>9</td>\n",
       "      <td>44</td>\n",
       "    </tr>\n",
       "    <tr>\n",
       "      <th>3</th>\n",
       "      <td>1001</td>\n",
       "      <td>10</td>\n",
       "      <td>53</td>\n",
       "    </tr>\n",
       "    <tr>\n",
       "      <th>4</th>\n",
       "      <td>1001</td>\n",
       "      <td>11</td>\n",
       "      <td>36</td>\n",
       "    </tr>\n",
       "    <tr>\n",
       "      <th>...</th>\n",
       "      <td>...</td>\n",
       "      <td>...</td>\n",
       "      <td>...</td>\n",
       "    </tr>\n",
       "    <tr>\n",
       "      <th>1801</th>\n",
       "      <td>1496</td>\n",
       "      <td>9</td>\n",
       "      <td>21</td>\n",
       "    </tr>\n",
       "    <tr>\n",
       "      <th>1802</th>\n",
       "      <td>1496</td>\n",
       "      <td>10</td>\n",
       "      <td>18</td>\n",
       "    </tr>\n",
       "    <tr>\n",
       "      <th>1803</th>\n",
       "      <td>1496</td>\n",
       "      <td>11</td>\n",
       "      <td>13</td>\n",
       "    </tr>\n",
       "    <tr>\n",
       "      <th>1804</th>\n",
       "      <td>1496</td>\n",
       "      <td>12</td>\n",
       "      <td>11</td>\n",
       "    </tr>\n",
       "    <tr>\n",
       "      <th>1805</th>\n",
       "      <td>1497</td>\n",
       "      <td>12</td>\n",
       "      <td>50</td>\n",
       "    </tr>\n",
       "  </tbody>\n",
       "</table>\n",
       "<p>1806 rows × 3 columns</p>\n",
       "</div>"
      ],
      "text/plain": [
       "      user_id  dt_month  messages_sent\n",
       "0        1000        12             11\n",
       "1        1001         8             30\n",
       "2        1001         9             44\n",
       "3        1001        10             53\n",
       "4        1001        11             36\n",
       "...       ...       ...            ...\n",
       "1801     1496         9             21\n",
       "1802     1496        10             18\n",
       "1803     1496        11             13\n",
       "1804     1496        12             11\n",
       "1805     1497        12             50\n",
       "\n",
       "[1806 rows x 3 columns]"
      ]
     },
     "metadata": {},
     "output_type": "display_data"
    }
   ],
   "source": [
    "# Calcula el número de mensajes enviados por cada usuario al mes. Guarda el resultado.\n",
    "\n",
    "\n",
    "#Al igual que en el dataframe calls, creamos una nueva columna que almacene el número de cada mes:\n",
    "messages['dt_month'] = messages['message_date'].dt.month\n",
    "\n",
    "\n",
    "#Luego agrupamos por 'user_id' y 'dt_month' el conteo de mensajes enviados:\n",
    "messages_sent = messages.groupby(['user_id','dt_month'])['id'].count().reset_index()\n",
    "\n",
    "\n",
    "#Y ahora reemplazamos los nombres de la columna 'id' por algo más descriptivo:\n",
    "messages_sent = messages_sent.rename(columns = {'id':'messages_sent'})\n",
    "\n",
    "display(messages_sent)"
   ]
  },
  {
   "cell_type": "code",
   "execution_count": 30,
   "metadata": {
    "id": "H1AqN2eG0q1H"
   },
   "outputs": [
    {
     "data": {
      "text/html": [
       "<div>\n",
       "<style scoped>\n",
       "    .dataframe tbody tr th:only-of-type {\n",
       "        vertical-align: middle;\n",
       "    }\n",
       "\n",
       "    .dataframe tbody tr th {\n",
       "        vertical-align: top;\n",
       "    }\n",
       "\n",
       "    .dataframe thead th {\n",
       "        text-align: right;\n",
       "    }\n",
       "</style>\n",
       "<table border=\"1\" class=\"dataframe\">\n",
       "  <thead>\n",
       "    <tr style=\"text-align: right;\">\n",
       "      <th></th>\n",
       "      <th>user_id</th>\n",
       "      <th>dt_month</th>\n",
       "      <th>mb_used</th>\n",
       "    </tr>\n",
       "  </thead>\n",
       "  <tbody>\n",
       "    <tr>\n",
       "      <th>0</th>\n",
       "      <td>1000</td>\n",
       "      <td>12</td>\n",
       "      <td>1901.47</td>\n",
       "    </tr>\n",
       "    <tr>\n",
       "      <th>1</th>\n",
       "      <td>1001</td>\n",
       "      <td>8</td>\n",
       "      <td>6919.15</td>\n",
       "    </tr>\n",
       "    <tr>\n",
       "      <th>2</th>\n",
       "      <td>1001</td>\n",
       "      <td>9</td>\n",
       "      <td>13314.82</td>\n",
       "    </tr>\n",
       "    <tr>\n",
       "      <th>3</th>\n",
       "      <td>1001</td>\n",
       "      <td>10</td>\n",
       "      <td>22330.49</td>\n",
       "    </tr>\n",
       "    <tr>\n",
       "      <th>4</th>\n",
       "      <td>1001</td>\n",
       "      <td>11</td>\n",
       "      <td>18504.30</td>\n",
       "    </tr>\n",
       "    <tr>\n",
       "      <th>...</th>\n",
       "      <td>...</td>\n",
       "      <td>...</td>\n",
       "      <td>...</td>\n",
       "    </tr>\n",
       "    <tr>\n",
       "      <th>2272</th>\n",
       "      <td>1498</td>\n",
       "      <td>12</td>\n",
       "      <td>23137.69</td>\n",
       "    </tr>\n",
       "    <tr>\n",
       "      <th>2273</th>\n",
       "      <td>1499</td>\n",
       "      <td>9</td>\n",
       "      <td>12984.76</td>\n",
       "    </tr>\n",
       "    <tr>\n",
       "      <th>2274</th>\n",
       "      <td>1499</td>\n",
       "      <td>10</td>\n",
       "      <td>19492.43</td>\n",
       "    </tr>\n",
       "    <tr>\n",
       "      <th>2275</th>\n",
       "      <td>1499</td>\n",
       "      <td>11</td>\n",
       "      <td>16813.83</td>\n",
       "    </tr>\n",
       "    <tr>\n",
       "      <th>2276</th>\n",
       "      <td>1499</td>\n",
       "      <td>12</td>\n",
       "      <td>22059.21</td>\n",
       "    </tr>\n",
       "  </tbody>\n",
       "</table>\n",
       "<p>2277 rows × 3 columns</p>\n",
       "</div>"
      ],
      "text/plain": [
       "      user_id  dt_month   mb_used\n",
       "0        1000        12   1901.47\n",
       "1        1001         8   6919.15\n",
       "2        1001         9  13314.82\n",
       "3        1001        10  22330.49\n",
       "4        1001        11  18504.30\n",
       "...       ...       ...       ...\n",
       "2272     1498        12  23137.69\n",
       "2273     1499         9  12984.76\n",
       "2274     1499        10  19492.43\n",
       "2275     1499        11  16813.83\n",
       "2276     1499        12  22059.21\n",
       "\n",
       "[2277 rows x 3 columns]"
      ]
     },
     "metadata": {},
     "output_type": "display_data"
    }
   ],
   "source": [
    "# Calcula el volumen del tráfico de Internet usado por cada usuario al mes. Guarda el resultado.\n",
    "\n",
    "#Al igual que en los casos anteriores, creamos una nueva columna que almacene el número de cada mes:\n",
    "internet['dt_month'] = internet['session_date'].dt.month\n",
    "\n",
    "\n",
    "#Luego agrupamos por 'user_id' y 'dt_month' la suma de megabytes usados:\n",
    "data_traffic_mb = internet.groupby(['user_id','dt_month'])['mb_used'].sum().reset_index()\n",
    "\n",
    "display(data_traffic_mb)"
   ]
  },
  {
   "cell_type": "markdown",
   "metadata": {
    "id": "VDfYXnj80q1H"
   },
   "source": [
    "[Junta los datos agregados en un DataFrame para que haya un registro que represente lo que consumió un usuario único en un mes determinado.]"
   ]
  },
  {
   "cell_type": "code",
   "execution_count": 31,
   "metadata": {},
   "outputs": [
    {
     "data": {
      "text/html": [
       "<div>\n",
       "<style scoped>\n",
       "    .dataframe tbody tr th:only-of-type {\n",
       "        vertical-align: middle;\n",
       "    }\n",
       "\n",
       "    .dataframe tbody tr th {\n",
       "        vertical-align: top;\n",
       "    }\n",
       "\n",
       "    .dataframe thead th {\n",
       "        text-align: right;\n",
       "    }\n",
       "</style>\n",
       "<table border=\"1\" class=\"dataframe\">\n",
       "  <thead>\n",
       "    <tr style=\"text-align: right;\">\n",
       "      <th></th>\n",
       "      <th>user_id</th>\n",
       "      <th>dt_month</th>\n",
       "      <th>calls_per_month</th>\n",
       "      <th>minutes_spent</th>\n",
       "    </tr>\n",
       "  </thead>\n",
       "  <tbody>\n",
       "    <tr>\n",
       "      <th>0</th>\n",
       "      <td>1000</td>\n",
       "      <td>12</td>\n",
       "      <td>16</td>\n",
       "      <td>116.83</td>\n",
       "    </tr>\n",
       "    <tr>\n",
       "      <th>1</th>\n",
       "      <td>1001</td>\n",
       "      <td>8</td>\n",
       "      <td>27</td>\n",
       "      <td>171.14</td>\n",
       "    </tr>\n",
       "    <tr>\n",
       "      <th>2</th>\n",
       "      <td>1001</td>\n",
       "      <td>9</td>\n",
       "      <td>49</td>\n",
       "      <td>297.69</td>\n",
       "    </tr>\n",
       "    <tr>\n",
       "      <th>3</th>\n",
       "      <td>1001</td>\n",
       "      <td>10</td>\n",
       "      <td>65</td>\n",
       "      <td>374.11</td>\n",
       "    </tr>\n",
       "    <tr>\n",
       "      <th>4</th>\n",
       "      <td>1001</td>\n",
       "      <td>11</td>\n",
       "      <td>64</td>\n",
       "      <td>404.59</td>\n",
       "    </tr>\n",
       "    <tr>\n",
       "      <th>...</th>\n",
       "      <td>...</td>\n",
       "      <td>...</td>\n",
       "      <td>...</td>\n",
       "      <td>...</td>\n",
       "    </tr>\n",
       "    <tr>\n",
       "      <th>2253</th>\n",
       "      <td>1498</td>\n",
       "      <td>12</td>\n",
       "      <td>39</td>\n",
       "      <td>324.77</td>\n",
       "    </tr>\n",
       "    <tr>\n",
       "      <th>2254</th>\n",
       "      <td>1499</td>\n",
       "      <td>9</td>\n",
       "      <td>41</td>\n",
       "      <td>330.37</td>\n",
       "    </tr>\n",
       "    <tr>\n",
       "      <th>2255</th>\n",
       "      <td>1499</td>\n",
       "      <td>10</td>\n",
       "      <td>53</td>\n",
       "      <td>363.28</td>\n",
       "    </tr>\n",
       "    <tr>\n",
       "      <th>2256</th>\n",
       "      <td>1499</td>\n",
       "      <td>11</td>\n",
       "      <td>45</td>\n",
       "      <td>288.56</td>\n",
       "    </tr>\n",
       "    <tr>\n",
       "      <th>2257</th>\n",
       "      <td>1499</td>\n",
       "      <td>12</td>\n",
       "      <td>65</td>\n",
       "      <td>468.10</td>\n",
       "    </tr>\n",
       "  </tbody>\n",
       "</table>\n",
       "<p>2258 rows × 4 columns</p>\n",
       "</div>"
      ],
      "text/plain": [
       "      user_id  dt_month  calls_per_month  minutes_spent\n",
       "0        1000        12               16         116.83\n",
       "1        1001         8               27         171.14\n",
       "2        1001         9               49         297.69\n",
       "3        1001        10               65         374.11\n",
       "4        1001        11               64         404.59\n",
       "...       ...       ...              ...            ...\n",
       "2253     1498        12               39         324.77\n",
       "2254     1499         9               41         330.37\n",
       "2255     1499        10               53         363.28\n",
       "2256     1499        11               45         288.56\n",
       "2257     1499        12               65         468.10\n",
       "\n",
       "[2258 rows x 4 columns]"
      ]
     },
     "metadata": {},
     "output_type": "display_data"
    }
   ],
   "source": [
    "# Fusiona los datos de llamadas, minutos, mensajes e Internet con base en user_id y month\n",
    "\n",
    "\n",
    "#Iniciaremos fusionando el dataframe calls_per_month y minutes_spent:\n",
    "\n",
    "df_user_calls_mins = calls_per_month.merge(minutes_spent, how='outer', on = ['user_id','dt_month'])\n",
    "display(df_user_calls_mins)"
   ]
  },
  {
   "cell_type": "code",
   "execution_count": 32,
   "metadata": {},
   "outputs": [
    {
     "data": {
      "text/html": [
       "<div>\n",
       "<style scoped>\n",
       "    .dataframe tbody tr th:only-of-type {\n",
       "        vertical-align: middle;\n",
       "    }\n",
       "\n",
       "    .dataframe tbody tr th {\n",
       "        vertical-align: top;\n",
       "    }\n",
       "\n",
       "    .dataframe thead th {\n",
       "        text-align: right;\n",
       "    }\n",
       "</style>\n",
       "<table border=\"1\" class=\"dataframe\">\n",
       "  <thead>\n",
       "    <tr style=\"text-align: right;\">\n",
       "      <th></th>\n",
       "      <th>user_id</th>\n",
       "      <th>dt_month</th>\n",
       "      <th>messages_sent</th>\n",
       "      <th>mb_used</th>\n",
       "    </tr>\n",
       "  </thead>\n",
       "  <tbody>\n",
       "    <tr>\n",
       "      <th>0</th>\n",
       "      <td>1000</td>\n",
       "      <td>12</td>\n",
       "      <td>11.0</td>\n",
       "      <td>1901.47</td>\n",
       "    </tr>\n",
       "    <tr>\n",
       "      <th>1</th>\n",
       "      <td>1001</td>\n",
       "      <td>8</td>\n",
       "      <td>30.0</td>\n",
       "      <td>6919.15</td>\n",
       "    </tr>\n",
       "    <tr>\n",
       "      <th>2</th>\n",
       "      <td>1001</td>\n",
       "      <td>9</td>\n",
       "      <td>44.0</td>\n",
       "      <td>13314.82</td>\n",
       "    </tr>\n",
       "    <tr>\n",
       "      <th>3</th>\n",
       "      <td>1001</td>\n",
       "      <td>10</td>\n",
       "      <td>53.0</td>\n",
       "      <td>22330.49</td>\n",
       "    </tr>\n",
       "    <tr>\n",
       "      <th>4</th>\n",
       "      <td>1001</td>\n",
       "      <td>11</td>\n",
       "      <td>36.0</td>\n",
       "      <td>18504.30</td>\n",
       "    </tr>\n",
       "    <tr>\n",
       "      <th>...</th>\n",
       "      <td>...</td>\n",
       "      <td>...</td>\n",
       "      <td>...</td>\n",
       "      <td>...</td>\n",
       "    </tr>\n",
       "    <tr>\n",
       "      <th>2287</th>\n",
       "      <td>1498</td>\n",
       "      <td>12</td>\n",
       "      <td>NaN</td>\n",
       "      <td>23137.69</td>\n",
       "    </tr>\n",
       "    <tr>\n",
       "      <th>2288</th>\n",
       "      <td>1499</td>\n",
       "      <td>9</td>\n",
       "      <td>NaN</td>\n",
       "      <td>12984.76</td>\n",
       "    </tr>\n",
       "    <tr>\n",
       "      <th>2289</th>\n",
       "      <td>1499</td>\n",
       "      <td>10</td>\n",
       "      <td>NaN</td>\n",
       "      <td>19492.43</td>\n",
       "    </tr>\n",
       "    <tr>\n",
       "      <th>2290</th>\n",
       "      <td>1499</td>\n",
       "      <td>11</td>\n",
       "      <td>NaN</td>\n",
       "      <td>16813.83</td>\n",
       "    </tr>\n",
       "    <tr>\n",
       "      <th>2291</th>\n",
       "      <td>1499</td>\n",
       "      <td>12</td>\n",
       "      <td>NaN</td>\n",
       "      <td>22059.21</td>\n",
       "    </tr>\n",
       "  </tbody>\n",
       "</table>\n",
       "<p>2292 rows × 4 columns</p>\n",
       "</div>"
      ],
      "text/plain": [
       "      user_id  dt_month  messages_sent   mb_used\n",
       "0        1000        12           11.0   1901.47\n",
       "1        1001         8           30.0   6919.15\n",
       "2        1001         9           44.0  13314.82\n",
       "3        1001        10           53.0  22330.49\n",
       "4        1001        11           36.0  18504.30\n",
       "...       ...       ...            ...       ...\n",
       "2287     1498        12            NaN  23137.69\n",
       "2288     1499         9            NaN  12984.76\n",
       "2289     1499        10            NaN  19492.43\n",
       "2290     1499        11            NaN  16813.83\n",
       "2291     1499        12            NaN  22059.21\n",
       "\n",
       "[2292 rows x 4 columns]"
      ]
     },
     "metadata": {},
     "output_type": "display_data"
    }
   ],
   "source": [
    "#Ahora procederemos con messages_sent y data_traffic_mb:\n",
    "\n",
    "df_user_msg_internet = messages_sent.merge(data_traffic_mb, how= 'outer', on= ['user_id','dt_month'])\n",
    "display(df_user_msg_internet)"
   ]
  },
  {
   "cell_type": "code",
   "execution_count": 33,
   "metadata": {
    "id": "FW99ykyf0q1H"
   },
   "outputs": [
    {
     "data": {
      "text/html": [
       "<div>\n",
       "<style scoped>\n",
       "    .dataframe tbody tr th:only-of-type {\n",
       "        vertical-align: middle;\n",
       "    }\n",
       "\n",
       "    .dataframe tbody tr th {\n",
       "        vertical-align: top;\n",
       "    }\n",
       "\n",
       "    .dataframe thead th {\n",
       "        text-align: right;\n",
       "    }\n",
       "</style>\n",
       "<table border=\"1\" class=\"dataframe\">\n",
       "  <thead>\n",
       "    <tr style=\"text-align: right;\">\n",
       "      <th></th>\n",
       "      <th>user_id</th>\n",
       "      <th>dt_month</th>\n",
       "      <th>calls_per_month</th>\n",
       "      <th>minutes_spent</th>\n",
       "      <th>messages_sent</th>\n",
       "      <th>mb_used</th>\n",
       "    </tr>\n",
       "  </thead>\n",
       "  <tbody>\n",
       "    <tr>\n",
       "      <th>0</th>\n",
       "      <td>1000</td>\n",
       "      <td>12</td>\n",
       "      <td>16.0</td>\n",
       "      <td>116.83</td>\n",
       "      <td>11.0</td>\n",
       "      <td>1901.47</td>\n",
       "    </tr>\n",
       "    <tr>\n",
       "      <th>1</th>\n",
       "      <td>1001</td>\n",
       "      <td>8</td>\n",
       "      <td>27.0</td>\n",
       "      <td>171.14</td>\n",
       "      <td>30.0</td>\n",
       "      <td>6919.15</td>\n",
       "    </tr>\n",
       "    <tr>\n",
       "      <th>2</th>\n",
       "      <td>1001</td>\n",
       "      <td>9</td>\n",
       "      <td>49.0</td>\n",
       "      <td>297.69</td>\n",
       "      <td>44.0</td>\n",
       "      <td>13314.82</td>\n",
       "    </tr>\n",
       "    <tr>\n",
       "      <th>3</th>\n",
       "      <td>1001</td>\n",
       "      <td>10</td>\n",
       "      <td>65.0</td>\n",
       "      <td>374.11</td>\n",
       "      <td>53.0</td>\n",
       "      <td>22330.49</td>\n",
       "    </tr>\n",
       "    <tr>\n",
       "      <th>4</th>\n",
       "      <td>1001</td>\n",
       "      <td>11</td>\n",
       "      <td>64.0</td>\n",
       "      <td>404.59</td>\n",
       "      <td>36.0</td>\n",
       "      <td>18504.30</td>\n",
       "    </tr>\n",
       "    <tr>\n",
       "      <th>...</th>\n",
       "      <td>...</td>\n",
       "      <td>...</td>\n",
       "      <td>...</td>\n",
       "      <td>...</td>\n",
       "      <td>...</td>\n",
       "      <td>...</td>\n",
       "    </tr>\n",
       "    <tr>\n",
       "      <th>2288</th>\n",
       "      <td>1349</td>\n",
       "      <td>12</td>\n",
       "      <td>NaN</td>\n",
       "      <td>NaN</td>\n",
       "      <td>61.0</td>\n",
       "      <td>13039.91</td>\n",
       "    </tr>\n",
       "    <tr>\n",
       "      <th>2289</th>\n",
       "      <td>1361</td>\n",
       "      <td>5</td>\n",
       "      <td>NaN</td>\n",
       "      <td>NaN</td>\n",
       "      <td>2.0</td>\n",
       "      <td>1519.69</td>\n",
       "    </tr>\n",
       "    <tr>\n",
       "      <th>2290</th>\n",
       "      <td>1482</td>\n",
       "      <td>10</td>\n",
       "      <td>NaN</td>\n",
       "      <td>NaN</td>\n",
       "      <td>2.0</td>\n",
       "      <td>NaN</td>\n",
       "    </tr>\n",
       "    <tr>\n",
       "      <th>2291</th>\n",
       "      <td>1108</td>\n",
       "      <td>12</td>\n",
       "      <td>NaN</td>\n",
       "      <td>NaN</td>\n",
       "      <td>NaN</td>\n",
       "      <td>233.17</td>\n",
       "    </tr>\n",
       "    <tr>\n",
       "      <th>2292</th>\n",
       "      <td>1311</td>\n",
       "      <td>6</td>\n",
       "      <td>NaN</td>\n",
       "      <td>NaN</td>\n",
       "      <td>NaN</td>\n",
       "      <td>1498.83</td>\n",
       "    </tr>\n",
       "  </tbody>\n",
       "</table>\n",
       "<p>2293 rows × 6 columns</p>\n",
       "</div>"
      ],
      "text/plain": [
       "      user_id  dt_month  calls_per_month  minutes_spent  messages_sent  \\\n",
       "0        1000        12             16.0         116.83           11.0   \n",
       "1        1001         8             27.0         171.14           30.0   \n",
       "2        1001         9             49.0         297.69           44.0   \n",
       "3        1001        10             65.0         374.11           53.0   \n",
       "4        1001        11             64.0         404.59           36.0   \n",
       "...       ...       ...              ...            ...            ...   \n",
       "2288     1349        12              NaN            NaN           61.0   \n",
       "2289     1361         5              NaN            NaN            2.0   \n",
       "2290     1482        10              NaN            NaN            2.0   \n",
       "2291     1108        12              NaN            NaN            NaN   \n",
       "2292     1311         6              NaN            NaN            NaN   \n",
       "\n",
       "       mb_used  \n",
       "0      1901.47  \n",
       "1      6919.15  \n",
       "2     13314.82  \n",
       "3     22330.49  \n",
       "4     18504.30  \n",
       "...        ...  \n",
       "2288  13039.91  \n",
       "2289   1519.69  \n",
       "2290       NaN  \n",
       "2291    233.17  \n",
       "2292   1498.83  \n",
       "\n",
       "[2293 rows x 6 columns]"
      ]
     },
     "metadata": {},
     "output_type": "display_data"
    }
   ],
   "source": [
    "#Ahora fusionaremos df_user_calls_mins y df_user_msg_internet en un nuevo dataframe llamado df_users_month:\n",
    "\n",
    "df_users_month = df_user_calls_mins.merge(df_user_msg_internet, how='outer', on=['user_id','dt_month'])\n",
    "display(df_users_month)\n",
    "\n"
   ]
  },
  {
   "cell_type": "code",
   "execution_count": 34,
   "metadata": {},
   "outputs": [
    {
     "data": {
      "text/html": [
       "<div>\n",
       "<style scoped>\n",
       "    .dataframe tbody tr th:only-of-type {\n",
       "        vertical-align: middle;\n",
       "    }\n",
       "\n",
       "    .dataframe tbody tr th {\n",
       "        vertical-align: top;\n",
       "    }\n",
       "\n",
       "    .dataframe thead th {\n",
       "        text-align: right;\n",
       "    }\n",
       "</style>\n",
       "<table border=\"1\" class=\"dataframe\">\n",
       "  <thead>\n",
       "    <tr style=\"text-align: right;\">\n",
       "      <th></th>\n",
       "      <th>user_id</th>\n",
       "      <th>dt_month</th>\n",
       "      <th>calls_per_month</th>\n",
       "      <th>minutes_spent</th>\n",
       "      <th>messages_sent</th>\n",
       "      <th>mb_used</th>\n",
       "    </tr>\n",
       "  </thead>\n",
       "  <tbody>\n",
       "    <tr>\n",
       "      <th>0</th>\n",
       "      <td>1000</td>\n",
       "      <td>12</td>\n",
       "      <td>16.0</td>\n",
       "      <td>116.83</td>\n",
       "      <td>11.0</td>\n",
       "      <td>1901.47</td>\n",
       "    </tr>\n",
       "    <tr>\n",
       "      <th>1</th>\n",
       "      <td>1001</td>\n",
       "      <td>8</td>\n",
       "      <td>27.0</td>\n",
       "      <td>171.14</td>\n",
       "      <td>30.0</td>\n",
       "      <td>6919.15</td>\n",
       "    </tr>\n",
       "    <tr>\n",
       "      <th>2</th>\n",
       "      <td>1001</td>\n",
       "      <td>9</td>\n",
       "      <td>49.0</td>\n",
       "      <td>297.69</td>\n",
       "      <td>44.0</td>\n",
       "      <td>13314.82</td>\n",
       "    </tr>\n",
       "    <tr>\n",
       "      <th>3</th>\n",
       "      <td>1001</td>\n",
       "      <td>10</td>\n",
       "      <td>65.0</td>\n",
       "      <td>374.11</td>\n",
       "      <td>53.0</td>\n",
       "      <td>22330.49</td>\n",
       "    </tr>\n",
       "    <tr>\n",
       "      <th>4</th>\n",
       "      <td>1001</td>\n",
       "      <td>11</td>\n",
       "      <td>64.0</td>\n",
       "      <td>404.59</td>\n",
       "      <td>36.0</td>\n",
       "      <td>18504.30</td>\n",
       "    </tr>\n",
       "    <tr>\n",
       "      <th>...</th>\n",
       "      <td>...</td>\n",
       "      <td>...</td>\n",
       "      <td>...</td>\n",
       "      <td>...</td>\n",
       "      <td>...</td>\n",
       "      <td>...</td>\n",
       "    </tr>\n",
       "    <tr>\n",
       "      <th>2288</th>\n",
       "      <td>1349</td>\n",
       "      <td>12</td>\n",
       "      <td>0.0</td>\n",
       "      <td>0.00</td>\n",
       "      <td>61.0</td>\n",
       "      <td>13039.91</td>\n",
       "    </tr>\n",
       "    <tr>\n",
       "      <th>2289</th>\n",
       "      <td>1361</td>\n",
       "      <td>5</td>\n",
       "      <td>0.0</td>\n",
       "      <td>0.00</td>\n",
       "      <td>2.0</td>\n",
       "      <td>1519.69</td>\n",
       "    </tr>\n",
       "    <tr>\n",
       "      <th>2290</th>\n",
       "      <td>1482</td>\n",
       "      <td>10</td>\n",
       "      <td>0.0</td>\n",
       "      <td>0.00</td>\n",
       "      <td>2.0</td>\n",
       "      <td>0.00</td>\n",
       "    </tr>\n",
       "    <tr>\n",
       "      <th>2291</th>\n",
       "      <td>1108</td>\n",
       "      <td>12</td>\n",
       "      <td>0.0</td>\n",
       "      <td>0.00</td>\n",
       "      <td>0.0</td>\n",
       "      <td>233.17</td>\n",
       "    </tr>\n",
       "    <tr>\n",
       "      <th>2292</th>\n",
       "      <td>1311</td>\n",
       "      <td>6</td>\n",
       "      <td>0.0</td>\n",
       "      <td>0.00</td>\n",
       "      <td>0.0</td>\n",
       "      <td>1498.83</td>\n",
       "    </tr>\n",
       "  </tbody>\n",
       "</table>\n",
       "<p>2293 rows × 6 columns</p>\n",
       "</div>"
      ],
      "text/plain": [
       "      user_id  dt_month  calls_per_month  minutes_spent  messages_sent  \\\n",
       "0        1000        12             16.0         116.83           11.0   \n",
       "1        1001         8             27.0         171.14           30.0   \n",
       "2        1001         9             49.0         297.69           44.0   \n",
       "3        1001        10             65.0         374.11           53.0   \n",
       "4        1001        11             64.0         404.59           36.0   \n",
       "...       ...       ...              ...            ...            ...   \n",
       "2288     1349        12              0.0           0.00           61.0   \n",
       "2289     1361         5              0.0           0.00            2.0   \n",
       "2290     1482        10              0.0           0.00            2.0   \n",
       "2291     1108        12              0.0           0.00            0.0   \n",
       "2292     1311         6              0.0           0.00            0.0   \n",
       "\n",
       "       mb_used  \n",
       "0      1901.47  \n",
       "1      6919.15  \n",
       "2     13314.82  \n",
       "3     22330.49  \n",
       "4     18504.30  \n",
       "...        ...  \n",
       "2288  13039.91  \n",
       "2289   1519.69  \n",
       "2290      0.00  \n",
       "2291    233.17  \n",
       "2292   1498.83  \n",
       "\n",
       "[2293 rows x 6 columns]"
      ]
     },
     "metadata": {},
     "output_type": "display_data"
    }
   ],
   "source": [
    "#Finalmente, reemplazaremos los valores nulos por 0, es decir que el usuario no hizo uso de dicho servicio en el mes descrito:\n",
    "\n",
    "df_users_month = df_users_month.fillna(0)\n",
    "\n",
    "display(df_users_month)"
   ]
  },
  {
   "cell_type": "markdown",
   "metadata": {},
   "source": [
    "<div class=\"alert alert-block alert-success\">\n",
    "<b>Comentario del revisor</b> <a class=\"tocSkip\"></a>\n",
    "\n",
    "Muy buen trabajo!! el merge es correcto para unir todas las bases trabajadas.\n",
    "    \n",
    "</div>"
   ]
  },
  {
   "cell_type": "code",
   "execution_count": 35,
   "metadata": {},
   "outputs": [
    {
     "data": {
      "text/html": [
       "<div>\n",
       "<style scoped>\n",
       "    .dataframe tbody tr th:only-of-type {\n",
       "        vertical-align: middle;\n",
       "    }\n",
       "\n",
       "    .dataframe tbody tr th {\n",
       "        vertical-align: top;\n",
       "    }\n",
       "\n",
       "    .dataframe thead th {\n",
       "        text-align: right;\n",
       "    }\n",
       "</style>\n",
       "<table border=\"1\" class=\"dataframe\">\n",
       "  <thead>\n",
       "    <tr style=\"text-align: right;\">\n",
       "      <th></th>\n",
       "      <th>user_id</th>\n",
       "      <th>first_name</th>\n",
       "      <th>last_name</th>\n",
       "      <th>age</th>\n",
       "      <th>city</th>\n",
       "      <th>reg_date</th>\n",
       "      <th>plan</th>\n",
       "      <th>churn_date</th>\n",
       "      <th>dt_month</th>\n",
       "      <th>calls_per_month</th>\n",
       "      <th>minutes_spent</th>\n",
       "      <th>messages_sent</th>\n",
       "      <th>mb_used</th>\n",
       "    </tr>\n",
       "  </thead>\n",
       "  <tbody>\n",
       "    <tr>\n",
       "      <th>0</th>\n",
       "      <td>1000</td>\n",
       "      <td>Anamaria</td>\n",
       "      <td>Bauer</td>\n",
       "      <td>45</td>\n",
       "      <td>Atlanta-Sandy Springs-Roswell, GA MSA</td>\n",
       "      <td>2018-12-24</td>\n",
       "      <td>ultimate</td>\n",
       "      <td>active</td>\n",
       "      <td>12</td>\n",
       "      <td>16.0</td>\n",
       "      <td>116.83</td>\n",
       "      <td>11.0</td>\n",
       "      <td>1901.47</td>\n",
       "    </tr>\n",
       "    <tr>\n",
       "      <th>1</th>\n",
       "      <td>1001</td>\n",
       "      <td>Mickey</td>\n",
       "      <td>Wilkerson</td>\n",
       "      <td>28</td>\n",
       "      <td>Seattle-Tacoma-Bellevue, WA MSA</td>\n",
       "      <td>2018-08-13</td>\n",
       "      <td>surf</td>\n",
       "      <td>active</td>\n",
       "      <td>8</td>\n",
       "      <td>27.0</td>\n",
       "      <td>171.14</td>\n",
       "      <td>30.0</td>\n",
       "      <td>6919.15</td>\n",
       "    </tr>\n",
       "    <tr>\n",
       "      <th>2</th>\n",
       "      <td>1001</td>\n",
       "      <td>Mickey</td>\n",
       "      <td>Wilkerson</td>\n",
       "      <td>28</td>\n",
       "      <td>Seattle-Tacoma-Bellevue, WA MSA</td>\n",
       "      <td>2018-08-13</td>\n",
       "      <td>surf</td>\n",
       "      <td>active</td>\n",
       "      <td>9</td>\n",
       "      <td>49.0</td>\n",
       "      <td>297.69</td>\n",
       "      <td>44.0</td>\n",
       "      <td>13314.82</td>\n",
       "    </tr>\n",
       "    <tr>\n",
       "      <th>3</th>\n",
       "      <td>1001</td>\n",
       "      <td>Mickey</td>\n",
       "      <td>Wilkerson</td>\n",
       "      <td>28</td>\n",
       "      <td>Seattle-Tacoma-Bellevue, WA MSA</td>\n",
       "      <td>2018-08-13</td>\n",
       "      <td>surf</td>\n",
       "      <td>active</td>\n",
       "      <td>10</td>\n",
       "      <td>65.0</td>\n",
       "      <td>374.11</td>\n",
       "      <td>53.0</td>\n",
       "      <td>22330.49</td>\n",
       "    </tr>\n",
       "    <tr>\n",
       "      <th>4</th>\n",
       "      <td>1001</td>\n",
       "      <td>Mickey</td>\n",
       "      <td>Wilkerson</td>\n",
       "      <td>28</td>\n",
       "      <td>Seattle-Tacoma-Bellevue, WA MSA</td>\n",
       "      <td>2018-08-13</td>\n",
       "      <td>surf</td>\n",
       "      <td>active</td>\n",
       "      <td>11</td>\n",
       "      <td>64.0</td>\n",
       "      <td>404.59</td>\n",
       "      <td>36.0</td>\n",
       "      <td>18504.30</td>\n",
       "    </tr>\n",
       "    <tr>\n",
       "      <th>...</th>\n",
       "      <td>...</td>\n",
       "      <td>...</td>\n",
       "      <td>...</td>\n",
       "      <td>...</td>\n",
       "      <td>...</td>\n",
       "      <td>...</td>\n",
       "      <td>...</td>\n",
       "      <td>...</td>\n",
       "      <td>...</td>\n",
       "      <td>...</td>\n",
       "      <td>...</td>\n",
       "      <td>...</td>\n",
       "      <td>...</td>\n",
       "    </tr>\n",
       "    <tr>\n",
       "      <th>2288</th>\n",
       "      <td>1498</td>\n",
       "      <td>Scot</td>\n",
       "      <td>Williamson</td>\n",
       "      <td>51</td>\n",
       "      <td>New York-Newark-Jersey City, NY-NJ-PA MSA</td>\n",
       "      <td>2018-02-04</td>\n",
       "      <td>surf</td>\n",
       "      <td>active</td>\n",
       "      <td>12</td>\n",
       "      <td>39.0</td>\n",
       "      <td>324.77</td>\n",
       "      <td>0.0</td>\n",
       "      <td>23137.69</td>\n",
       "    </tr>\n",
       "    <tr>\n",
       "      <th>2289</th>\n",
       "      <td>1499</td>\n",
       "      <td>Shena</td>\n",
       "      <td>Dickson</td>\n",
       "      <td>37</td>\n",
       "      <td>Orlando-Kissimmee-Sanford, FL MSA</td>\n",
       "      <td>2018-05-06</td>\n",
       "      <td>surf</td>\n",
       "      <td>active</td>\n",
       "      <td>9</td>\n",
       "      <td>41.0</td>\n",
       "      <td>330.37</td>\n",
       "      <td>0.0</td>\n",
       "      <td>12984.76</td>\n",
       "    </tr>\n",
       "    <tr>\n",
       "      <th>2290</th>\n",
       "      <td>1499</td>\n",
       "      <td>Shena</td>\n",
       "      <td>Dickson</td>\n",
       "      <td>37</td>\n",
       "      <td>Orlando-Kissimmee-Sanford, FL MSA</td>\n",
       "      <td>2018-05-06</td>\n",
       "      <td>surf</td>\n",
       "      <td>active</td>\n",
       "      <td>10</td>\n",
       "      <td>53.0</td>\n",
       "      <td>363.28</td>\n",
       "      <td>0.0</td>\n",
       "      <td>19492.43</td>\n",
       "    </tr>\n",
       "    <tr>\n",
       "      <th>2291</th>\n",
       "      <td>1499</td>\n",
       "      <td>Shena</td>\n",
       "      <td>Dickson</td>\n",
       "      <td>37</td>\n",
       "      <td>Orlando-Kissimmee-Sanford, FL MSA</td>\n",
       "      <td>2018-05-06</td>\n",
       "      <td>surf</td>\n",
       "      <td>active</td>\n",
       "      <td>11</td>\n",
       "      <td>45.0</td>\n",
       "      <td>288.56</td>\n",
       "      <td>0.0</td>\n",
       "      <td>16813.83</td>\n",
       "    </tr>\n",
       "    <tr>\n",
       "      <th>2292</th>\n",
       "      <td>1499</td>\n",
       "      <td>Shena</td>\n",
       "      <td>Dickson</td>\n",
       "      <td>37</td>\n",
       "      <td>Orlando-Kissimmee-Sanford, FL MSA</td>\n",
       "      <td>2018-05-06</td>\n",
       "      <td>surf</td>\n",
       "      <td>active</td>\n",
       "      <td>12</td>\n",
       "      <td>65.0</td>\n",
       "      <td>468.10</td>\n",
       "      <td>0.0</td>\n",
       "      <td>22059.21</td>\n",
       "    </tr>\n",
       "  </tbody>\n",
       "</table>\n",
       "<p>2293 rows × 13 columns</p>\n",
       "</div>"
      ],
      "text/plain": [
       "      user_id first_name   last_name  age  \\\n",
       "0        1000   Anamaria       Bauer   45   \n",
       "1        1001     Mickey   Wilkerson   28   \n",
       "2        1001     Mickey   Wilkerson   28   \n",
       "3        1001     Mickey   Wilkerson   28   \n",
       "4        1001     Mickey   Wilkerson   28   \n",
       "...       ...        ...         ...  ...   \n",
       "2288     1498       Scot  Williamson   51   \n",
       "2289     1499      Shena     Dickson   37   \n",
       "2290     1499      Shena     Dickson   37   \n",
       "2291     1499      Shena     Dickson   37   \n",
       "2292     1499      Shena     Dickson   37   \n",
       "\n",
       "                                           city   reg_date      plan  \\\n",
       "0         Atlanta-Sandy Springs-Roswell, GA MSA 2018-12-24  ultimate   \n",
       "1               Seattle-Tacoma-Bellevue, WA MSA 2018-08-13      surf   \n",
       "2               Seattle-Tacoma-Bellevue, WA MSA 2018-08-13      surf   \n",
       "3               Seattle-Tacoma-Bellevue, WA MSA 2018-08-13      surf   \n",
       "4               Seattle-Tacoma-Bellevue, WA MSA 2018-08-13      surf   \n",
       "...                                         ...        ...       ...   \n",
       "2288  New York-Newark-Jersey City, NY-NJ-PA MSA 2018-02-04      surf   \n",
       "2289          Orlando-Kissimmee-Sanford, FL MSA 2018-05-06      surf   \n",
       "2290          Orlando-Kissimmee-Sanford, FL MSA 2018-05-06      surf   \n",
       "2291          Orlando-Kissimmee-Sanford, FL MSA 2018-05-06      surf   \n",
       "2292          Orlando-Kissimmee-Sanford, FL MSA 2018-05-06      surf   \n",
       "\n",
       "     churn_date  dt_month  calls_per_month  minutes_spent  messages_sent  \\\n",
       "0        active        12             16.0         116.83           11.0   \n",
       "1        active         8             27.0         171.14           30.0   \n",
       "2        active         9             49.0         297.69           44.0   \n",
       "3        active        10             65.0         374.11           53.0   \n",
       "4        active        11             64.0         404.59           36.0   \n",
       "...         ...       ...              ...            ...            ...   \n",
       "2288     active        12             39.0         324.77            0.0   \n",
       "2289     active         9             41.0         330.37            0.0   \n",
       "2290     active        10             53.0         363.28            0.0   \n",
       "2291     active        11             45.0         288.56            0.0   \n",
       "2292     active        12             65.0         468.10            0.0   \n",
       "\n",
       "       mb_used  \n",
       "0      1901.47  \n",
       "1      6919.15  \n",
       "2     13314.82  \n",
       "3     22330.49  \n",
       "4     18504.30  \n",
       "...        ...  \n",
       "2288  23137.69  \n",
       "2289  12984.76  \n",
       "2290  19492.43  \n",
       "2291  16813.83  \n",
       "2292  22059.21  \n",
       "\n",
       "[2293 rows x 13 columns]"
      ]
     },
     "metadata": {},
     "output_type": "display_data"
    }
   ],
   "source": [
    "# Añade la información de la tarifa\n",
    "\n",
    "#Para esto, debemos realizar una fusión del dataframe df_users_month con la tabla users a través de 'user_id':\n",
    "\n",
    "df_users_info = users.merge(df_users_month, how='inner', on='user_id')\n",
    "\n",
    "display(df_users_info)"
   ]
  },
  {
   "cell_type": "code",
   "execution_count": 36,
   "metadata": {
    "id": "0dNOXHag0q1H"
   },
   "outputs": [
    {
     "data": {
      "text/html": [
       "<div>\n",
       "<style scoped>\n",
       "    .dataframe tbody tr th:only-of-type {\n",
       "        vertical-align: middle;\n",
       "    }\n",
       "\n",
       "    .dataframe tbody tr th {\n",
       "        vertical-align: top;\n",
       "    }\n",
       "\n",
       "    .dataframe thead th {\n",
       "        text-align: right;\n",
       "    }\n",
       "</style>\n",
       "<table border=\"1\" class=\"dataframe\">\n",
       "  <thead>\n",
       "    <tr style=\"text-align: right;\">\n",
       "      <th></th>\n",
       "      <th>user_id</th>\n",
       "      <th>first_name</th>\n",
       "      <th>last_name</th>\n",
       "      <th>age</th>\n",
       "      <th>city</th>\n",
       "      <th>reg_date</th>\n",
       "      <th>plan</th>\n",
       "      <th>churn_date</th>\n",
       "      <th>dt_month</th>\n",
       "      <th>calls_per_month</th>\n",
       "      <th>...</th>\n",
       "      <th>messages_sent</th>\n",
       "      <th>mb_used</th>\n",
       "      <th>messages_included</th>\n",
       "      <th>mb_per_month_included</th>\n",
       "      <th>minutes_included</th>\n",
       "      <th>usd_monthly_pay</th>\n",
       "      <th>usd_per_gb</th>\n",
       "      <th>usd_per_message</th>\n",
       "      <th>usd_per_minute</th>\n",
       "      <th>plan_name</th>\n",
       "    </tr>\n",
       "  </thead>\n",
       "  <tbody>\n",
       "    <tr>\n",
       "      <th>0</th>\n",
       "      <td>1000</td>\n",
       "      <td>Anamaria</td>\n",
       "      <td>Bauer</td>\n",
       "      <td>45</td>\n",
       "      <td>Atlanta-Sandy Springs-Roswell, GA MSA</td>\n",
       "      <td>2018-12-24</td>\n",
       "      <td>ultimate</td>\n",
       "      <td>active</td>\n",
       "      <td>12</td>\n",
       "      <td>16.0</td>\n",
       "      <td>...</td>\n",
       "      <td>11.0</td>\n",
       "      <td>1901.47</td>\n",
       "      <td>1000</td>\n",
       "      <td>30720</td>\n",
       "      <td>3000</td>\n",
       "      <td>70</td>\n",
       "      <td>7</td>\n",
       "      <td>0.01</td>\n",
       "      <td>0.01</td>\n",
       "      <td>ultimate</td>\n",
       "    </tr>\n",
       "    <tr>\n",
       "      <th>1</th>\n",
       "      <td>1006</td>\n",
       "      <td>Jesusa</td>\n",
       "      <td>Bradford</td>\n",
       "      <td>73</td>\n",
       "      <td>San Francisco-Oakland-Berkeley, CA MSA</td>\n",
       "      <td>2018-11-27</td>\n",
       "      <td>ultimate</td>\n",
       "      <td>2018-12-18</td>\n",
       "      <td>11</td>\n",
       "      <td>2.0</td>\n",
       "      <td>...</td>\n",
       "      <td>15.0</td>\n",
       "      <td>2068.37</td>\n",
       "      <td>1000</td>\n",
       "      <td>30720</td>\n",
       "      <td>3000</td>\n",
       "      <td>70</td>\n",
       "      <td>7</td>\n",
       "      <td>0.01</td>\n",
       "      <td>0.01</td>\n",
       "      <td>ultimate</td>\n",
       "    </tr>\n",
       "    <tr>\n",
       "      <th>2</th>\n",
       "      <td>1006</td>\n",
       "      <td>Jesusa</td>\n",
       "      <td>Bradford</td>\n",
       "      <td>73</td>\n",
       "      <td>San Francisco-Oakland-Berkeley, CA MSA</td>\n",
       "      <td>2018-11-27</td>\n",
       "      <td>ultimate</td>\n",
       "      <td>2018-12-18</td>\n",
       "      <td>12</td>\n",
       "      <td>9.0</td>\n",
       "      <td>...</td>\n",
       "      <td>139.0</td>\n",
       "      <td>32118.82</td>\n",
       "      <td>1000</td>\n",
       "      <td>30720</td>\n",
       "      <td>3000</td>\n",
       "      <td>70</td>\n",
       "      <td>7</td>\n",
       "      <td>0.01</td>\n",
       "      <td>0.01</td>\n",
       "      <td>ultimate</td>\n",
       "    </tr>\n",
       "    <tr>\n",
       "      <th>3</th>\n",
       "      <td>1008</td>\n",
       "      <td>Emely</td>\n",
       "      <td>Hoffman</td>\n",
       "      <td>53</td>\n",
       "      <td>Orlando-Kissimmee-Sanford, FL MSA</td>\n",
       "      <td>2018-08-03</td>\n",
       "      <td>ultimate</td>\n",
       "      <td>active</td>\n",
       "      <td>10</td>\n",
       "      <td>71.0</td>\n",
       "      <td>...</td>\n",
       "      <td>21.0</td>\n",
       "      <td>17106.99</td>\n",
       "      <td>1000</td>\n",
       "      <td>30720</td>\n",
       "      <td>3000</td>\n",
       "      <td>70</td>\n",
       "      <td>7</td>\n",
       "      <td>0.01</td>\n",
       "      <td>0.01</td>\n",
       "      <td>ultimate</td>\n",
       "    </tr>\n",
       "    <tr>\n",
       "      <th>4</th>\n",
       "      <td>1008</td>\n",
       "      <td>Emely</td>\n",
       "      <td>Hoffman</td>\n",
       "      <td>53</td>\n",
       "      <td>Orlando-Kissimmee-Sanford, FL MSA</td>\n",
       "      <td>2018-08-03</td>\n",
       "      <td>ultimate</td>\n",
       "      <td>active</td>\n",
       "      <td>11</td>\n",
       "      <td>63.0</td>\n",
       "      <td>...</td>\n",
       "      <td>37.0</td>\n",
       "      <td>23676.72</td>\n",
       "      <td>1000</td>\n",
       "      <td>30720</td>\n",
       "      <td>3000</td>\n",
       "      <td>70</td>\n",
       "      <td>7</td>\n",
       "      <td>0.01</td>\n",
       "      <td>0.01</td>\n",
       "      <td>ultimate</td>\n",
       "    </tr>\n",
       "    <tr>\n",
       "      <th>...</th>\n",
       "      <td>...</td>\n",
       "      <td>...</td>\n",
       "      <td>...</td>\n",
       "      <td>...</td>\n",
       "      <td>...</td>\n",
       "      <td>...</td>\n",
       "      <td>...</td>\n",
       "      <td>...</td>\n",
       "      <td>...</td>\n",
       "      <td>...</td>\n",
       "      <td>...</td>\n",
       "      <td>...</td>\n",
       "      <td>...</td>\n",
       "      <td>...</td>\n",
       "      <td>...</td>\n",
       "      <td>...</td>\n",
       "      <td>...</td>\n",
       "      <td>...</td>\n",
       "      <td>...</td>\n",
       "      <td>...</td>\n",
       "      <td>...</td>\n",
       "    </tr>\n",
       "    <tr>\n",
       "      <th>2288</th>\n",
       "      <td>1498</td>\n",
       "      <td>Scot</td>\n",
       "      <td>Williamson</td>\n",
       "      <td>51</td>\n",
       "      <td>New York-Newark-Jersey City, NY-NJ-PA MSA</td>\n",
       "      <td>2018-02-04</td>\n",
       "      <td>surf</td>\n",
       "      <td>active</td>\n",
       "      <td>12</td>\n",
       "      <td>39.0</td>\n",
       "      <td>...</td>\n",
       "      <td>0.0</td>\n",
       "      <td>23137.69</td>\n",
       "      <td>50</td>\n",
       "      <td>15360</td>\n",
       "      <td>500</td>\n",
       "      <td>20</td>\n",
       "      <td>10</td>\n",
       "      <td>0.03</td>\n",
       "      <td>0.03</td>\n",
       "      <td>surf</td>\n",
       "    </tr>\n",
       "    <tr>\n",
       "      <th>2289</th>\n",
       "      <td>1499</td>\n",
       "      <td>Shena</td>\n",
       "      <td>Dickson</td>\n",
       "      <td>37</td>\n",
       "      <td>Orlando-Kissimmee-Sanford, FL MSA</td>\n",
       "      <td>2018-05-06</td>\n",
       "      <td>surf</td>\n",
       "      <td>active</td>\n",
       "      <td>9</td>\n",
       "      <td>41.0</td>\n",
       "      <td>...</td>\n",
       "      <td>0.0</td>\n",
       "      <td>12984.76</td>\n",
       "      <td>50</td>\n",
       "      <td>15360</td>\n",
       "      <td>500</td>\n",
       "      <td>20</td>\n",
       "      <td>10</td>\n",
       "      <td>0.03</td>\n",
       "      <td>0.03</td>\n",
       "      <td>surf</td>\n",
       "    </tr>\n",
       "    <tr>\n",
       "      <th>2290</th>\n",
       "      <td>1499</td>\n",
       "      <td>Shena</td>\n",
       "      <td>Dickson</td>\n",
       "      <td>37</td>\n",
       "      <td>Orlando-Kissimmee-Sanford, FL MSA</td>\n",
       "      <td>2018-05-06</td>\n",
       "      <td>surf</td>\n",
       "      <td>active</td>\n",
       "      <td>10</td>\n",
       "      <td>53.0</td>\n",
       "      <td>...</td>\n",
       "      <td>0.0</td>\n",
       "      <td>19492.43</td>\n",
       "      <td>50</td>\n",
       "      <td>15360</td>\n",
       "      <td>500</td>\n",
       "      <td>20</td>\n",
       "      <td>10</td>\n",
       "      <td>0.03</td>\n",
       "      <td>0.03</td>\n",
       "      <td>surf</td>\n",
       "    </tr>\n",
       "    <tr>\n",
       "      <th>2291</th>\n",
       "      <td>1499</td>\n",
       "      <td>Shena</td>\n",
       "      <td>Dickson</td>\n",
       "      <td>37</td>\n",
       "      <td>Orlando-Kissimmee-Sanford, FL MSA</td>\n",
       "      <td>2018-05-06</td>\n",
       "      <td>surf</td>\n",
       "      <td>active</td>\n",
       "      <td>11</td>\n",
       "      <td>45.0</td>\n",
       "      <td>...</td>\n",
       "      <td>0.0</td>\n",
       "      <td>16813.83</td>\n",
       "      <td>50</td>\n",
       "      <td>15360</td>\n",
       "      <td>500</td>\n",
       "      <td>20</td>\n",
       "      <td>10</td>\n",
       "      <td>0.03</td>\n",
       "      <td>0.03</td>\n",
       "      <td>surf</td>\n",
       "    </tr>\n",
       "    <tr>\n",
       "      <th>2292</th>\n",
       "      <td>1499</td>\n",
       "      <td>Shena</td>\n",
       "      <td>Dickson</td>\n",
       "      <td>37</td>\n",
       "      <td>Orlando-Kissimmee-Sanford, FL MSA</td>\n",
       "      <td>2018-05-06</td>\n",
       "      <td>surf</td>\n",
       "      <td>active</td>\n",
       "      <td>12</td>\n",
       "      <td>65.0</td>\n",
       "      <td>...</td>\n",
       "      <td>0.0</td>\n",
       "      <td>22059.21</td>\n",
       "      <td>50</td>\n",
       "      <td>15360</td>\n",
       "      <td>500</td>\n",
       "      <td>20</td>\n",
       "      <td>10</td>\n",
       "      <td>0.03</td>\n",
       "      <td>0.03</td>\n",
       "      <td>surf</td>\n",
       "    </tr>\n",
       "  </tbody>\n",
       "</table>\n",
       "<p>2293 rows × 21 columns</p>\n",
       "</div>"
      ],
      "text/plain": [
       "      user_id first_name   last_name  age  \\\n",
       "0        1000   Anamaria       Bauer   45   \n",
       "1        1006     Jesusa    Bradford   73   \n",
       "2        1006     Jesusa    Bradford   73   \n",
       "3        1008      Emely     Hoffman   53   \n",
       "4        1008      Emely     Hoffman   53   \n",
       "...       ...        ...         ...  ...   \n",
       "2288     1498       Scot  Williamson   51   \n",
       "2289     1499      Shena     Dickson   37   \n",
       "2290     1499      Shena     Dickson   37   \n",
       "2291     1499      Shena     Dickson   37   \n",
       "2292     1499      Shena     Dickson   37   \n",
       "\n",
       "                                           city   reg_date      plan  \\\n",
       "0         Atlanta-Sandy Springs-Roswell, GA MSA 2018-12-24  ultimate   \n",
       "1        San Francisco-Oakland-Berkeley, CA MSA 2018-11-27  ultimate   \n",
       "2        San Francisco-Oakland-Berkeley, CA MSA 2018-11-27  ultimate   \n",
       "3             Orlando-Kissimmee-Sanford, FL MSA 2018-08-03  ultimate   \n",
       "4             Orlando-Kissimmee-Sanford, FL MSA 2018-08-03  ultimate   \n",
       "...                                         ...        ...       ...   \n",
       "2288  New York-Newark-Jersey City, NY-NJ-PA MSA 2018-02-04      surf   \n",
       "2289          Orlando-Kissimmee-Sanford, FL MSA 2018-05-06      surf   \n",
       "2290          Orlando-Kissimmee-Sanford, FL MSA 2018-05-06      surf   \n",
       "2291          Orlando-Kissimmee-Sanford, FL MSA 2018-05-06      surf   \n",
       "2292          Orlando-Kissimmee-Sanford, FL MSA 2018-05-06      surf   \n",
       "\n",
       "      churn_date  dt_month  calls_per_month  ...  messages_sent   mb_used  \\\n",
       "0         active        12             16.0  ...           11.0   1901.47   \n",
       "1     2018-12-18        11              2.0  ...           15.0   2068.37   \n",
       "2     2018-12-18        12              9.0  ...          139.0  32118.82   \n",
       "3         active        10             71.0  ...           21.0  17106.99   \n",
       "4         active        11             63.0  ...           37.0  23676.72   \n",
       "...          ...       ...              ...  ...            ...       ...   \n",
       "2288      active        12             39.0  ...            0.0  23137.69   \n",
       "2289      active         9             41.0  ...            0.0  12984.76   \n",
       "2290      active        10             53.0  ...            0.0  19492.43   \n",
       "2291      active        11             45.0  ...            0.0  16813.83   \n",
       "2292      active        12             65.0  ...            0.0  22059.21   \n",
       "\n",
       "      messages_included  mb_per_month_included  minutes_included  \\\n",
       "0                  1000                  30720              3000   \n",
       "1                  1000                  30720              3000   \n",
       "2                  1000                  30720              3000   \n",
       "3                  1000                  30720              3000   \n",
       "4                  1000                  30720              3000   \n",
       "...                 ...                    ...               ...   \n",
       "2288                 50                  15360               500   \n",
       "2289                 50                  15360               500   \n",
       "2290                 50                  15360               500   \n",
       "2291                 50                  15360               500   \n",
       "2292                 50                  15360               500   \n",
       "\n",
       "      usd_monthly_pay  usd_per_gb  usd_per_message  usd_per_minute  plan_name  \n",
       "0                  70           7             0.01            0.01   ultimate  \n",
       "1                  70           7             0.01            0.01   ultimate  \n",
       "2                  70           7             0.01            0.01   ultimate  \n",
       "3                  70           7             0.01            0.01   ultimate  \n",
       "4                  70           7             0.01            0.01   ultimate  \n",
       "...               ...         ...              ...             ...        ...  \n",
       "2288               20          10             0.03            0.03       surf  \n",
       "2289               20          10             0.03            0.03       surf  \n",
       "2290               20          10             0.03            0.03       surf  \n",
       "2291               20          10             0.03            0.03       surf  \n",
       "2292               20          10             0.03            0.03       surf  \n",
       "\n",
       "[2293 rows x 21 columns]"
      ]
     },
     "metadata": {},
     "output_type": "display_data"
    },
    {
     "name": "stdout",
     "output_type": "stream",
     "text": [
      "<class 'pandas.core.frame.DataFrame'>\n",
      "Int64Index: 2293 entries, 0 to 2292\n",
      "Data columns (total 21 columns):\n",
      " #   Column                 Non-Null Count  Dtype         \n",
      "---  ------                 --------------  -----         \n",
      " 0   user_id                2293 non-null   int64         \n",
      " 1   first_name             2293 non-null   object        \n",
      " 2   last_name              2293 non-null   object        \n",
      " 3   age                    2293 non-null   int64         \n",
      " 4   city                   2293 non-null   object        \n",
      " 5   reg_date               2293 non-null   datetime64[ns]\n",
      " 6   plan                   2293 non-null   object        \n",
      " 7   churn_date             2293 non-null   object        \n",
      " 8   dt_month               2293 non-null   int64         \n",
      " 9   calls_per_month        2293 non-null   float64       \n",
      " 10  minutes_spent          2293 non-null   float64       \n",
      " 11  messages_sent          2293 non-null   float64       \n",
      " 12  mb_used                2293 non-null   float64       \n",
      " 13  messages_included      2293 non-null   int64         \n",
      " 14  mb_per_month_included  2293 non-null   int64         \n",
      " 15  minutes_included       2293 non-null   int64         \n",
      " 16  usd_monthly_pay        2293 non-null   int64         \n",
      " 17  usd_per_gb             2293 non-null   int64         \n",
      " 18  usd_per_message        2293 non-null   float64       \n",
      " 19  usd_per_minute         2293 non-null   float64       \n",
      " 20  plan_name              2293 non-null   object        \n",
      "dtypes: datetime64[ns](1), float64(6), int64(8), object(6)\n",
      "memory usage: 394.1+ KB\n"
     ]
    },
    {
     "data": {
      "text/plain": [
       "None"
      ]
     },
     "metadata": {},
     "output_type": "display_data"
    }
   ],
   "source": [
    "#Finalmente agregamos la información de la tarifa a través de la columna 'plan' un último merge con la tabla plans:\n",
    "\n",
    "df_users = df_users_info.merge(plans, left_on='plan', right_on='plan_name')\n",
    "\n",
    "display(df_users)\n",
    "display(df_users.info())"
   ]
  },
  {
   "cell_type": "markdown",
   "metadata": {
    "id": "1IwGo4wg0q1I"
   },
   "source": [
    "[Calcula los ingresos mensuales por usuario (resta el límite del paquete gratuito del número total de llamadas, mensajes de texto y datos; multiplica el resultado por el valor del plan de llamadas; añade la tarifa mensual en función del plan de llamadas). Nota: Dadas las condiciones del plan, ¡esto podría no ser tan trivial como un par de líneas! Así que no pasa nada si dedicas algo de tiempo a ello.]"
   ]
  },
  {
   "cell_type": "code",
   "execution_count": 37,
   "metadata": {
    "id": "5FGCf_c60q1I"
   },
   "outputs": [
    {
     "data": {
      "text/plain": [
       "0.0"
      ]
     },
     "metadata": {},
     "output_type": "display_data"
    },
    {
     "name": "stdout",
     "output_type": "stream",
     "text": [
      "\n"
     ]
    },
    {
     "data": {
      "text/plain": [
       "932.0"
      ]
     },
     "metadata": {},
     "output_type": "display_data"
    },
    {
     "name": "stdout",
     "output_type": "stream",
     "text": [
      "\n"
     ]
    },
    {
     "data": {
      "text/plain": [
       "1073      0.0\n",
       "409       0.0\n",
       "1577      0.0\n",
       "164       0.0\n",
       "1084      0.0\n",
       "892       0.0\n",
       "1117      0.0\n",
       "1225    199.0\n",
       "1981    546.0\n",
       "86        0.0\n",
       "531       0.0\n",
       "1075      0.0\n",
       "451       0.0\n",
       "1242      0.0\n",
       "1530     14.0\n",
       "1553      0.0\n",
       "1054      0.0\n",
       "2253      0.0\n",
       "38        0.0\n",
       "1139      0.0\n",
       "Name: minutes_diff, dtype: float64"
      ]
     },
     "metadata": {},
     "output_type": "display_data"
    }
   ],
   "source": [
    "# Calcula el ingreso mensual para cada usuario:\n",
    "\n",
    "# Antes que nada, debemos redondear los minutos consumidos con el método np.ceil():\n",
    "\n",
    "df_users['minutes_spent'] = np.ceil(df_users['minutes_spent'])\n",
    "\n",
    "#Inicialmente calculamos las diferencias del total de minutos consumidos - la cantidad de minutos del plan\n",
    "#Es decir df_users['minutes_spent'] - df_users['minutes_included']:\n",
    "\n",
    "df_users['minutes_diff'] = np.maximum(df_users['minutes_spent'] - df_users['minutes_included'],0)\n",
    "\n",
    "\n",
    "#En este caso utilizamos el método de numpy np.maximum y definimos que el menor valor sea 0 en caso de que \n",
    "#una resta dé negativa o igual a 0\n",
    "\n",
    "display(df_users['minutes_diff'].min())\n",
    "print()\n",
    "display(df_users['minutes_diff'].max())\n",
    "print()\n",
    "display(df_users['minutes_diff'].sample(20))"
   ]
  },
  {
   "cell_type": "code",
   "execution_count": 38,
   "metadata": {},
   "outputs": [
    {
     "data": {
      "text/plain": [
       "1022    3.21\n",
       "1665    0.00\n",
       "1136    0.00\n",
       "227     0.00\n",
       "2008    0.00\n",
       "57      0.00\n",
       "112     0.00\n",
       "1990    0.00\n",
       "1388    0.00\n",
       "381     0.00\n",
       "805     0.00\n",
       "417     0.00\n",
       "1222    3.36\n",
       "1027    0.00\n",
       "1099    0.00\n",
       "1788    8.64\n",
       "1623    0.00\n",
       "1659    0.00\n",
       "658     0.00\n",
       "1888    0.00\n",
       "Name: usd_minutes_add_cost_per_user, dtype: float64"
      ]
     },
     "metadata": {},
     "output_type": "display_data"
    }
   ],
   "source": [
    "#Finalmente ejecutamos la fórmula: valor total = ((diferencia minutos)*costo_tarifa_adicional):\n",
    "\n",
    "df_users['usd_minutes_add_cost_per_user'] = (df_users['minutes_diff']*df_users['usd_per_minute'])\n",
    "display(df_users['usd_minutes_add_cost_per_user'].sample(20))"
   ]
  },
  {
   "cell_type": "code",
   "execution_count": 39,
   "metadata": {},
   "outputs": [
    {
     "data": {
      "text/plain": [
       "0.0"
      ]
     },
     "metadata": {},
     "output_type": "display_data"
    },
    {
     "name": "stdout",
     "output_type": "stream",
     "text": [
      "\n"
     ]
    },
    {
     "data": {
      "text/plain": [
       "216.0"
      ]
     },
     "metadata": {},
     "output_type": "display_data"
    },
    {
     "name": "stdout",
     "output_type": "stream",
     "text": [
      "\n"
     ]
    },
    {
     "data": {
      "text/plain": [
       "1807     0.0\n",
       "70       0.0\n",
       "835      0.0\n",
       "1841    28.0\n",
       "356      0.0\n",
       "795      0.0\n",
       "529      0.0\n",
       "300      0.0\n",
       "162      0.0\n",
       "387      0.0\n",
       "98       0.0\n",
       "1836     0.0\n",
       "1988     0.0\n",
       "837      0.0\n",
       "841      0.0\n",
       "765      0.0\n",
       "648      0.0\n",
       "1950     0.0\n",
       "1348     0.0\n",
       "1158     0.0\n",
       "Name: messages_diff, dtype: float64"
      ]
     },
     "metadata": {},
     "output_type": "display_data"
    }
   ],
   "source": [
    "#Ahora procederemos con los mensajes:\n",
    "\n",
    "df_users['messages_diff'] = np.maximum(df_users['messages_sent'] - df_users['messages_included'], 0)\n",
    "\n",
    "#Al igual que el caso anterior, se usa el método maximum de numpy para aplicar valores de 0 a las diferencias negativas o\n",
    "#iguales a 0:\n",
    "\n",
    "display(df_users['messages_diff'].min())\n",
    "print()\n",
    "display(df_users['messages_diff'].max())\n",
    "print()\n",
    "display(df_users['messages_diff'].sample(20))"
   ]
  },
  {
   "cell_type": "code",
   "execution_count": 40,
   "metadata": {},
   "outputs": [
    {
     "data": {
      "text/plain": [
       "1606    0.00\n",
       "361     0.00\n",
       "2017    0.00\n",
       "1145    1.62\n",
       "669     0.00\n",
       "210     0.00\n",
       "1095    0.00\n",
       "428     0.00\n",
       "1740    0.00\n",
       "1685    0.00\n",
       "1622    0.45\n",
       "2054    0.00\n",
       "613     0.00\n",
       "1360    0.03\n",
       "587     0.00\n",
       "1555    0.00\n",
       "1699    0.00\n",
       "2267    0.00\n",
       "965     0.33\n",
       "2031    0.00\n",
       "Name: usd_messages_add_cost_per_user, dtype: float64"
      ]
     },
     "metadata": {},
     "output_type": "display_data"
    }
   ],
   "source": [
    "#Finalmente ejecutamos la fórmula: valor total = ((diferencia minutos)*costo_tarifa_adicional):\n",
    "\n",
    "df_users['usd_messages_add_cost_per_user'] = (df_users['messages_diff']*df_users['usd_per_message'])\n",
    "display(df_users['usd_messages_add_cost_per_user'].sample(20))"
   ]
  },
  {
   "cell_type": "code",
   "execution_count": 41,
   "metadata": {},
   "outputs": [
    {
     "data": {
      "text/plain": [
       "0.0"
      ]
     },
     "metadata": {},
     "output_type": "display_data"
    },
    {
     "name": "stdout",
     "output_type": "stream",
     "text": [
      "\n"
     ]
    },
    {
     "data": {
      "text/plain": [
       "550.0"
      ]
     },
     "metadata": {},
     "output_type": "display_data"
    },
    {
     "name": "stdout",
     "output_type": "stream",
     "text": [
      "\n"
     ]
    },
    {
     "data": {
      "text/plain": [
       "0        0.0\n",
       "1        0.0\n",
       "2       14.0\n",
       "3        0.0\n",
       "4        0.0\n",
       "        ... \n",
       "2288    80.0\n",
       "2289     0.0\n",
       "2290    50.0\n",
       "2291    20.0\n",
       "2292    70.0\n",
       "Name: usd_gb_add_cost_per_user, Length: 2293, dtype: float64"
      ]
     },
     "metadata": {},
     "output_type": "display_data"
    }
   ],
   "source": [
    "#Ahora procederemos con los datos consumidos de internet:\n",
    "\n",
    "\n",
    "#Inicialmente calculamos las diferencias del total de datos consumidos - la cantidad de datos del plan\n",
    "#Es decir df_users['mb_used'] - df_users['mb_per_month_included']:\n",
    "\n",
    "df_users['mb_diff'] = np.maximum(df_users['mb_used'] - df_users['mb_per_month_included'], 0)\n",
    "\n",
    "#Nuevamente, usamos el método de numpy maximum para almacenar todos los valores negativos de la resta igual a 0 para que al\n",
    "#multiplicar por el costo de las gigas adicionales sea igual a 0-\n",
    "\n",
    "#Ahora procederemos a crear una nueva columna que almacene los resultados en Gigabites, es decir dividir entre 1024:\n",
    "\n",
    "df_users['gb_diff'] = df_users['mb_diff']/1024\n",
    "\n",
    "#Como el cobro del GB se aproxima al entero siguiente (dado el ejemplo: \"Si alguien usa 1025 megabytes este mes, \n",
    "#se le cobrarán 2 gigabytes.\") se redondea al entero siguiente con np.ceil():\n",
    "\n",
    "df_users['gb_diff'] = np.ceil(df_users['gb_diff'])\n",
    "\n",
    "\n",
    "#Finalmente creamos una nueva columna que almacene los costos de cobros adicionales:\n",
    "\n",
    "df_users['usd_gb_add_cost_per_user'] = df_users['gb_diff']*df_users['usd_per_gb']\n",
    "\n",
    "\n",
    "display(df_users['usd_gb_add_cost_per_user'].min())\n",
    "print()\n",
    "display(df_users['usd_gb_add_cost_per_user'].max())\n",
    "print()\n",
    "display(df_users['usd_gb_add_cost_per_user'])"
   ]
  },
  {
   "cell_type": "code",
   "execution_count": 42,
   "metadata": {},
   "outputs": [
    {
     "data": {
      "text/plain": [
       "0        70.0\n",
       "1        70.0\n",
       "2        84.0\n",
       "3        70.0\n",
       "4        70.0\n",
       "        ...  \n",
       "2288    100.0\n",
       "2289     20.0\n",
       "2290     70.0\n",
       "2291     40.0\n",
       "2292     90.0\n",
       "Name: total_cost_per_user, Length: 2293, dtype: float64"
      ]
     },
     "metadata": {},
     "output_type": "display_data"
    }
   ],
   "source": [
    "#Finalmente procederemos a sumar TODAS las columnas de costos adicionales y el valor original del plan:\n",
    "\n",
    "df_users['total_cost_per_user'] = df_users['usd_minutes_add_cost_per_user'] + df_users['usd_messages_add_cost_per_user']  + df_users['usd_gb_add_cost_per_user'] + df_users['usd_monthly_pay']\n",
    "\n",
    "display(df_users['total_cost_per_user'])"
   ]
  },
  {
   "cell_type": "code",
   "execution_count": 43,
   "metadata": {},
   "outputs": [
    {
     "data": {
      "text/html": [
       "<div>\n",
       "<style scoped>\n",
       "    .dataframe tbody tr th:only-of-type {\n",
       "        vertical-align: middle;\n",
       "    }\n",
       "\n",
       "    .dataframe tbody tr th {\n",
       "        vertical-align: top;\n",
       "    }\n",
       "\n",
       "    .dataframe thead th {\n",
       "        text-align: right;\n",
       "    }\n",
       "</style>\n",
       "<table border=\"1\" class=\"dataframe\">\n",
       "  <thead>\n",
       "    <tr style=\"text-align: right;\">\n",
       "      <th></th>\n",
       "      <th>user_id</th>\n",
       "      <th>first_name</th>\n",
       "      <th>last_name</th>\n",
       "      <th>age</th>\n",
       "      <th>city</th>\n",
       "      <th>reg_date</th>\n",
       "      <th>plan</th>\n",
       "      <th>churn_date</th>\n",
       "      <th>dt_month</th>\n",
       "      <th>calls_per_month</th>\n",
       "      <th>...</th>\n",
       "      <th>usd_per_minute</th>\n",
       "      <th>plan_name</th>\n",
       "      <th>minutes_diff</th>\n",
       "      <th>usd_minutes_add_cost_per_user</th>\n",
       "      <th>messages_diff</th>\n",
       "      <th>usd_messages_add_cost_per_user</th>\n",
       "      <th>mb_diff</th>\n",
       "      <th>gb_diff</th>\n",
       "      <th>usd_gb_add_cost_per_user</th>\n",
       "      <th>total_cost_per_user</th>\n",
       "    </tr>\n",
       "  </thead>\n",
       "  <tbody>\n",
       "    <tr>\n",
       "      <th>1025</th>\n",
       "      <td>1099</td>\n",
       "      <td>Shavon</td>\n",
       "      <td>Banks</td>\n",
       "      <td>48</td>\n",
       "      <td>New York-Newark-Jersey City, NY-NJ-PA MSA</td>\n",
       "      <td>2018-02-26</td>\n",
       "      <td>surf</td>\n",
       "      <td>active</td>\n",
       "      <td>2</td>\n",
       "      <td>7.0</td>\n",
       "      <td>...</td>\n",
       "      <td>0.03</td>\n",
       "      <td>surf</td>\n",
       "      <td>0.0</td>\n",
       "      <td>0.00</td>\n",
       "      <td>0.0</td>\n",
       "      <td>0.00</td>\n",
       "      <td>0.00</td>\n",
       "      <td>0.0</td>\n",
       "      <td>0.0</td>\n",
       "      <td>20.00</td>\n",
       "    </tr>\n",
       "    <tr>\n",
       "      <th>1916</th>\n",
       "      <td>1361</td>\n",
       "      <td>Jacelyn</td>\n",
       "      <td>Hoffman</td>\n",
       "      <td>45</td>\n",
       "      <td>Birmingham-Hoover, AL MSA</td>\n",
       "      <td>2018-04-14</td>\n",
       "      <td>surf</td>\n",
       "      <td>active</td>\n",
       "      <td>7</td>\n",
       "      <td>52.0</td>\n",
       "      <td>...</td>\n",
       "      <td>0.03</td>\n",
       "      <td>surf</td>\n",
       "      <td>0.0</td>\n",
       "      <td>0.00</td>\n",
       "      <td>0.0</td>\n",
       "      <td>0.00</td>\n",
       "      <td>0.00</td>\n",
       "      <td>0.0</td>\n",
       "      <td>0.0</td>\n",
       "      <td>20.00</td>\n",
       "    </tr>\n",
       "    <tr>\n",
       "      <th>1551</th>\n",
       "      <td>1258</td>\n",
       "      <td>Kai</td>\n",
       "      <td>Russell</td>\n",
       "      <td>39</td>\n",
       "      <td>Chicago-Naperville-Elgin, IL-IN-WI MSA</td>\n",
       "      <td>2018-07-12</td>\n",
       "      <td>surf</td>\n",
       "      <td>active</td>\n",
       "      <td>10</td>\n",
       "      <td>12.0</td>\n",
       "      <td>...</td>\n",
       "      <td>0.03</td>\n",
       "      <td>surf</td>\n",
       "      <td>0.0</td>\n",
       "      <td>0.00</td>\n",
       "      <td>5.0</td>\n",
       "      <td>0.15</td>\n",
       "      <td>2922.69</td>\n",
       "      <td>3.0</td>\n",
       "      <td>30.0</td>\n",
       "      <td>50.15</td>\n",
       "    </tr>\n",
       "    <tr>\n",
       "      <th>614</th>\n",
       "      <td>1436</td>\n",
       "      <td>Jennine</td>\n",
       "      <td>Kinney</td>\n",
       "      <td>69</td>\n",
       "      <td>Philadelphia-Camden-Wilmington, PA-NJ-DE-MD MSA</td>\n",
       "      <td>2018-08-26</td>\n",
       "      <td>ultimate</td>\n",
       "      <td>active</td>\n",
       "      <td>10</td>\n",
       "      <td>67.0</td>\n",
       "      <td>...</td>\n",
       "      <td>0.01</td>\n",
       "      <td>ultimate</td>\n",
       "      <td>0.0</td>\n",
       "      <td>0.00</td>\n",
       "      <td>0.0</td>\n",
       "      <td>0.00</td>\n",
       "      <td>0.00</td>\n",
       "      <td>0.0</td>\n",
       "      <td>0.0</td>\n",
       "      <td>70.00</td>\n",
       "    </tr>\n",
       "    <tr>\n",
       "      <th>338</th>\n",
       "      <td>1230</td>\n",
       "      <td>Andre</td>\n",
       "      <td>Estes</td>\n",
       "      <td>38</td>\n",
       "      <td>New York-Newark-Jersey City, NY-NJ-PA MSA</td>\n",
       "      <td>2018-02-27</td>\n",
       "      <td>ultimate</td>\n",
       "      <td>active</td>\n",
       "      <td>12</td>\n",
       "      <td>70.0</td>\n",
       "      <td>...</td>\n",
       "      <td>0.01</td>\n",
       "      <td>ultimate</td>\n",
       "      <td>0.0</td>\n",
       "      <td>0.00</td>\n",
       "      <td>0.0</td>\n",
       "      <td>0.00</td>\n",
       "      <td>0.00</td>\n",
       "      <td>0.0</td>\n",
       "      <td>0.0</td>\n",
       "      <td>70.00</td>\n",
       "    </tr>\n",
       "    <tr>\n",
       "      <th>369</th>\n",
       "      <td>1247</td>\n",
       "      <td>Marion</td>\n",
       "      <td>Singleton</td>\n",
       "      <td>75</td>\n",
       "      <td>Los Angeles-Long Beach-Anaheim, CA MSA</td>\n",
       "      <td>2018-04-12</td>\n",
       "      <td>ultimate</td>\n",
       "      <td>active</td>\n",
       "      <td>8</td>\n",
       "      <td>70.0</td>\n",
       "      <td>...</td>\n",
       "      <td>0.01</td>\n",
       "      <td>ultimate</td>\n",
       "      <td>0.0</td>\n",
       "      <td>0.00</td>\n",
       "      <td>0.0</td>\n",
       "      <td>0.00</td>\n",
       "      <td>0.00</td>\n",
       "      <td>0.0</td>\n",
       "      <td>0.0</td>\n",
       "      <td>70.00</td>\n",
       "    </tr>\n",
       "    <tr>\n",
       "      <th>285</th>\n",
       "      <td>1196</td>\n",
       "      <td>Noel</td>\n",
       "      <td>Dawson</td>\n",
       "      <td>46</td>\n",
       "      <td>Los Angeles-Long Beach-Anaheim, CA MSA</td>\n",
       "      <td>2018-01-14</td>\n",
       "      <td>ultimate</td>\n",
       "      <td>active</td>\n",
       "      <td>2</td>\n",
       "      <td>78.0</td>\n",
       "      <td>...</td>\n",
       "      <td>0.01</td>\n",
       "      <td>ultimate</td>\n",
       "      <td>0.0</td>\n",
       "      <td>0.00</td>\n",
       "      <td>0.0</td>\n",
       "      <td>0.00</td>\n",
       "      <td>0.00</td>\n",
       "      <td>0.0</td>\n",
       "      <td>0.0</td>\n",
       "      <td>70.00</td>\n",
       "    </tr>\n",
       "    <tr>\n",
       "      <th>861</th>\n",
       "      <td>1054</td>\n",
       "      <td>Denis</td>\n",
       "      <td>Frost</td>\n",
       "      <td>50</td>\n",
       "      <td>Phoenix-Mesa-Chandler, AZ MSA</td>\n",
       "      <td>2018-04-21</td>\n",
       "      <td>surf</td>\n",
       "      <td>2018-12-31</td>\n",
       "      <td>9</td>\n",
       "      <td>41.0</td>\n",
       "      <td>...</td>\n",
       "      <td>0.03</td>\n",
       "      <td>surf</td>\n",
       "      <td>0.0</td>\n",
       "      <td>0.00</td>\n",
       "      <td>0.0</td>\n",
       "      <td>0.00</td>\n",
       "      <td>4273.48</td>\n",
       "      <td>5.0</td>\n",
       "      <td>50.0</td>\n",
       "      <td>70.00</td>\n",
       "    </tr>\n",
       "    <tr>\n",
       "      <th>1689</th>\n",
       "      <td>1299</td>\n",
       "      <td>Keitha</td>\n",
       "      <td>Harrison</td>\n",
       "      <td>64</td>\n",
       "      <td>New York-Newark-Jersey City, NY-NJ-PA MSA</td>\n",
       "      <td>2018-01-19</td>\n",
       "      <td>surf</td>\n",
       "      <td>active</td>\n",
       "      <td>11</td>\n",
       "      <td>77.0</td>\n",
       "      <td>...</td>\n",
       "      <td>0.03</td>\n",
       "      <td>surf</td>\n",
       "      <td>91.0</td>\n",
       "      <td>2.73</td>\n",
       "      <td>0.0</td>\n",
       "      <td>0.00</td>\n",
       "      <td>0.00</td>\n",
       "      <td>0.0</td>\n",
       "      <td>0.0</td>\n",
       "      <td>22.73</td>\n",
       "    </tr>\n",
       "    <tr>\n",
       "      <th>336</th>\n",
       "      <td>1226</td>\n",
       "      <td>Denver</td>\n",
       "      <td>Harrell</td>\n",
       "      <td>64</td>\n",
       "      <td>Riverside-San Bernardino-Ontario, CA MSA</td>\n",
       "      <td>2018-03-15</td>\n",
       "      <td>ultimate</td>\n",
       "      <td>active</td>\n",
       "      <td>12</td>\n",
       "      <td>74.0</td>\n",
       "      <td>...</td>\n",
       "      <td>0.01</td>\n",
       "      <td>ultimate</td>\n",
       "      <td>0.0</td>\n",
       "      <td>0.00</td>\n",
       "      <td>0.0</td>\n",
       "      <td>0.00</td>\n",
       "      <td>0.00</td>\n",
       "      <td>0.0</td>\n",
       "      <td>0.0</td>\n",
       "      <td>70.00</td>\n",
       "    </tr>\n",
       "  </tbody>\n",
       "</table>\n",
       "<p>10 rows × 29 columns</p>\n",
       "</div>"
      ],
      "text/plain": [
       "      user_id first_name  last_name  age  \\\n",
       "1025     1099     Shavon      Banks   48   \n",
       "1916     1361    Jacelyn    Hoffman   45   \n",
       "1551     1258        Kai    Russell   39   \n",
       "614      1436    Jennine     Kinney   69   \n",
       "338      1230      Andre      Estes   38   \n",
       "369      1247     Marion  Singleton   75   \n",
       "285      1196       Noel     Dawson   46   \n",
       "861      1054      Denis      Frost   50   \n",
       "1689     1299     Keitha   Harrison   64   \n",
       "336      1226     Denver    Harrell   64   \n",
       "\n",
       "                                                 city   reg_date      plan  \\\n",
       "1025        New York-Newark-Jersey City, NY-NJ-PA MSA 2018-02-26      surf   \n",
       "1916                        Birmingham-Hoover, AL MSA 2018-04-14      surf   \n",
       "1551           Chicago-Naperville-Elgin, IL-IN-WI MSA 2018-07-12      surf   \n",
       "614   Philadelphia-Camden-Wilmington, PA-NJ-DE-MD MSA 2018-08-26  ultimate   \n",
       "338         New York-Newark-Jersey City, NY-NJ-PA MSA 2018-02-27  ultimate   \n",
       "369            Los Angeles-Long Beach-Anaheim, CA MSA 2018-04-12  ultimate   \n",
       "285            Los Angeles-Long Beach-Anaheim, CA MSA 2018-01-14  ultimate   \n",
       "861                     Phoenix-Mesa-Chandler, AZ MSA 2018-04-21      surf   \n",
       "1689        New York-Newark-Jersey City, NY-NJ-PA MSA 2018-01-19      surf   \n",
       "336          Riverside-San Bernardino-Ontario, CA MSA 2018-03-15  ultimate   \n",
       "\n",
       "      churn_date  dt_month  calls_per_month  ...  usd_per_minute  plan_name  \\\n",
       "1025      active         2              7.0  ...            0.03       surf   \n",
       "1916      active         7             52.0  ...            0.03       surf   \n",
       "1551      active        10             12.0  ...            0.03       surf   \n",
       "614       active        10             67.0  ...            0.01   ultimate   \n",
       "338       active        12             70.0  ...            0.01   ultimate   \n",
       "369       active         8             70.0  ...            0.01   ultimate   \n",
       "285       active         2             78.0  ...            0.01   ultimate   \n",
       "861   2018-12-31         9             41.0  ...            0.03       surf   \n",
       "1689      active        11             77.0  ...            0.03       surf   \n",
       "336       active        12             74.0  ...            0.01   ultimate   \n",
       "\n",
       "      minutes_diff  usd_minutes_add_cost_per_user  messages_diff  \\\n",
       "1025           0.0                           0.00            0.0   \n",
       "1916           0.0                           0.00            0.0   \n",
       "1551           0.0                           0.00            5.0   \n",
       "614            0.0                           0.00            0.0   \n",
       "338            0.0                           0.00            0.0   \n",
       "369            0.0                           0.00            0.0   \n",
       "285            0.0                           0.00            0.0   \n",
       "861            0.0                           0.00            0.0   \n",
       "1689          91.0                           2.73            0.0   \n",
       "336            0.0                           0.00            0.0   \n",
       "\n",
       "      usd_messages_add_cost_per_user  mb_diff  gb_diff  \\\n",
       "1025                            0.00     0.00      0.0   \n",
       "1916                            0.00     0.00      0.0   \n",
       "1551                            0.15  2922.69      3.0   \n",
       "614                             0.00     0.00      0.0   \n",
       "338                             0.00     0.00      0.0   \n",
       "369                             0.00     0.00      0.0   \n",
       "285                             0.00     0.00      0.0   \n",
       "861                             0.00  4273.48      5.0   \n",
       "1689                            0.00     0.00      0.0   \n",
       "336                             0.00     0.00      0.0   \n",
       "\n",
       "      usd_gb_add_cost_per_user  total_cost_per_user  \n",
       "1025                       0.0                20.00  \n",
       "1916                       0.0                20.00  \n",
       "1551                      30.0                50.15  \n",
       "614                        0.0                70.00  \n",
       "338                        0.0                70.00  \n",
       "369                        0.0                70.00  \n",
       "285                        0.0                70.00  \n",
       "861                       50.0                70.00  \n",
       "1689                       0.0                22.73  \n",
       "336                        0.0                70.00  \n",
       "\n",
       "[10 rows x 29 columns]"
      ]
     },
     "metadata": {},
     "output_type": "display_data"
    },
    {
     "name": "stdout",
     "output_type": "stream",
     "text": [
      "<class 'pandas.core.frame.DataFrame'>\n",
      "Int64Index: 2293 entries, 0 to 2292\n",
      "Data columns (total 29 columns):\n",
      " #   Column                          Non-Null Count  Dtype         \n",
      "---  ------                          --------------  -----         \n",
      " 0   user_id                         2293 non-null   int64         \n",
      " 1   first_name                      2293 non-null   object        \n",
      " 2   last_name                       2293 non-null   object        \n",
      " 3   age                             2293 non-null   int64         \n",
      " 4   city                            2293 non-null   object        \n",
      " 5   reg_date                        2293 non-null   datetime64[ns]\n",
      " 6   plan                            2293 non-null   object        \n",
      " 7   churn_date                      2293 non-null   object        \n",
      " 8   dt_month                        2293 non-null   int64         \n",
      " 9   calls_per_month                 2293 non-null   float64       \n",
      " 10  minutes_spent                   2293 non-null   float64       \n",
      " 11  messages_sent                   2293 non-null   float64       \n",
      " 12  mb_used                         2293 non-null   float64       \n",
      " 13  messages_included               2293 non-null   int64         \n",
      " 14  mb_per_month_included           2293 non-null   int64         \n",
      " 15  minutes_included                2293 non-null   int64         \n",
      " 16  usd_monthly_pay                 2293 non-null   int64         \n",
      " 17  usd_per_gb                      2293 non-null   int64         \n",
      " 18  usd_per_message                 2293 non-null   float64       \n",
      " 19  usd_per_minute                  2293 non-null   float64       \n",
      " 20  plan_name                       2293 non-null   object        \n",
      " 21  minutes_diff                    2293 non-null   float64       \n",
      " 22  usd_minutes_add_cost_per_user   2293 non-null   float64       \n",
      " 23  messages_diff                   2293 non-null   float64       \n",
      " 24  usd_messages_add_cost_per_user  2293 non-null   float64       \n",
      " 25  mb_diff                         2293 non-null   float64       \n",
      " 26  gb_diff                         2293 non-null   float64       \n",
      " 27  usd_gb_add_cost_per_user        2293 non-null   float64       \n",
      " 28  total_cost_per_user             2293 non-null   float64       \n",
      "dtypes: datetime64[ns](1), float64(14), int64(8), object(6)\n",
      "memory usage: 537.4+ KB\n"
     ]
    },
    {
     "data": {
      "text/plain": [
       "None"
      ]
     },
     "metadata": {},
     "output_type": "display_data"
    }
   ],
   "source": [
    "#Ahora imprimimos el dataset df_users:\n",
    "\n",
    "display(df_users.sample(10))\n",
    "display(df_users.info())"
   ]
  },
  {
   "cell_type": "markdown",
   "metadata": {
    "id": "-jtyHzJb0q1I"
   },
   "source": [
    "## Estudia el comportamiento de usuario"
   ]
  },
  {
   "cell_type": "markdown",
   "metadata": {
    "id": "AxU3Y0N70q1J"
   },
   "source": [
    "[Calcula algunas estadísticas descriptivas para los datos agregados y fusionados que nos sean útiles y que muestren un panorama general captado por los datos. Dibuja gráficos útiles para facilitar la comprensión. Dado que la tarea principal es comparar las tarifas y decidir cuál es más rentable, las estadísticas y gráficas deben calcularse por tarifa.]\n",
    "\n",
    "[En los comentarios hallarás pistas relevantes para las llamadas, pero no las hay para los mensajes e Internet. Sin embargo, el principio del estudio estadístico que se aplica para ellos es el mismo que para las llamadas.]"
   ]
  },
  {
   "cell_type": "markdown",
   "metadata": {
    "id": "vtW4CJEe0q1J"
   },
   "source": [
    "### Llamadas"
   ]
  },
  {
   "cell_type": "code",
   "execution_count": 44,
   "metadata": {
    "id": "Jf5v5--k0q1J"
   },
   "outputs": [
    {
     "data": {
      "text/html": [
       "<div>\n",
       "<style scoped>\n",
       "    .dataframe tbody tr th:only-of-type {\n",
       "        vertical-align: middle;\n",
       "    }\n",
       "\n",
       "    .dataframe tbody tr th {\n",
       "        vertical-align: top;\n",
       "    }\n",
       "\n",
       "    .dataframe thead th {\n",
       "        text-align: right;\n",
       "    }\n",
       "</style>\n",
       "<table border=\"1\" class=\"dataframe\">\n",
       "  <thead>\n",
       "    <tr style=\"text-align: right;\">\n",
       "      <th>plan</th>\n",
       "      <th>surf</th>\n",
       "      <th>ultimate</th>\n",
       "    </tr>\n",
       "    <tr>\n",
       "      <th>dt_month</th>\n",
       "      <th></th>\n",
       "      <th></th>\n",
       "    </tr>\n",
       "  </thead>\n",
       "  <tbody>\n",
       "    <tr>\n",
       "      <th>January</th>\n",
       "      <td>193.000000</td>\n",
       "      <td>183.750000</td>\n",
       "    </tr>\n",
       "    <tr>\n",
       "      <th>February</th>\n",
       "      <td>281.333333</td>\n",
       "      <td>380.428571</td>\n",
       "    </tr>\n",
       "    <tr>\n",
       "      <th>March</th>\n",
       "      <td>311.434783</td>\n",
       "      <td>286.166667</td>\n",
       "    </tr>\n",
       "    <tr>\n",
       "      <th>April</th>\n",
       "      <td>332.920000</td>\n",
       "      <td>317.095238</td>\n",
       "    </tr>\n",
       "    <tr>\n",
       "      <th>May</th>\n",
       "      <td>377.532468</td>\n",
       "      <td>384.206897</td>\n",
       "    </tr>\n",
       "    <tr>\n",
       "      <th>June</th>\n",
       "      <td>407.690722</td>\n",
       "      <td>350.361702</td>\n",
       "    </tr>\n",
       "    <tr>\n",
       "      <th>July</th>\n",
       "      <td>425.000000</td>\n",
       "      <td>404.271186</td>\n",
       "    </tr>\n",
       "    <tr>\n",
       "      <th>August</th>\n",
       "      <td>387.660494</td>\n",
       "      <td>397.788732</td>\n",
       "    </tr>\n",
       "    <tr>\n",
       "      <th>September</th>\n",
       "      <td>391.453608</td>\n",
       "      <td>413.779070</td>\n",
       "    </tr>\n",
       "    <tr>\n",
       "      <th>October</th>\n",
       "      <td>406.202532</td>\n",
       "      <td>425.698113</td>\n",
       "    </tr>\n",
       "    <tr>\n",
       "      <th>November</th>\n",
       "      <td>400.067138</td>\n",
       "      <td>420.944882</td>\n",
       "    </tr>\n",
       "    <tr>\n",
       "      <th>December</th>\n",
       "      <td>447.984277</td>\n",
       "      <td>433.549669</td>\n",
       "    </tr>\n",
       "  </tbody>\n",
       "</table>\n",
       "</div>"
      ],
      "text/plain": [
       "plan             surf    ultimate\n",
       "dt_month                         \n",
       "January    193.000000  183.750000\n",
       "February   281.333333  380.428571\n",
       "March      311.434783  286.166667\n",
       "April      332.920000  317.095238\n",
       "May        377.532468  384.206897\n",
       "June       407.690722  350.361702\n",
       "July       425.000000  404.271186\n",
       "August     387.660494  397.788732\n",
       "September  391.453608  413.779070\n",
       "October    406.202532  425.698113\n",
       "November   400.067138  420.944882\n",
       "December   447.984277  433.549669"
      ]
     },
     "metadata": {},
     "output_type": "display_data"
    }
   ],
   "source": [
    "# Compara la duración promedio de llamadas por cada plan y por cada mes. Traza un gráfico de barras para visualizarla.\n",
    "\n",
    "#Inicialmente, crearemos un diccionario que almacene la información de los nombres de los meses, para que visualmente\n",
    "#sea más entendible la información:\n",
    "\n",
    "month_names = {1:'January', 2:'February', 3:'March', 4:'April', 5:'May', 6:'June', 7:'July', 8:'August', 9:'September',\n",
    "              10:'October', 11:'November', 12:'December'}\n",
    "\n",
    "\n",
    "#Ahora creamos una tabla dinámica que detalle por mes, el promedio de los minutos gastados en cada plan.\n",
    "pivot_users_minutes_spent_mean = df_users.pivot_table(index='dt_month', columns='plan', values='minutes_spent', aggfunc='mean')\n",
    "\n",
    "#Asignamos el diccionario al index\n",
    "pivot_users_minutes_spent_mean = pivot_users_minutes_spent_mean.rename(index=month_names)\n",
    "\n",
    "display(pivot_users_minutes_spent_mean)"
   ]
  },
  {
   "cell_type": "code",
   "execution_count": 45,
   "metadata": {},
   "outputs": [
    {
     "data": {
      "image/png": "[encoded data removed]",
      "text/plain": [
       "<Figure size 720x432 with 1 Axes>"
      ]
     },
     "metadata": {
      "needs_background": "light"
     },
     "output_type": "display_data"
    }
   ],
   "source": [
    "#Ahora procederemos con graficar los resultados:\n",
    "\n",
    "pivot_users_minutes_spent_mean.plot(kind='bar', figsize=[10,6], color=['lightsteelblue','pink'], xlabel='Mes', rot=30,\n",
    "                                    ylabel='Minutos promedio', title='Duración promedio de llamadas por mes según el plan')\n",
    "\n",
    "plt.legend(['surf','ultimate'])\n",
    "\n",
    "plt.show()"
   ]
  },
  {
   "cell_type": "code",
   "execution_count": 46,
   "metadata": {
    "id": "QoLqW1S_0q1J"
   },
   "outputs": [
    {
     "data": {
      "text/plain": [
       "count    1573.000000\n",
       "mean      405.250477\n",
       "std       221.684445\n",
       "min         0.000000\n",
       "25%       256.000000\n",
       "50%       402.000000\n",
       "75%       544.000000\n",
       "max      1432.000000\n",
       "Name: minutes_spent, dtype: float64"
      ]
     },
     "metadata": {},
     "output_type": "display_data"
    },
    {
     "data": {
      "text/plain": [
       "count     720.000000\n",
       "mean      406.708333\n",
       "std       227.270019\n",
       "min         0.000000\n",
       "25%       247.000000\n",
       "50%       399.000000\n",
       "75%       532.500000\n",
       "max      1293.000000\n",
       "Name: minutes_spent, dtype: float64"
      ]
     },
     "metadata": {},
     "output_type": "display_data"
    },
    {
     "data": {
      "image/png": "[encoded data removed]",
      "text/plain": [
       "<Figure size 432x288 with 1 Axes>"
      ]
     },
     "metadata": {
      "needs_background": "light"
     },
     "output_type": "display_data"
    }
   ],
   "source": [
    "# Compara el número de minutos mensuales que necesitan los usuarios de cada plan. Traza un histograma.\n",
    "\n",
    "\n",
    "#Primero almacenaremos como Dataframe los minutos de los usuarios de surf:\n",
    "df_users_surf_minutes = df_users[df_users['plan']=='surf']['minutes_spent']\n",
    "\n",
    "\n",
    "display(df_users_surf_minutes.describe())\n",
    "\n",
    "#Ahora almacenaremos un nuevo Dataframe con los minutos de los usuarios de ultimate:\n",
    "\n",
    "df_users_ultimate_minutes = df_users[df_users['plan']=='ultimate']['minutes_spent']\n",
    "\n",
    "display(df_users_ultimate_minutes.describe())\n",
    "\n",
    "#Procedemos con las gráficas de distribución:\n",
    "\n",
    "x=[df_users_surf_minutes, df_users_ultimate_minutes]\n",
    "\n",
    "fig, ax = plt.subplots()\n",
    "ax.hist(x, bins=10, color=['lightsteelblue', 'pink'], edgecolor = \"white\")\n",
    "\n",
    "plt.title('Distribución de minutos consumidos según el plan del usuario')\n",
    "plt.legend(['surf', 'ultimate'])\n",
    "plt.xlabel('Minutos consumidos')\n",
    "plt.ylabel('Frecuencia')\n",
    "\n",
    "plt.show()"
   ]
  },
  {
   "cell_type": "code",
   "execution_count": 47,
   "metadata": {},
   "outputs": [
    {
     "data": {
      "image/png": "[encoded data removed]",
      "text/plain": [
       "<Figure size 432x288 with 1 Axes>"
      ]
     },
     "metadata": {
      "needs_background": "light"
     },
     "output_type": "display_data"
    }
   ],
   "source": [
    "#Gráfico de densidad de la duración de llamadas\n",
    "\n",
    "sns.kdeplot(x = df_users_surf_minutes, fill = True, color='lightsteelblue')\n",
    "sns.kdeplot(x = df_users_ultimate_minutes, fill = True, shade=True, color= 'pink')\n",
    "\n",
    "plt.title('Histograma de densidad de los minutos consumidos según el plan')\n",
    "plt.legend(['surf', 'ultimate'])\n",
    "plt.xlabel('Minutos consumidos')\n",
    "plt.ylabel('Densidad')\n",
    "\n",
    "\n",
    "plt.show()"
   ]
  },
  {
   "cell_type": "markdown",
   "metadata": {
    "id": "bLS9T8OH0q1K"
   },
   "source": [
    "[Calcula la media y la variable de la duración de las llamadas para averiguar si los usuarios de los distintos planes se comportan de forma diferente al realizar sus llamadas.]"
   ]
  },
  {
   "cell_type": "code",
   "execution_count": 48,
   "metadata": {
    "id": "oSndbAnt0q1K"
   },
   "outputs": [
    {
     "name": "stdout",
     "output_type": "stream",
     "text": [
      "La media de llamadas de los usuarios surf es: 405.2504767959313\n",
      "\n",
      "La varianza de llamadas de los usuarios surf es: 49112.75099309752\n",
      "\n",
      "La media de llamadas de los usuarios ultimate es: 406.7083333333333\n",
      "\n",
      "La varianza de llamadas de los usuarios surf es: 51579.923263888886\n",
      "\n"
     ]
    }
   ],
   "source": [
    "# Calcula la media y la varianza de la duración mensual de llamadas.\n",
    "\n",
    "mean_surf_minutes = df_users_surf_minutes.mean()\n",
    "print(f'La media de llamadas de los usuarios surf es: {mean_surf_minutes}')\n",
    "print()\n",
    "\n",
    "var_surf_minutes = np.var(df_users_surf_minutes)\n",
    "print(f'La varianza de llamadas de los usuarios surf es: {var_surf_minutes}')\n",
    "print()\n",
    "\n",
    "mean_ultimate_minutes = df_users_ultimate_minutes.mean()\n",
    "print(f'La media de llamadas de los usuarios ultimate es: {mean_ultimate_minutes}')\n",
    "print()\n",
    "\n",
    "var_ultimate_minutes = np.var(df_users_ultimate_minutes)\n",
    "print(f'La varianza de llamadas de los usuarios surf es: {var_ultimate_minutes}')\n",
    "print()\n"
   ]
  },
  {
   "cell_type": "code",
   "execution_count": 49,
   "metadata": {
    "id": "nZzoRUKc0q1K"
   },
   "outputs": [
    {
     "data": {
      "image/png": "[encoded data removed]",
      "text/plain": [
       "<Figure size 432x288 with 1 Axes>"
      ]
     },
     "metadata": {
      "needs_background": "light"
     },
     "output_type": "display_data"
    },
    {
     "data": {
      "text/plain": [
       "count    1573.000000\n",
       "mean      405.250477\n",
       "std       221.684445\n",
       "min         0.000000\n",
       "25%       256.000000\n",
       "50%       402.000000\n",
       "75%       544.000000\n",
       "max      1432.000000\n",
       "Name: minutes_spent, dtype: float64"
      ]
     },
     "metadata": {},
     "output_type": "display_data"
    },
    {
     "data": {
      "text/plain": [
       "count     720.000000\n",
       "mean      406.708333\n",
       "std       227.270019\n",
       "min         0.000000\n",
       "25%       247.000000\n",
       "50%       399.000000\n",
       "75%       532.500000\n",
       "max      1293.000000\n",
       "Name: minutes_spent, dtype: float64"
      ]
     },
     "metadata": {},
     "output_type": "display_data"
    }
   ],
   "source": [
    "# Traza un diagrama de caja para visualizar la distribución de la duración mensual de llamadas\n",
    "\n",
    "sns.boxplot(x = \"minutes_spent\", y = \"plan\", data = df_users, palette= 'pastel',  saturation = 0.9, linewidth = 2,\n",
    "           fliersize = 8, order=['surf', 'ultimate'])\n",
    "\n",
    "\n",
    "plt.show()\n",
    "\n",
    "display(df_users_surf_minutes.describe())\n",
    "display(df_users_ultimate_minutes.describe())\n",
    "\n",
    "\n"
   ]
  },
  {
   "cell_type": "code",
   "execution_count": 50,
   "metadata": {
    "scrolled": true
   },
   "outputs": [
    {
     "data": {
      "text/plain": [
       "count     484.000000\n",
       "mean      659.173554\n",
       "std       148.219840\n",
       "min       501.000000\n",
       "25%       555.000000\n",
       "50%       608.000000\n",
       "75%       704.000000\n",
       "max      1432.000000\n",
       "Name: minutes_spent, dtype: float64"
      ]
     },
     "metadata": {},
     "output_type": "display_data"
    },
    {
     "data": {
      "text/plain": [
       "count    0.0\n",
       "mean     NaN\n",
       "std      NaN\n",
       "min      NaN\n",
       "25%      NaN\n",
       "50%      NaN\n",
       "75%      NaN\n",
       "max      NaN\n",
       "Name: minutes_spent, dtype: float64"
      ]
     },
     "metadata": {},
     "output_type": "display_data"
    }
   ],
   "source": [
    "#Si queremos calcular el número de registros de usuarios que superaron los minutos de su plan hacemos lo siguiente:\n",
    "\n",
    "surf_users_spent_more_minutes_than_plan = df_users[(df_users['plan']=='surf') & (df_users['minutes_spent']>500)]['minutes_spent']\n",
    "\n",
    "ultimate_users_spent_more_minutes_than_plan = df_users[(df_users['plan']=='ultimate') & (df_users['minutes_spent']>3000)]['minutes_spent']\n",
    "\n",
    "display(surf_users_spent_more_minutes_than_plan.describe())\n",
    "display(ultimate_users_spent_more_minutes_than_plan.describe())"
   ]
  },
  {
   "cell_type": "markdown",
   "metadata": {
    "id": "r627zBO50q1K"
   },
   "source": [
    "[Elabora las conclusiones sobre el comportamiento de los usuarios con respecto a las llamadas. ¿Su comportamiento varía en función del plan?]\n",
    "\n",
    "**Respuesta** El comportamiento de llamadas de los usuarios en minutos gastados es muy similar en los dos planes.\n",
    "\n",
    "Como se puede observar en el gráfico de densidad, diagrama de cajas, como también, desplegando el describe  no hay mucha diferencia en los datos de media, mediana, desviación estandar y varianza.\n",
    "\n",
    "Las diferencias más notorias son los límites del Cuartil 3 (544 en usuarios surf y 532.5 en usuarios ultimate) y los valores máximos, que tienen comportamiento de dato atípico (valor máximo 1432 en surf y valor máximo en ultimate 1293).\n",
    "\n",
    "Por último, agregamos que ningún usuario ultimate superó el límite de minutos de su plan, mientras que 484 registros de usuarios de surf superaron el límite de minutos que ofrece el plan."
   ]
  },
  {
   "cell_type": "markdown",
   "metadata": {
    "id": "8idKy8Wh0q1L"
   },
   "source": [
    "### Mensajes"
   ]
  },
  {
   "cell_type": "code",
   "execution_count": 51,
   "metadata": {
    "id": "NXLxiTit0q1L"
   },
   "outputs": [
    {
     "data": {
      "text/html": [
       "<div>\n",
       "<style scoped>\n",
       "    .dataframe tbody tr th:only-of-type {\n",
       "        vertical-align: middle;\n",
       "    }\n",
       "\n",
       "    .dataframe tbody tr th {\n",
       "        vertical-align: top;\n",
       "    }\n",
       "\n",
       "    .dataframe thead th {\n",
       "        text-align: right;\n",
       "    }\n",
       "</style>\n",
       "<table border=\"1\" class=\"dataframe\">\n",
       "  <thead>\n",
       "    <tr style=\"text-align: right;\">\n",
       "      <th>plan</th>\n",
       "      <th>surf</th>\n",
       "      <th>ultimate</th>\n",
       "    </tr>\n",
       "    <tr>\n",
       "      <th>dt_month</th>\n",
       "      <th></th>\n",
       "      <th></th>\n",
       "    </tr>\n",
       "  </thead>\n",
       "  <tbody>\n",
       "    <tr>\n",
       "      <th>January</th>\n",
       "      <td>10.500000</td>\n",
       "      <td>15.500000</td>\n",
       "    </tr>\n",
       "    <tr>\n",
       "      <th>February</th>\n",
       "      <td>12.000000</td>\n",
       "      <td>21.571429</td>\n",
       "    </tr>\n",
       "    <tr>\n",
       "      <th>March</th>\n",
       "      <td>15.260870</td>\n",
       "      <td>20.250000</td>\n",
       "    </tr>\n",
       "    <tr>\n",
       "      <th>April</th>\n",
       "      <td>17.400000</td>\n",
       "      <td>22.047619</td>\n",
       "    </tr>\n",
       "    <tr>\n",
       "      <th>May</th>\n",
       "      <td>24.012987</td>\n",
       "      <td>32.103448</td>\n",
       "    </tr>\n",
       "    <tr>\n",
       "      <th>June</th>\n",
       "      <td>25.298969</td>\n",
       "      <td>29.340426</td>\n",
       "    </tr>\n",
       "    <tr>\n",
       "      <th>July</th>\n",
       "      <td>27.033058</td>\n",
       "      <td>32.830508</td>\n",
       "    </tr>\n",
       "    <tr>\n",
       "      <th>August</th>\n",
       "      <td>28.777778</td>\n",
       "      <td>38.478873</td>\n",
       "    </tr>\n",
       "    <tr>\n",
       "      <th>September</th>\n",
       "      <td>30.762887</td>\n",
       "      <td>37.895349</td>\n",
       "    </tr>\n",
       "    <tr>\n",
       "      <th>October</th>\n",
       "      <td>33.839662</td>\n",
       "      <td>39.443396</td>\n",
       "    </tr>\n",
       "    <tr>\n",
       "      <th>November</th>\n",
       "      <td>32.385159</td>\n",
       "      <td>38.606299</td>\n",
       "    </tr>\n",
       "    <tr>\n",
       "      <th>December</th>\n",
       "      <td>38.600629</td>\n",
       "      <td>45.006623</td>\n",
       "    </tr>\n",
       "  </tbody>\n",
       "</table>\n",
       "</div>"
      ],
      "text/plain": [
       "plan            surf   ultimate\n",
       "dt_month                       \n",
       "January    10.500000  15.500000\n",
       "February   12.000000  21.571429\n",
       "March      15.260870  20.250000\n",
       "April      17.400000  22.047619\n",
       "May        24.012987  32.103448\n",
       "June       25.298969  29.340426\n",
       "July       27.033058  32.830508\n",
       "August     28.777778  38.478873\n",
       "September  30.762887  37.895349\n",
       "October    33.839662  39.443396\n",
       "November   32.385159  38.606299\n",
       "December   38.600629  45.006623"
      ]
     },
     "metadata": {},
     "output_type": "display_data"
    }
   ],
   "source": [
    "# Comprara el número de mensajes que tienden a enviar cada mes los usuarios de cada plan\n",
    "\n",
    "#Al igual que lo hecho en los minutos usados en llamadas, crearemos una pivot table que almacene el promedio de\n",
    "#mensajes enviados al mes por plan:\n",
    "pivot_users_messages_sent_mean = df_users.pivot_table(index='dt_month', columns='plan', values='messages_sent', aggfunc='mean')\n",
    "\n",
    "#Usaremos nuevamente el diccionario month_names para visualizar mejor la información:\n",
    "pivot_users_messages_sent_mean = pivot_users_messages_sent_mean.rename(index=month_names)\n",
    "\n",
    "display(pivot_users_messages_sent_mean)"
   ]
  },
  {
   "cell_type": "code",
   "execution_count": 52,
   "metadata": {
    "id": "dtFwCGAp0q1M"
   },
   "outputs": [
    {
     "data": {
      "image/png": "[encoded data removed]",
      "text/plain": [
       "<Figure size 720x432 with 1 Axes>"
      ]
     },
     "metadata": {
      "needs_background": "light"
     },
     "output_type": "display_data"
    }
   ],
   "source": [
    "#Ahora procederemos a graficar los resultados:\n",
    "\n",
    "pivot_users_messages_sent_mean.plot(kind='bar', color=['lightsteelblue', 'pink'], figsize=[10,6], rot=30,\n",
    "                                    xlabel='Mes', ylabel='Promedio de mensajes enviados', \n",
    "                                    title='Promedio de mensajes enviados por mes según el plan')\n",
    "\n",
    "plt.show()"
   ]
  },
  {
   "cell_type": "code",
   "execution_count": 53,
   "metadata": {},
   "outputs": [
    {
     "data": {
      "text/plain": [
       "count    1573.000000\n",
       "mean       31.159568\n",
       "std        33.566717\n",
       "min         0.000000\n",
       "25%         3.000000\n",
       "50%        24.000000\n",
       "75%        47.000000\n",
       "max       266.000000\n",
       "Name: messages_sent, dtype: float64"
      ]
     },
     "metadata": {},
     "output_type": "display_data"
    },
    {
     "data": {
      "text/plain": [
       "count    720.000000\n",
       "mean      37.551389\n",
       "std       34.767179\n",
       "min        0.000000\n",
       "25%        7.000000\n",
       "50%       30.000000\n",
       "75%       61.000000\n",
       "max      166.000000\n",
       "Name: messages_sent, dtype: float64"
      ]
     },
     "metadata": {},
     "output_type": "display_data"
    },
    {
     "data": {
      "image/png": "[encoded data removed]",
      "text/plain": [
       "<Figure size 432x288 with 1 Axes>"
      ]
     },
     "metadata": {
      "needs_background": "light"
     },
     "output_type": "display_data"
    }
   ],
   "source": [
    "# Compara el número de mensajes que necesitan los usuarios de cada plan. Traza un histograma.\n",
    "\n",
    "\n",
    "#Al igual que con las llamadas, almacenaremos los mensajes según el plan en 2 variables distintas:\n",
    "\n",
    "#Un Dataframe para surf:\n",
    "\n",
    "df_users_surf_messages = df_users[df_users['plan']=='surf']['messages_sent']\n",
    "\n",
    "\n",
    "display(df_users_surf_messages.describe())\n",
    "\n",
    "#Ahora almacenaremos un nuevo Dataframe con los mensajes de los usuarios de ultimate:\n",
    "\n",
    "df_users_ultimate_messages = df_users[df_users['plan']=='ultimate']['messages_sent']\n",
    "\n",
    "display(df_users_ultimate_messages.describe())\n",
    "\n",
    "#Procedemos con las gráficas de distribución:\n",
    "\n",
    "x=[df_users_surf_messages, df_users_ultimate_messages]\n",
    "\n",
    "fig, ax = plt.subplots()\n",
    "ax.hist(x, bins=10, color=['lightsteelblue', 'pink'], edgecolor = \"white\")\n",
    "\n",
    "plt.title('Distribución de mensajes enviados según el plan del usuario')\n",
    "plt.legend(['surf', 'ultimate'])\n",
    "plt.xlabel('Mensajes enviados')\n",
    "plt.ylabel('Frecuencia')\n",
    "\n",
    "plt.show()"
   ]
  },
  {
   "cell_type": "code",
   "execution_count": 54,
   "metadata": {},
   "outputs": [
    {
     "data": {
      "image/png": "[encoded data removed]",
      "text/plain": [
       "<Figure size 432x288 with 1 Axes>"
      ]
     },
     "metadata": {
      "needs_background": "light"
     },
     "output_type": "display_data"
    }
   ],
   "source": [
    "#Gráfico de densidad de los mensajes enviados\n",
    "\n",
    "sns.kdeplot(x = df_users_surf_messages, fill = True, color='lightsteelblue')\n",
    "sns.kdeplot(x = df_users_ultimate_messages, fill = True, shade=True, color= 'pink')\n",
    "\n",
    "plt.title('Histograma de densidad de los mensajes enviados según el plan')\n",
    "plt.legend(['surf', 'ultimate'])\n",
    "plt.xlabel('Mensajes enviados')\n",
    "plt.ylabel('Densidad')\n",
    "\n",
    "\n",
    "plt.show()"
   ]
  },
  {
   "cell_type": "code",
   "execution_count": 55,
   "metadata": {},
   "outputs": [
    {
     "name": "stdout",
     "output_type": "stream",
     "text": [
      "La media de mensajes de los usuarios surf es: 31.15956770502225\n",
      "\n",
      "La varianza de mensajes de los usuarios surf es: 1126.0082317266622\n",
      "\n",
      "La media de mensajes de los usuarios ultimate es: 37.55138888888889\n",
      "\n",
      "La varianza de mensajes de los usuarios surf es: 1207.0779147376545\n",
      "\n"
     ]
    }
   ],
   "source": [
    "# Calculo de media y varianza de los mensajes enviados.\n",
    "\n",
    "\n",
    "mean_surf_messages = df_users_surf_messages.mean()\n",
    "print(f'La media de mensajes de los usuarios surf es: {mean_surf_messages}')\n",
    "print()\n",
    "\n",
    "var_surf_messages = np.var(df_users_surf_messages)\n",
    "print(f'La varianza de mensajes de los usuarios surf es: {var_surf_messages}')\n",
    "print()\n",
    "\n",
    "mean_ultimate_messages = df_users_ultimate_messages.mean()\n",
    "print(f'La media de mensajes de los usuarios ultimate es: {mean_ultimate_messages}')\n",
    "print()\n",
    "\n",
    "var_ultimate_messages = np.var(df_users_ultimate_messages)\n",
    "print(f'La varianza de mensajes de los usuarios surf es: {var_ultimate_messages}')\n",
    "print()"
   ]
  },
  {
   "cell_type": "code",
   "execution_count": 56,
   "metadata": {},
   "outputs": [
    {
     "data": {
      "image/png": "[encoded data removed]",
      "text/plain": [
       "<Figure size 432x288 with 1 Axes>"
      ]
     },
     "metadata": {
      "needs_background": "light"
     },
     "output_type": "display_data"
    },
    {
     "data": {
      "text/plain": [
       "count    1573.000000\n",
       "mean       31.159568\n",
       "std        33.566717\n",
       "min         0.000000\n",
       "25%         3.000000\n",
       "50%        24.000000\n",
       "75%        47.000000\n",
       "max       266.000000\n",
       "Name: messages_sent, dtype: float64"
      ]
     },
     "metadata": {},
     "output_type": "display_data"
    },
    {
     "data": {
      "text/plain": [
       "count    720.000000\n",
       "mean      37.551389\n",
       "std       34.767179\n",
       "min        0.000000\n",
       "25%        7.000000\n",
       "50%       30.000000\n",
       "75%       61.000000\n",
       "max      166.000000\n",
       "Name: messages_sent, dtype: float64"
      ]
     },
     "metadata": {},
     "output_type": "display_data"
    }
   ],
   "source": [
    "# Traza un diagrama de caja para visualizar la distribución de los mensajes enviados mensualmente\n",
    "\n",
    "sns.boxplot(x = \"messages_sent\", y = \"plan\", data = df_users, palette= 'pastel',  saturation = 0.9, linewidth = 2,\n",
    "           fliersize = 8, order=['surf', 'ultimate'])\n",
    "\n",
    "\n",
    "plt.show()\n",
    "\n",
    "display(df_users_surf_messages.describe())\n",
    "display(df_users_ultimate_messages.describe())"
   ]
  },
  {
   "cell_type": "code",
   "execution_count": 57,
   "metadata": {},
   "outputs": [
    {
     "name": "stdout",
     "output_type": "stream",
     "text": [
      "El punto máximo de la distribución de mensajes de surf es: 113.0\n"
     ]
    }
   ],
   "source": [
    "#Si hacemos el cálculo del IQR para los datos de mensajes de surf, observamos lo siguiente:\n",
    "\n",
    "surf_msg_Q1 = 3\n",
    "surf_msg_Q3 = 47\n",
    "IQR_msg_surf = surf_msg_Q3 - surf_msg_Q1\n",
    "Max_distance_IQR_msg_surf = surf_msg_Q3 + (1.5*IQR_msg_surf) \n",
    "\n",
    "print(f\"El punto máximo de la distribución de mensajes de surf es: {Max_distance_IQR_msg_surf}\")\n"
   ]
  },
  {
   "cell_type": "code",
   "execution_count": 58,
   "metadata": {},
   "outputs": [
    {
     "data": {
      "text/plain": [
       "count     51.000000\n",
       "mean     141.176471\n",
       "std       26.623828\n",
       "min      115.000000\n",
       "25%      123.500000\n",
       "50%      134.000000\n",
       "75%      151.500000\n",
       "max      266.000000\n",
       "Name: messages_sent, dtype: float64"
      ]
     },
     "execution_count": 58,
     "metadata": {},
     "output_type": "execute_result"
    }
   ],
   "source": [
    "#Revisión de datos atípicos en el plan surf que superan el límite superior del IQR:\n",
    "\n",
    "messages_outliers_surf = df_users[(df_users['plan']=='surf') & (df_users['messages_sent']>Max_distance_IQR_msg_surf)]\n",
    "messages_outliers_surf['messages_sent'].describe()"
   ]
  },
  {
   "cell_type": "code",
   "execution_count": 59,
   "metadata": {},
   "outputs": [
    {
     "data": {
      "text/plain": [
       "count     340.000000\n",
       "mean      474.576471\n",
       "std       250.394020\n",
       "min         0.000000\n",
       "25%       298.750000\n",
       "50%       451.000000\n",
       "75%       608.000000\n",
       "max      1432.000000\n",
       "Name: minutes_spent, dtype: float64"
      ]
     },
     "metadata": {},
     "output_type": "display_data"
    },
    {
     "data": {
      "text/plain": [
       "count    0.0\n",
       "mean     NaN\n",
       "std      NaN\n",
       "min      NaN\n",
       "25%      NaN\n",
       "50%      NaN\n",
       "75%      NaN\n",
       "max      NaN\n",
       "Name: minutes_spent, dtype: float64"
      ]
     },
     "metadata": {},
     "output_type": "display_data"
    }
   ],
   "source": [
    "#Si queremos calcular el número de registros de usuarios que superaron los mensajes de su plan hacemos lo siguiente:\n",
    "\n",
    "surf_users_spent_more_messages_than_plan = df_users[(df_users['plan']=='surf') & (df_users['messages_sent']>50)]['minutes_spent']\n",
    "\n",
    "ultimate_users_spent_more_messages_than_plan = df_users[(df_users['plan']=='ultimate') & (df_users['messages_sent']>1000)]['minutes_spent']\n",
    "\n",
    "display(surf_users_spent_more_messages_than_plan.describe())\n",
    "display(ultimate_users_spent_more_messages_than_plan.describe())"
   ]
  },
  {
   "cell_type": "markdown",
   "metadata": {
    "id": "390SSL480q1M"
   },
   "source": [
    "[Elabora las conclusiones sobre el comportamiento de los usuarios con respecto a los mensajes. ¿Su comportamiento varía en función del plan?]\n",
    "\n",
    "**Respuesta** La gráfica que muestra un comportamiento más diciente de los datos de mensajes es la de cajas y bigotes. En este caso se puede observar que los usuarios de surf tienden a enviar menos de 50 mensajes; pero poblacionalmente muestra un comportamiento de los datos con sesgo a la derecha, mostrando así muchos datos que están fuera del Rango Intercuartílico superior; es decir, muchos datos atípicos. En este caso el IQR de surf es igual a 44 y los datos que están fuera del límite máximo de Q3 + 1.5IQR superan los 113 mensajes. Según el cálculo realizado y almacenado en messages_outliers_surf tenemos que hay 51 datos atípicos que superan los 113 mensajes y sesgan la gráfica de caja y bigotes a la derecha.\n",
    "\n",
    "Finalmente, hubo 340 usuarios de surf que superaron el límite de su plan y ninguno de ultimate superó su límite."
   ]
  },
  {
   "cell_type": "markdown",
   "metadata": {
    "id": "42YSypXz0q1M"
   },
   "source": [
    "### Internet"
   ]
  },
  {
   "cell_type": "code",
   "execution_count": 83,
   "metadata": {
    "id": "GRI_R7xF0q1L"
   },
   "outputs": [
    {
     "data": {
      "text/html": [
       "<div>\n",
       "<style scoped>\n",
       "    .dataframe tbody tr th:only-of-type {\n",
       "        vertical-align: middle;\n",
       "    }\n",
       "\n",
       "    .dataframe tbody tr th {\n",
       "        vertical-align: top;\n",
       "    }\n",
       "\n",
       "    .dataframe thead th {\n",
       "        text-align: right;\n",
       "    }\n",
       "</style>\n",
       "<table border=\"1\" class=\"dataframe\">\n",
       "  <thead>\n",
       "    <tr style=\"text-align: right;\">\n",
       "      <th>plan</th>\n",
       "      <th>surf</th>\n",
       "      <th>ultimate</th>\n",
       "    </tr>\n",
       "    <tr>\n",
       "      <th>dt_month</th>\n",
       "      <th></th>\n",
       "      <th></th>\n",
       "    </tr>\n",
       "  </thead>\n",
       "  <tbody>\n",
       "    <tr>\n",
       "      <th>January</th>\n",
       "      <td>4874.860000</td>\n",
       "      <td>6918.092500</td>\n",
       "    </tr>\n",
       "    <tr>\n",
       "      <th>February</th>\n",
       "      <td>12178.843333</td>\n",
       "      <td>17128.808571</td>\n",
       "    </tr>\n",
       "    <tr>\n",
       "      <th>March</th>\n",
       "      <td>13345.440000</td>\n",
       "      <td>18321.518333</td>\n",
       "    </tr>\n",
       "    <tr>\n",
       "      <th>April</th>\n",
       "      <td>11984.203000</td>\n",
       "      <td>16121.654762</td>\n",
       "    </tr>\n",
       "    <tr>\n",
       "      <th>May</th>\n",
       "      <td>13936.354935</td>\n",
       "      <td>16624.482414</td>\n",
       "    </tr>\n",
       "    <tr>\n",
       "      <th>June</th>\n",
       "      <td>15301.529175</td>\n",
       "      <td>15337.921064</td>\n",
       "    </tr>\n",
       "    <tr>\n",
       "      <th>July</th>\n",
       "      <td>16783.600579</td>\n",
       "      <td>16344.744407</td>\n",
       "    </tr>\n",
       "    <tr>\n",
       "      <th>August</th>\n",
       "      <td>16795.331358</td>\n",
       "      <td>17814.720141</td>\n",
       "    </tr>\n",
       "    <tr>\n",
       "      <th>September</th>\n",
       "      <td>16591.431289</td>\n",
       "      <td>16969.869535</td>\n",
       "    </tr>\n",
       "    <tr>\n",
       "      <th>October</th>\n",
       "      <td>17311.335063</td>\n",
       "      <td>17612.553396</td>\n",
       "    </tr>\n",
       "    <tr>\n",
       "      <th>November</th>\n",
       "      <td>16339.254417</td>\n",
       "      <td>17033.685354</td>\n",
       "    </tr>\n",
       "    <tr>\n",
       "      <th>December</th>\n",
       "      <td>18132.469371</td>\n",
       "      <td>18323.191854</td>\n",
       "    </tr>\n",
       "  </tbody>\n",
       "</table>\n",
       "</div>"
      ],
      "text/plain": [
       "plan               surf      ultimate\n",
       "dt_month                             \n",
       "January     4874.860000   6918.092500\n",
       "February   12178.843333  17128.808571\n",
       "March      13345.440000  18321.518333\n",
       "April      11984.203000  16121.654762\n",
       "May        13936.354935  16624.482414\n",
       "June       15301.529175  15337.921064\n",
       "July       16783.600579  16344.744407\n",
       "August     16795.331358  17814.720141\n",
       "September  16591.431289  16969.869535\n",
       "October    17311.335063  17612.553396\n",
       "November   16339.254417  17033.685354\n",
       "December   18132.469371  18323.191854"
      ]
     },
     "metadata": {},
     "output_type": "display_data"
    }
   ],
   "source": [
    "# Compara la cantidad de tráfico de Internet consumido por usuarios por plan\n",
    "\n",
    "\n",
    "#Crearemos una pivot table que almacene el promedio de mbs_usados al mes por plan:\n",
    "\n",
    "pivot_users_internet_mean = df_users.pivot_table(index='dt_month', columns='plan', values='mb_used', aggfunc='mean')\n",
    "\n",
    "pivot_users_internet_mean = pivot_users_internet_mean.rename(index= month_names)\n",
    "\n",
    "display(pivot_users_internet_mean)\n",
    "\n"
   ]
  },
  {
   "cell_type": "code",
   "execution_count": 84,
   "metadata": {
    "id": "wnh8jYXi0q1N"
   },
   "outputs": [
    {
     "data": {
      "image/png": "[encoded data removed]",
      "text/plain": [
       "<Figure size 720x432 with 1 Axes>"
      ]
     },
     "metadata": {
      "needs_background": "light"
     },
     "output_type": "display_data"
    }
   ],
   "source": [
    "#Ahora procederemos a graficar los resultados:\n",
    "\n",
    "pivot_users_internet_mean.plot(kind='bar', color=['lightsteelblue', 'pink'], figsize=[10,6], rot=30,\n",
    "                                    xlabel='Mes', ylabel='Promedio de Megabytes consumidos', \n",
    "                                    title='Promedio de Megabytes consumidos por mes según el plan')\n",
    "\n",
    "plt.show()"
   ]
  },
  {
   "cell_type": "code",
   "execution_count": 62,
   "metadata": {
    "id": "5VlyJ9ry0q1N"
   },
   "outputs": [
    {
     "data": {
      "text/plain": [
       "count     1573.000000\n",
       "mean     16558.283490\n",
       "std       8013.513327\n",
       "min          0.000000\n",
       "25%      11986.520000\n",
       "50%      16829.310000\n",
       "75%      20999.610000\n",
       "max      70931.590000\n",
       "Name: mb_used, dtype: float64"
      ]
     },
     "metadata": {},
     "output_type": "display_data"
    },
    {
     "data": {
      "text/plain": [
       "count      720.000000\n",
       "mean     17214.699694\n",
       "std       7851.897435\n",
       "min          0.000000\n",
       "25%      12666.955000\n",
       "50%      16858.340000\n",
       "75%      21014.527500\n",
       "max      46595.330000\n",
       "Name: mb_used, dtype: float64"
      ]
     },
     "metadata": {},
     "output_type": "display_data"
    },
    {
     "data": {
      "image/png": "[encoded data removed]",
      "text/plain": [
       "<Figure size 432x288 with 1 Axes>"
      ]
     },
     "metadata": {
      "needs_background": "light"
     },
     "output_type": "display_data"
    }
   ],
   "source": [
    "# Compara el número de mbs consumidos que necesitan los usuarios de cada plan. Traza un histograma.\n",
    "\n",
    "df_users_internet_surf = df_users[df_users['plan']=='surf']['mb_used']\n",
    "\n",
    "display(df_users_internet_surf.describe())\n",
    "\n",
    "df_users_internet_ultimate = df_users[df_users['plan']=='ultimate']['mb_used']\n",
    "\n",
    "display(df_users_internet_ultimate.describe())\n",
    "\n",
    "\n",
    "x = [df_users_internet_surf, df_users_internet_ultimate]\n",
    "\n",
    "fig, ax = plt.subplots()\n",
    "ax.hist(x, bins=10, color=['lightsteelblue', 'pink'], edgecolor = \"white\")\n",
    "\n",
    "plt.title('Distribución de Megabytes usados según el plan del usuario')\n",
    "plt.legend(['surf', 'ultimate'])\n",
    "plt.xlabel('Megabytes consumidos')\n",
    "plt.ylabel('Frecuencia')\n",
    "\n",
    "plt.show()"
   ]
  },
  {
   "cell_type": "code",
   "execution_count": 63,
   "metadata": {},
   "outputs": [
    {
     "data": {
      "image/png": "[encoded data removed]",
      "text/plain": [
       "<Figure size 432x288 with 1 Axes>"
      ]
     },
     "metadata": {
      "needs_background": "light"
     },
     "output_type": "display_data"
    }
   ],
   "source": [
    "#Gráfico de densidad de los Megabytes consumidos\n",
    "\n",
    "sns.kdeplot(x = df_users_internet_surf, fill = True, color='lightsteelblue')\n",
    "sns.kdeplot(x = df_users_internet_ultimate, fill = True, shade=True, color= 'pink')\n",
    "\n",
    "plt.title('Histograma de densidad de los Megabytes consumidos según el plan')\n",
    "plt.legend(['surf', 'ultimate'])\n",
    "plt.xlabel('Megabytes consumidos')\n",
    "plt.ylabel('Densidad')\n",
    "\n",
    "\n",
    "plt.show()"
   ]
  },
  {
   "cell_type": "code",
   "execution_count": 64,
   "metadata": {},
   "outputs": [
    {
     "name": "stdout",
     "output_type": "stream",
     "text": [
      "La media de megabytes consumidos por los usuarios surf es: 16558.283490146216\n",
      "\n",
      "La varianza de megabytes consumidos por los usuarios surf es: 64175571.68301331\n",
      "\n",
      "La media de megabytes consumidos por los usuarios ultimate es: 17214.699694444444\n",
      "\n",
      "La varianza de megabytes consumidos por los usuarios surf es: 61566665.1386863\n",
      "\n"
     ]
    }
   ],
   "source": [
    "# Calculo de media y varianza de los Megabytes consumidos.\n",
    "\n",
    "\n",
    "mean_surf_internet = df_users_internet_surf.mean()\n",
    "print(f'La media de megabytes consumidos por los usuarios surf es: {mean_surf_internet}')\n",
    "print()\n",
    "\n",
    "var_surf_internet = np.var(df_users_internet_surf)\n",
    "print(f'La varianza de megabytes consumidos por los usuarios surf es: {var_surf_internet}')\n",
    "print()\n",
    "\n",
    "mean_ultimate_internet = df_users_internet_ultimate.mean()\n",
    "print(f'La media de megabytes consumidos por los usuarios ultimate es: {mean_ultimate_internet}')\n",
    "print()\n",
    "\n",
    "var_ultimate_internet = np.var(df_users_internet_ultimate)\n",
    "print(f'La varianza de megabytes consumidos por los usuarios surf es: {var_ultimate_internet}')\n",
    "print()"
   ]
  },
  {
   "cell_type": "code",
   "execution_count": 65,
   "metadata": {
    "scrolled": true
   },
   "outputs": [
    {
     "data": {
      "image/png": "[encoded data removed]",
      "text/plain": [
       "<Figure size 432x288 with 1 Axes>"
      ]
     },
     "metadata": {
      "needs_background": "light"
     },
     "output_type": "display_data"
    },
    {
     "data": {
      "text/plain": [
       "count     1573.000000\n",
       "mean     16558.283490\n",
       "std       8013.513327\n",
       "min          0.000000\n",
       "25%      11986.520000\n",
       "50%      16829.310000\n",
       "75%      20999.610000\n",
       "max      70931.590000\n",
       "Name: mb_used, dtype: float64"
      ]
     },
     "metadata": {},
     "output_type": "display_data"
    },
    {
     "data": {
      "text/plain": [
       "count      720.000000\n",
       "mean     17214.699694\n",
       "std       7851.897435\n",
       "min          0.000000\n",
       "25%      12666.955000\n",
       "50%      16858.340000\n",
       "75%      21014.527500\n",
       "max      46595.330000\n",
       "Name: mb_used, dtype: float64"
      ]
     },
     "metadata": {},
     "output_type": "display_data"
    }
   ],
   "source": [
    "# Traza un diagrama de caja para visualizar la distribución de los Megabytes consumidos mensualmente\n",
    "\n",
    "sns.boxplot(x = \"mb_used\", y = \"plan\", data = df_users, palette= 'pastel',  saturation = 0.9, linewidth = 2,\n",
    "           fliersize = 8, order=['surf', 'ultimate'])\n",
    "\n",
    "\n",
    "plt.show()\n",
    "\n",
    "display(df_users_internet_surf.describe())\n",
    "display(df_users_internet_ultimate.describe())\n"
   ]
  },
  {
   "cell_type": "code",
   "execution_count": 66,
   "metadata": {},
   "outputs": [
    {
     "data": {
      "text/plain": [
       "count      950.000000\n",
       "mean     21390.974084\n",
       "std       5856.361419\n",
       "min      15002.950000\n",
       "25%      17448.325000\n",
       "50%      19998.945000\n",
       "75%      23536.672500\n",
       "max      70931.590000\n",
       "Name: mb_used, dtype: float64"
      ]
     },
     "metadata": {},
     "output_type": "display_data"
    },
    {
     "data": {
      "text/plain": [
       "count       46.000000\n",
       "mean     35529.459348\n",
       "std       4189.694352\n",
       "min      30169.840000\n",
       "25%      32287.575000\n",
       "50%      35050.865000\n",
       "75%      37870.752500\n",
       "max      46595.330000\n",
       "Name: mb_used, dtype: float64"
      ]
     },
     "metadata": {},
     "output_type": "display_data"
    }
   ],
   "source": [
    "#Si queremos calcular el número de usuarios que superaron los minutos de su plan hacemos lo siguiente:\n",
    "\n",
    "surf_users_spent_more_mbs_than_plan = df_users[(df_users['plan']=='surf') & (df_users['mb_used']>15000)]['mb_used']\n",
    "\n",
    "ultimate_users_spent_more_mbs_than_plan = df_users[(df_users['plan']=='ultimate') & (df_users['mb_used']>30000)]['mb_used']\n",
    "\n",
    "display(surf_users_spent_more_mbs_than_plan.describe())\n",
    "display(ultimate_users_spent_more_mbs_than_plan.describe())"
   ]
  },
  {
   "cell_type": "markdown",
   "metadata": {
    "id": "UN9zwuMP0q1N"
   },
   "source": [
    "[Elabora las conclusiones sobre cómo los usuarios tienden a consumir el tráfico de Internet. ¿Su comportamiento varía en función del plan?]"
   ]
  },
  {
   "cell_type": "markdown",
   "metadata": {},
   "source": [
    "**Respuesta** El consumo de Megabytes en los usuarios es muy similar entre los dos planes en cuanto a la distribución normal de la mayoría de usuarios. Sin embargo, **cabe anotar que como el límite de consumo del plan de surf es de 15GB**, poco más del 60% de registros de sus usuarios superaron el límite de su plan (950 registros), con una media de 21390 Mbs consumidas y una mediana de 19999 Mbs consumidas."
   ]
  },
  {
   "cell_type": "markdown",
   "metadata": {
    "id": "tCijq3260q1N"
   },
   "source": [
    "## Ingreso"
   ]
  },
  {
   "cell_type": "markdown",
   "metadata": {
    "id": "9nq5IAcy0q1O"
   },
   "source": [
    "[Del mismo modo que has estudiado el comportamiento de los usuarios, describe estadísticamente los ingresos de los planes.]"
   ]
  },
  {
   "cell_type": "code",
   "execution_count": 67,
   "metadata": {
    "id": "tz-dq_V00q1O"
   },
   "outputs": [
    {
     "data": {
      "text/html": [
       "<div>\n",
       "<style scoped>\n",
       "    .dataframe tbody tr th:only-of-type {\n",
       "        vertical-align: middle;\n",
       "    }\n",
       "\n",
       "    .dataframe tbody tr th {\n",
       "        vertical-align: top;\n",
       "    }\n",
       "\n",
       "    .dataframe thead th {\n",
       "        text-align: right;\n",
       "    }\n",
       "</style>\n",
       "<table border=\"1\" class=\"dataframe\">\n",
       "  <thead>\n",
       "    <tr style=\"text-align: right;\">\n",
       "      <th>plan</th>\n",
       "      <th>surf</th>\n",
       "      <th>ultimate</th>\n",
       "    </tr>\n",
       "    <tr>\n",
       "      <th>dt_month</th>\n",
       "      <th></th>\n",
       "      <th></th>\n",
       "    </tr>\n",
       "  </thead>\n",
       "  <tbody>\n",
       "    <tr>\n",
       "      <th>January</th>\n",
       "      <td>20.000000</td>\n",
       "      <td>70.000000</td>\n",
       "    </tr>\n",
       "    <tr>\n",
       "      <th>February</th>\n",
       "      <td>34.260000</td>\n",
       "      <td>70.000000</td>\n",
       "    </tr>\n",
       "    <tr>\n",
       "      <th>March</th>\n",
       "      <td>45.792609</td>\n",
       "      <td>74.666667</td>\n",
       "    </tr>\n",
       "    <tr>\n",
       "      <th>April</th>\n",
       "      <td>40.458600</td>\n",
       "      <td>73.000000</td>\n",
       "    </tr>\n",
       "    <tr>\n",
       "      <th>May</th>\n",
       "      <td>47.240130</td>\n",
       "      <td>70.724138</td>\n",
       "    </tr>\n",
       "    <tr>\n",
       "      <th>June</th>\n",
       "      <td>48.935155</td>\n",
       "      <td>71.638298</td>\n",
       "    </tr>\n",
       "    <tr>\n",
       "      <th>July</th>\n",
       "      <td>62.226529</td>\n",
       "      <td>71.898305</td>\n",
       "    </tr>\n",
       "    <tr>\n",
       "      <th>August</th>\n",
       "      <td>63.576728</td>\n",
       "      <td>72.859155</td>\n",
       "    </tr>\n",
       "    <tr>\n",
       "      <th>September</th>\n",
       "      <td>57.952320</td>\n",
       "      <td>72.034884</td>\n",
       "    </tr>\n",
       "    <tr>\n",
       "      <th>October</th>\n",
       "      <td>65.051097</td>\n",
       "      <td>72.311321</td>\n",
       "    </tr>\n",
       "    <tr>\n",
       "      <th>November</th>\n",
       "      <td>57.633569</td>\n",
       "      <td>71.708661</td>\n",
       "    </tr>\n",
       "    <tr>\n",
       "      <th>December</th>\n",
       "      <td>70.108270</td>\n",
       "      <td>73.291391</td>\n",
       "    </tr>\n",
       "  </tbody>\n",
       "</table>\n",
       "</div>"
      ],
      "text/plain": [
       "plan            surf   ultimate\n",
       "dt_month                       \n",
       "January    20.000000  70.000000\n",
       "February   34.260000  70.000000\n",
       "March      45.792609  74.666667\n",
       "April      40.458600  73.000000\n",
       "May        47.240130  70.724138\n",
       "June       48.935155  71.638298\n",
       "July       62.226529  71.898305\n",
       "August     63.576728  72.859155\n",
       "September  57.952320  72.034884\n",
       "October    65.051097  72.311321\n",
       "November   57.633569  71.708661\n",
       "December   70.108270  73.291391"
      ]
     },
     "metadata": {},
     "output_type": "display_data"
    }
   ],
   "source": [
    "pivot_total_cost = df_users.pivot_table(index = 'dt_month', columns='plan', values='total_cost_per_user', aggfunc='mean')\n",
    "\n",
    "pivot_total_cost = pivot_total_cost.rename(index= month_names)\n",
    "\n",
    "display(pivot_total_cost)"
   ]
  },
  {
   "cell_type": "code",
   "execution_count": 68,
   "metadata": {
    "id": "0Y1v8ZUz0q1P"
   },
   "outputs": [
    {
     "data": {
      "image/png": "[encoded data removed]",
      "text/plain": [
       "<Figure size 720x432 with 1 Axes>"
      ]
     },
     "metadata": {
      "needs_background": "light"
     },
     "output_type": "display_data"
    }
   ],
   "source": [
    "pivot_total_cost.plot(kind='bar', rot= 30, color=['lightsteelblue','pink'], xlabel='Mes', ylabel='Pago promedio',\n",
    "                     figsize= [10,6], title='Comparativa de ingresos según el plan en función de los meses')\n",
    "\n",
    "plt.show()"
   ]
  },
  {
   "cell_type": "markdown",
   "metadata": {},
   "source": [
    "En promedio vemos que el comportamiento de los usuarios de surf varía respecto a los de ultimate. Mientras que los usuarios de ultimate, rara vez superan el pago de su plan, los de surf en cambio, lo superan todos los meses salvo enero.\n",
    "\n",
    "Aquí hay una gran oportunidad para revisar si los usuarios de surf (según lo visto también en el comportamiento de consumo de internet) cambien su plan a ultimate."
   ]
  },
  {
   "cell_type": "code",
   "execution_count": 69,
   "metadata": {},
   "outputs": [
    {
     "name": "stdout",
     "output_type": "stream",
     "text": [
      "Registros de usuarios de surf que superaron el límite de su plan de minutos:  484\n",
      "\n",
      "Registros de usuarios de surf que superaron el límite de su plan de mensajes:  340\n",
      "\n",
      "Registros de usuarios de surf que superaron el límite de su plan de megas:  950\n"
     ]
    }
   ],
   "source": [
    "#Podemos hacer la revisión de la conclusión anterior aquí:\n",
    "\n",
    "print(f\"Registros de usuarios de surf que superaron el límite de su plan de minutos: \", surf_users_spent_more_minutes_than_plan.count())\n",
    "\n",
    "print()\n",
    "\n",
    "print(f\"Registros de usuarios de surf que superaron el límite de su plan de mensajes: \", surf_users_spent_more_messages_than_plan.count())\n",
    "\n",
    "print()\n",
    "\n",
    "print(f\"Registros de usuarios de surf que superaron el límite de su plan de megas: \", surf_users_spent_more_mbs_than_plan.count())\n",
    "\n",
    "                       "
   ]
  },
  {
   "cell_type": "code",
   "execution_count": 70,
   "metadata": {
    "id": "bYmwxyVh0q1P"
   },
   "outputs": [
    {
     "data": {
      "text/plain": [
       "count    1573.000000\n",
       "mean       60.331933\n",
       "std        55.263890\n",
       "min        20.000000\n",
       "25%        20.000000\n",
       "50%        40.150000\n",
       "75%        80.000000\n",
       "max       588.660000\n",
       "Name: total_cost_per_user, dtype: float64"
      ]
     },
     "metadata": {},
     "output_type": "display_data"
    },
    {
     "data": {
      "text/plain": [
       "count    720.000000\n",
       "mean      72.313889\n",
       "std       11.395108\n",
       "min       70.000000\n",
       "25%       70.000000\n",
       "50%       70.000000\n",
       "75%       70.000000\n",
       "max      182.000000\n",
       "Name: total_cost_per_user, dtype: float64"
      ]
     },
     "metadata": {},
     "output_type": "display_data"
    },
    {
     "data": {
      "image/png": "[encoded data removed]",
      "text/plain": [
       "<Figure size 432x288 with 1 Axes>"
      ]
     },
     "metadata": {
      "needs_background": "light"
     },
     "output_type": "display_data"
    }
   ],
   "source": [
    "df_users_total_cost_surf = df_users[df_users['plan'] == 'surf']['total_cost_per_user']\n",
    "\n",
    "display(df_users_total_cost_surf.describe())\n",
    "\n",
    "df_users_total_cost_ultimate = df_users[df_users['plan'] == 'ultimate']['total_cost_per_user']\n",
    "\n",
    "display(df_users_total_cost_ultimate.describe())\n",
    "\n",
    "#Acá procedemos con el gráfico de distribución:\n",
    "\n",
    "x = [df_users_total_cost_surf, df_users_total_cost_ultimate]\n",
    "\n",
    "fig, ax = plt.subplots()\n",
    "ax.hist(x, bins=10, color=['lightsteelblue', 'pink'], edgecolor = \"white\")\n",
    "\n",
    "plt.title('Distribución de Ingresos según el plan del usuario')\n",
    "plt.legend(['surf', 'ultimate'])\n",
    "plt.xlabel('Megabytes consumidos')\n",
    "plt.ylabel('Frecuencia')\n",
    "\n",
    "plt.show()"
   ]
  },
  {
   "cell_type": "code",
   "execution_count": 85,
   "metadata": {},
   "outputs": [
    {
     "data": {
      "image/png": "[encoded data removed]",
      "text/plain": [
       "<Figure size 432x288 with 1 Axes>"
      ]
     },
     "metadata": {
      "needs_background": "light"
     },
     "output_type": "display_data"
    }
   ],
   "source": [
    "#El histograma anterior se puede ver mejor con a través de un gráfico de densidad.\n",
    "\n",
    "\n",
    "sns.kdeplot(x = df_users_total_cost_surf, fill = True, color='lightsteelblue')\n",
    "sns.kdeplot(x = df_users_total_cost_ultimate, fill = True, shade=True, color= 'pink')\n",
    "\n",
    "plt.title('Histograma de densidad de los Ingresos según el plan')\n",
    "plt.legend(['surf', 'ultimate'])\n",
    "plt.xlabel('Ingresos')\n",
    "plt.ylabel('Densidad')\n",
    "\n",
    "plt.show()"
   ]
  },
  {
   "cell_type": "code",
   "execution_count": 72,
   "metadata": {},
   "outputs": [
    {
     "name": "stdout",
     "output_type": "stream",
     "text": [
      "La media de ingresos de los usuarios surf es: 60.331932612841705\n",
      "\n",
      "La varianza de ingresos de los usuarios surf es: 3052.155930912179\n",
      "\n",
      "La media de ingresos de los usuarios ultimate es: 72.31388888888888\n",
      "\n",
      "La varianza de ingresos de los usuarios ultimate es: 129.66814043209877\n",
      "\n"
     ]
    }
   ],
   "source": [
    "# Calculo de media y varianza de los ingresos.\n",
    "\n",
    "\n",
    "mean_surf_total_cost = df_users_total_cost_surf.mean()\n",
    "print(f'La media de ingresos de los usuarios surf es: {mean_surf_total_cost}')\n",
    "print()\n",
    "\n",
    "var_surf_total_cost = np.var(df_users_total_cost_surf)\n",
    "print(f'La varianza de ingresos de los usuarios surf es: {var_surf_total_cost}')\n",
    "print()\n",
    "\n",
    "mean_ultimate_total_cost = df_users_total_cost_ultimate.mean()\n",
    "print(f'La media de ingresos de los usuarios ultimate es: {mean_ultimate_total_cost}')\n",
    "print()\n",
    "\n",
    "var_ultimate_total_cost = np.var(df_users_total_cost_ultimate)\n",
    "print(f'La varianza de ingresos de los usuarios ultimate es: {var_ultimate_total_cost}')\n",
    "print()"
   ]
  },
  {
   "cell_type": "code",
   "execution_count": 73,
   "metadata": {},
   "outputs": [
    {
     "data": {
      "image/png": "[encoded data removed]",
      "text/plain": [
       "<Figure size 432x288 with 1 Axes>"
      ]
     },
     "metadata": {
      "needs_background": "light"
     },
     "output_type": "display_data"
    },
    {
     "data": {
      "text/plain": [
       "count    1573.000000\n",
       "mean       60.331933\n",
       "std        55.263890\n",
       "min        20.000000\n",
       "25%        20.000000\n",
       "50%        40.150000\n",
       "75%        80.000000\n",
       "max       588.660000\n",
       "Name: total_cost_per_user, dtype: float64"
      ]
     },
     "metadata": {},
     "output_type": "display_data"
    },
    {
     "data": {
      "text/plain": [
       "count    720.000000\n",
       "mean      72.313889\n",
       "std       11.395108\n",
       "min       70.000000\n",
       "25%       70.000000\n",
       "50%       70.000000\n",
       "75%       70.000000\n",
       "max      182.000000\n",
       "Name: total_cost_per_user, dtype: float64"
      ]
     },
     "metadata": {},
     "output_type": "display_data"
    }
   ],
   "source": [
    "# Traza un diagrama de caja para visualizar la distribución de los mensajes enviados mensualmente\n",
    "\n",
    "sns.boxplot(x = \"total_cost_per_user\", y = \"plan\", data = df_users, palette= 'pastel',  saturation = 0.9, linewidth = 2,\n",
    "           fliersize = 8, order=['surf', 'ultimate'])\n",
    "\n",
    "\n",
    "plt.show()\n",
    "\n",
    "display(df_users_total_cost_surf.describe())\n",
    "display(df_users_total_cost_ultimate.describe())"
   ]
  },
  {
   "cell_type": "code",
   "execution_count": 74,
   "metadata": {},
   "outputs": [
    {
     "name": "stdout",
     "output_type": "stream",
     "text": [
      "Registros de usuarios que superaron el monto del plan ultimate:  41\n",
      "Número de usuarios que superaron el monto del plan ultimate:  18\n"
     ]
    }
   ],
   "source": [
    "#Usuarios de ultimate que superaron el monto del plan:\n",
    "\n",
    "ultimate_users_spent_more_money_than_plan = df_users[(df_users['plan']=='ultimate') & (df_users['total_cost_per_user']>70)]\n",
    "\n",
    "print(f\"Registros de usuarios que superaron el monto del plan ultimate: \", ultimate_users_spent_more_money_than_plan['user_id'].count())\n",
    "print(f\"Número de usuarios que superaron el monto del plan ultimate: \", ultimate_users_spent_more_money_than_plan['user_id'].nunique())"
   ]
  },
  {
   "cell_type": "code",
   "execution_count": 75,
   "metadata": {},
   "outputs": [
    {
     "name": "stdout",
     "output_type": "stream",
     "text": [
      "Registros de usuarios que superaron el monto del plan surf:  1120\n",
      "Número de usuarios que superaron el monto del plan surf:  293\n"
     ]
    }
   ],
   "source": [
    "#Usuarios de surf que superaron el monto del plan:\n",
    "\n",
    "surf_users_spent_more_money_than_plan = df_users[(df_users['plan']=='surf') & (df_users['total_cost_per_user']>20)]\n",
    "\n",
    "\n",
    "print(f\"Registros de usuarios que superaron el monto del plan surf: \", surf_users_spent_more_money_than_plan['user_id'].count())\n",
    "print(f\"Número de usuarios que superaron el monto del plan surf: \", surf_users_spent_more_money_than_plan['user_id'].nunique())\n"
   ]
  },
  {
   "cell_type": "markdown",
   "metadata": {
    "id": "KAFidcXZ0q1P"
   },
   "source": [
    "[Elabora las conclusiones sobre cómo difiere el ingreso entre los planes.]"
   ]
  },
  {
   "cell_type": "markdown",
   "metadata": {},
   "source": [
    "Efectivamente se evidencia que el comportamiento de los usuarios de ultimate rara vez varía y suelen no exceder los límites de su plan (que en este caso son 41 registros que corresponden a 18 usuarios distintos según el código anterior), mientras que más del 60% superan los límites de su plan (según lo mostrado en las anotaciones previas). Es por ello que el gráfico de caja y bigotes tiene estos registros como datos atípicos, ya que Q1, la Mediana y Q3 son iguales.\n",
    "\n",
    "Por otro lado, los resultados de surf confirman que los usuarios suelen exceder los límites de su plan."
   ]
  },
  {
   "cell_type": "markdown",
   "metadata": {},
   "source": [
    "<div class=\"alert alert-block alert-success\">\n",
    "<b>Comentario revisor</b> <a class=\"tocSkip\"></a>\n",
    "\n",
    " Muy buena prática la de usar distintos tipos de gráficas identificar algunos hallazgos y llegar a conclusiones\n",
    "</div>"
   ]
  },
  {
   "cell_type": "markdown",
   "metadata": {
    "id": "ajJ7VKeI0q1Q"
   },
   "source": [
    "## Prueba las hipótesis estadísticas"
   ]
  },
  {
   "cell_type": "markdown",
   "metadata": {
    "id": "AdXAZ-yL0q1Q"
   },
   "source": [
    "[Prueba la hipótesis de que son diferentes los ingresos promedio procedentes de los usuarios de los planes de llamada Ultimate y Surf.]"
   ]
  },
  {
   "cell_type": "markdown",
   "metadata": {
    "id": "IQwa_hsh0q1Q"
   },
   "source": [
    "[Elabora las hipótesis nula y alternativa, escoge la prueba estadística, determina el valor alfa.]"
   ]
  },
  {
   "cell_type": "code",
   "execution_count": 76,
   "metadata": {
    "id": "nFoPNlPq0q1R"
   },
   "outputs": [
    {
     "name": "stdout",
     "output_type": "stream",
     "text": [
      "valor p: 3.6278039040985444e-16\n",
      "\n",
      "Rechazamos la hipótesis nula\n"
     ]
    }
   ],
   "source": [
    "# Prueba las hipótesis\n",
    "\n",
    "#En este caso la hipótesis nula debería considerar que: \"Los ingresos promedios de los usuarios Ultimate y Surf son iguales\"\n",
    "\n",
    "df_users_total_cost_surf # Este es nuestro Dataframe de ingresos de usuarios surf\n",
    "df_users_total_cost_ultimate # Este es nuestro Dataframe de ingresos de usuarios ultimate\n",
    "\n",
    "alpha = 0.05 # Nuestro alpha será de 0.05\n",
    "\n",
    "#Almacenaremos el cálculo de la prueba t en results, considerando que las varianzas son muy diferentes, por ello\n",
    "#usamos equal_var = False. El método a utilizar es st.ttest_ind:\n",
    "\n",
    "results = st.ttest_ind(df_users_total_cost_surf, df_users_total_cost_ultimate, equal_var=False) \n",
    "\n",
    "print('valor p:', results.pvalue) # Imprimimos el valor p obtenido\n",
    "print()\n",
    "\n",
    "if (results.pvalue < alpha): \n",
    "    print(\"Rechazamos la hipótesis nula\")\n",
    "else:\n",
    "    print(\"No podemos rechazar la hipótesis nula\")"
   ]
  },
  {
   "cell_type": "markdown",
   "metadata": {
    "id": "tCcAruM60q1R"
   },
   "source": [
    "[Prueba la hipótesis de que el ingreso promedio de los usuarios del área NY-NJ es diferente al de los usuarios de otras regiones.]"
   ]
  },
  {
   "cell_type": "markdown",
   "metadata": {
    "id": "LsBgitqj0q1R"
   },
   "source": [
    "[Elabora las hipótesis nula y alternativa, escoge la prueba estadística, determina el valor alfa.]"
   ]
  },
  {
   "cell_type": "code",
   "execution_count": 77,
   "metadata": {
    "id": "Cqcj7wrZ0q1S"
   },
   "outputs": [
    {
     "data": {
      "text/plain": [
       "count    377.000000\n",
       "mean      59.611804\n",
       "std       43.477850\n",
       "min       20.000000\n",
       "25%       20.000000\n",
       "50%       51.080000\n",
       "75%       71.680000\n",
       "max      280.000000\n",
       "Name: total_cost_per_user, dtype: float64"
      ]
     },
     "metadata": {},
     "output_type": "display_data"
    },
    {
     "data": {
      "text/plain": [
       "count    1916.000000\n",
       "mean       64.976242\n",
       "std        47.084648\n",
       "min        20.000000\n",
       "25%        23.870000\n",
       "50%        70.000000\n",
       "75%        70.000000\n",
       "max       588.660000\n",
       "Name: total_cost_per_user, dtype: float64"
      ]
     },
     "metadata": {},
     "output_type": "display_data"
    },
    {
     "name": "stdout",
     "output_type": "stream",
     "text": [
      "La varianza de los ingresos de usuarios de NY-NJ es:  1885.3093622638592\n",
      "\n",
      "La varianza de los ingresos de usuarios que no son de NY-NJ es:  2215.8070290937544\n"
     ]
    }
   ],
   "source": [
    "# Prueba las hipótesis\n",
    "\n",
    "#En este caso la hipótesis nula debería considerar que: \"Los ingresos promedios de los usuarios de NY-NJ son iguales al resto\n",
    "#del país\"\n",
    "\n",
    "\n",
    "#Primero almacenamos los registros de los usuarios de NY-NJ y los que no en dos variables distintas:\n",
    "ny_nj_users = df_users[df_users['city']=='New York-Newark-Jersey City, NY-NJ-PA MSA']['total_cost_per_user']\n",
    "\n",
    "non_ny_nj_users = df_users[df_users['city']!='New York-Newark-Jersey City, NY-NJ-PA MSA']['total_cost_per_user']\n",
    "\n",
    "\n",
    "display(ny_nj_users.describe())\n",
    "\n",
    "display(non_ny_nj_users.describe())\n",
    "\n",
    "print(\"La varianza de los ingresos de usuarios de NY-NJ es: \", np.var(ny_nj_users))\n",
    "print()\n",
    "print(\"La varianza de los ingresos de usuarios que no son de NY-NJ es: \", np.var(non_ny_nj_users))"
   ]
  },
  {
   "cell_type": "code",
   "execution_count": 78,
   "metadata": {},
   "outputs": [
    {
     "name": "stdout",
     "output_type": "stream",
     "text": [
      "valor p: 0.031237788444585222\n",
      "\n",
      "Rechazamos la hipótesis nula\n"
     ]
    }
   ],
   "source": [
    "#Ahora realizaremos la prueba estableciendo un alpha = 0.05\n",
    "alpha = 0.05\n",
    "\n",
    "#Almacenaremos el cálculo de la prueba t en results, considerando que las varianzas son muy diferentes, por ello\n",
    "#usamos equal_var = False. El método a utilizar es st.ttest_ind:\n",
    "\n",
    "results = st.ttest_ind(ny_nj_users, non_ny_nj_users, equal_var=False)\n",
    "\n",
    "print('valor p:', results.pvalue) # Imprimimos el valor p obtenido\n",
    "print()\n",
    "\n",
    "if (results.pvalue < alpha): \n",
    "    print(\"Rechazamos la hipótesis nula\")\n",
    "else:\n",
    "    print(\"No podemos rechazar la hipótesis nula\")"
   ]
  },
  {
   "cell_type": "markdown",
   "metadata": {
    "id": "bbTR8UQO0q1T"
   },
   "source": [
    "## Conclusión general\n",
    "\n",
    "[En esta sección final, enumera tus conclusiones importantes. Asegúrate de que estas abarquen todas las decisiones (suposiciones) importantes que adoptaste y que determinaron la forma elegida para procesar y analizar los datos.]\n",
    "\n",
    "### Nota importante:\n",
    "\n",
    "En cada celda de código está explicada la metodología explicativa de cada paso a realizar. En estas conclusiones solo se harán las observaciones correspondientes a oportunidades de negocio."
   ]
  },
  {
   "cell_type": "markdown",
   "metadata": {},
   "source": [
    "**Respuesta**\n",
    "\n",
    "Como conclusiones más importantes podemos considerar las siguientes observaciones:\n",
    "\n",
    "- Hay una gran oportunidad de brindarle a los usuarios de surf una mejora en su plan para evitar que excedan el límite del mismo. Una estrategia podría ser en brindarle a los 293 sus datos de pagos cada mes que fue excedido e invitarlo a que pase a ser usuario ultimate, lo mismo que para los 18 usuarios de ultimate; en especial aquellos que más repiten sus comportamiento a lo largo del año.\n",
    "\n",
    "\n"
   ]
  },
  {
   "cell_type": "code",
   "execution_count": 79,
   "metadata": {
    "scrolled": true
   },
   "outputs": [
    {
     "data": {
      "text/plain": [
       "1362    11\n",
       "1171    11\n",
       "1359    11\n",
       "1498    10\n",
       "1261    10\n",
       "        ..\n",
       "1350     1\n",
       "1169     1\n",
       "1345     1\n",
       "1337     1\n",
       "1369     1\n",
       "Name: user_id, Length: 293, dtype: int64"
      ]
     },
     "execution_count": 79,
     "metadata": {},
     "output_type": "execute_result"
    }
   ],
   "source": [
    "#Número de veces que cada usuario de surf superó el límite de su plan\n",
    "\n",
    "surf_users_spent_more_money_than_plan['user_id'].value_counts()"
   ]
  },
  {
   "cell_type": "code",
   "execution_count": 80,
   "metadata": {},
   "outputs": [
    {
     "data": {
      "text/plain": [
       "1028    9\n",
       "1144    5\n",
       "1490    4\n",
       "1043    4\n",
       "1460    3\n",
       "1403    2\n",
       "1038    2\n",
       "1373    2\n",
       "1196    1\n",
       "1204    1\n",
       "1006    1\n",
       "1283    1\n",
       "1185    1\n",
       "1126    1\n",
       "1246    1\n",
       "1435    1\n",
       "1301    1\n",
       "1057    1\n",
       "Name: user_id, dtype: int64"
      ]
     },
     "execution_count": 80,
     "metadata": {},
     "output_type": "execute_result"
    }
   ],
   "source": [
    "#Número de veces que cada usuario de ultimate superó el límite de su plan\n",
    "\n",
    "ultimate_users_spent_more_money_than_plan['user_id'].value_counts()"
   ]
  },
  {
   "cell_type": "markdown",
   "metadata": {},
   "source": [
    "- Los ingresos promedio por usuario, claramente difieren según el plan. Mientras que los usuarios de ultimate rara vez exceden el límite de sus pagos, la mayoría de los usuarios de surf (más del 60%) los excede. Nuevamente, se evidencia una gran oportunidad de negocio con los 293 usuarios que exceden el límite de sus planes y pasen a ser usuarios de ultimate ya que su comportamiento de consumo es muy similar a los de los usuarios de ultimate.\n",
    "\n",
    "\n",
    "\n",
    "- El mes de menos actividad tanto en llamadas, mensajes e internet suele ser enero, tanto para surf como para ultimate. Una estrategia que podría implementarse puede ser aplicar descuentos en las tarifas adicionales durante ese mes para que los usuarios aumenten su actividad y poder así generar más ingresos."
   ]
  },
  {
   "cell_type": "markdown",
   "metadata": {},
   "source": [
    " "
   ]
  }
 ],
 "metadata": {
  "ExecuteTimeLog": [
   {
    "duration": 828,
    "start_time": "2021-11-16T09:21:11.304Z"
   },
   {
    "duration": 893,
    "start_time": "2021-11-16T09:21:17.728Z"
   },
   {
    "duration": 1150,
    "start_time": "2021-11-16T09:21:29.568Z"
   },
   {
    "duration": 3,
    "start_time": "2021-11-16T09:24:14.495Z"
   },
   {
    "duration": 120,
    "start_time": "2021-11-16T09:24:46.630Z"
   },
   {
    "duration": 3,
    "start_time": "2021-11-16T09:28:27.882Z"
   },
   {
    "duration": 4,
    "start_time": "2021-11-16T09:29:54.281Z"
   },
   {
    "duration": 3,
    "start_time": "2021-11-16T09:30:45.936Z"
   },
   {
    "duration": 4,
    "start_time": "2021-11-16T09:31:06.300Z"
   },
   {
    "duration": 113,
    "start_time": "2021-11-16T09:31:37.208Z"
   },
   {
    "duration": 143,
    "start_time": "2021-11-16T09:31:48.656Z"
   },
   {
    "duration": 98,
    "start_time": "2021-11-16T09:31:55.678Z"
   },
   {
    "duration": 3,
    "start_time": "2021-11-16T09:32:08.535Z"
   },
   {
    "duration": 111,
    "start_time": "2021-11-16T09:32:10.120Z"
   },
   {
    "duration": 3,
    "start_time": "2021-11-16T09:32:15.732Z"
   },
   {
    "duration": 4,
    "start_time": "2021-11-16T09:32:29.423Z"
   },
   {
    "duration": 3,
    "start_time": "2021-11-16T10:03:03.074Z"
   },
   {
    "duration": 3,
    "start_time": "2021-11-16T10:10:01.288Z"
   },
   {
    "duration": 3,
    "start_time": "2021-11-16T10:10:46.923Z"
   },
   {
    "duration": 121,
    "start_time": "2021-11-16T10:37:46.494Z"
   },
   {
    "duration": 125,
    "start_time": "2021-11-16T10:38:20.632Z"
   },
   {
    "duration": 112,
    "start_time": "2021-11-16T10:46:53.001Z"
   },
   {
    "duration": 110,
    "start_time": "2021-11-16T10:48:25.775Z"
   },
   {
    "duration": 3,
    "start_time": "2021-11-16T10:50:18.720Z"
   },
   {
    "duration": 4,
    "start_time": "2021-11-16T10:50:37.649Z"
   },
   {
    "duration": 2,
    "start_time": "2021-11-16T10:50:51.884Z"
   },
   {
    "duration": 3,
    "start_time": "2021-11-16T10:51:56.237Z"
   },
   {
    "duration": 101,
    "start_time": "2021-11-16T10:53:13.791Z"
   },
   {
    "duration": 3,
    "start_time": "2021-11-16T10:55:59.186Z"
   },
   {
    "duration": 3,
    "start_time": "2021-11-16T10:56:10.751Z"
   },
   {
    "duration": 3,
    "start_time": "2021-11-16T10:56:49.038Z"
   },
   {
    "duration": 3,
    "start_time": "2021-11-16T10:56:49.174Z"
   },
   {
    "duration": 4,
    "start_time": "2021-11-16T10:56:49.414Z"
   },
   {
    "duration": 3,
    "start_time": "2021-11-16T10:56:49.680Z"
   },
   {
    "duration": 3,
    "start_time": "2021-11-16T10:56:50.370Z"
   },
   {
    "duration": 114,
    "start_time": "2021-11-16T10:59:34.518Z"
   },
   {
    "duration": 3,
    "start_time": "2021-11-16T11:01:41.201Z"
   },
   {
    "duration": 116,
    "start_time": "2021-11-16T11:01:48.754Z"
   },
   {
    "duration": 3,
    "start_time": "2021-11-16T11:02:16.685Z"
   },
   {
    "duration": 3,
    "start_time": "2021-11-16T11:02:19.479Z"
   },
   {
    "duration": 3,
    "start_time": "2021-11-16T11:02:47.067Z"
   },
   {
    "duration": 3,
    "start_time": "2021-11-16T11:02:49.353Z"
   },
   {
    "duration": 3,
    "start_time": "2021-11-16T11:03:07.835Z"
   },
   {
    "duration": 3,
    "start_time": "2021-11-16T11:03:07.953Z"
   },
   {
    "duration": 112,
    "start_time": "2021-11-16T11:07:52.072Z"
   },
   {
    "duration": 187,
    "start_time": "2021-11-16T11:09:23.468Z"
   },
   {
    "duration": 4,
    "start_time": "2021-11-16T11:10:01.455Z"
   },
   {
    "duration": 3,
    "start_time": "2021-11-16T11:10:05.069Z"
   },
   {
    "duration": 4,
    "start_time": "2021-11-16T11:10:13.376Z"
   },
   {
    "duration": 3,
    "start_time": "2021-11-16T11:10:14.434Z"
   },
   {
    "duration": 3,
    "start_time": "2021-11-16T11:10:22.853Z"
   },
   {
    "duration": 4,
    "start_time": "2021-11-16T11:27:29.279Z"
   },
   {
    "duration": 4,
    "start_time": "2021-11-16T11:29:08.919Z"
   },
   {
    "duration": 118,
    "start_time": "2021-11-16T11:29:46.703Z"
   },
   {
    "duration": 437,
    "start_time": "2021-11-16T11:36:02.181Z"
   },
   {
    "duration": 157,
    "start_time": "2021-11-16T11:36:14.388Z"
   },
   {
    "duration": 207,
    "start_time": "2021-11-16T11:47:15.898Z"
   },
   {
    "duration": 3,
    "start_time": "2021-11-16T11:53:52.092Z"
   },
   {
    "duration": 3,
    "start_time": "2021-11-16T11:53:52.236Z"
   },
   {
    "duration": 3,
    "start_time": "2021-11-16T11:59:12.005Z"
   },
   {
    "duration": 112,
    "start_time": "2021-11-16T12:00:33.446Z"
   },
   {
    "duration": 3,
    "start_time": "2021-11-16T12:02:14.453Z"
   },
   {
    "duration": 3,
    "start_time": "2021-11-16T12:02:39.512Z"
   },
   {
    "duration": 106,
    "start_time": "2021-11-16T12:03:03.460Z"
   },
   {
    "duration": 3,
    "start_time": "2021-11-17T20:37:21.139Z"
   },
   {
    "duration": 3,
    "start_time": "2021-11-17T20:37:22.229Z"
   },
   {
    "duration": 3,
    "start_time": "2021-11-17T20:38:38.806Z"
   },
   {
    "duration": 3,
    "start_time": "2021-11-17T20:38:41.958Z"
   },
   {
    "duration": 3,
    "start_time": "2021-11-17T20:43:46.551Z"
   },
   {
    "duration": 4,
    "start_time": "2021-11-17T20:58:21.835Z"
   },
   {
    "duration": 3,
    "start_time": "2021-11-17T20:59:21.872Z"
   },
   {
    "duration": 4,
    "start_time": "2021-11-17T20:59:45.352Z"
   },
   {
    "duration": 4,
    "start_time": "2021-11-17T20:59:49.646Z"
   },
   {
    "duration": 159,
    "start_time": "2021-11-17T21:02:26.949Z"
   },
   {
    "duration": 3,
    "start_time": "2021-11-17T21:03:53.461Z"
   },
   {
    "duration": 3,
    "start_time": "2021-11-17T21:03:53.694Z"
   },
   {
    "duration": 3,
    "start_time": "2021-11-17T21:05:28.145Z"
   },
   {
    "duration": 116,
    "start_time": "2021-11-17T21:05:57.787Z"
   },
   {
    "duration": 3,
    "start_time": "2021-11-17T21:06:37.993Z"
   },
   {
    "duration": 3,
    "start_time": "2021-11-17T21:06:38.261Z"
   },
   {
    "duration": 3,
    "start_time": "2021-11-17T21:11:54.358Z"
   },
   {
    "duration": 3,
    "start_time": "2021-11-17T21:12:43.846Z"
   },
   {
    "duration": 4,
    "start_time": "2021-11-17T21:13:08.773Z"
   },
   {
    "duration": 3,
    "start_time": "2021-11-17T21:14:44.441Z"
   },
   {
    "duration": 3,
    "start_time": "2021-11-17T21:15:42.059Z"
   },
   {
    "duration": 4,
    "start_time": "2021-11-17T21:15:51.995Z"
   },
   {
    "duration": 3,
    "start_time": "2021-11-17T21:15:53.923Z"
   },
   {
    "duration": 3,
    "start_time": "2021-11-17T21:15:55.282Z"
   },
   {
    "duration": 3,
    "start_time": "2021-11-17T21:16:28.492Z"
   },
   {
    "duration": 3,
    "start_time": "2021-11-17T21:16:32.603Z"
   },
   {
    "duration": 3,
    "start_time": "2021-11-17T21:17:06.941Z"
   },
   {
    "duration": 98,
    "start_time": "2021-11-17T21:18:05.733Z"
   },
   {
    "duration": 4,
    "start_time": "2021-11-17T21:21:35.255Z"
   },
   {
    "duration": 3,
    "start_time": "2021-11-17T21:21:37.804Z"
   },
   {
    "duration": 4,
    "start_time": "2021-11-17T21:23:06.071Z"
   },
   {
    "duration": 3,
    "start_time": "2021-11-17T21:23:24.799Z"
   },
   {
    "duration": 3,
    "start_time": "2021-11-17T21:23:32.591Z"
   },
   {
    "duration": 98,
    "start_time": "2021-11-17T21:28:31.559Z"
   },
   {
    "duration": 3,
    "start_time": "2021-11-17T21:28:45.448Z"
   },
   {
    "duration": 3,
    "start_time": "2021-11-17T21:29:17.303Z"
   },
   {
    "duration": 3,
    "start_time": "2021-11-17T21:29:29.617Z"
   },
   {
    "duration": 3,
    "start_time": "2021-11-17T21:29:32.681Z"
   },
   {
    "duration": 3,
    "start_time": "2021-11-17T21:36:11.474Z"
   },
   {
    "duration": 3,
    "start_time": "2021-11-17T21:36:14.791Z"
   },
   {
    "duration": 3,
    "start_time": "2021-11-17T21:36:53.943Z"
   },
   {
    "duration": 3,
    "start_time": "2021-11-17T21:36:56.165Z"
   },
   {
    "duration": 4,
    "start_time": "2021-11-17T21:37:16.590Z"
   },
   {
    "duration": 3,
    "start_time": "2021-11-17T21:37:22.702Z"
   },
   {
    "duration": 4,
    "start_time": "2021-11-17T21:38:03.479Z"
   },
   {
    "duration": 3,
    "start_time": "2021-11-17T21:38:08.601Z"
   },
   {
    "duration": 3,
    "start_time": "2021-11-17T21:38:12.928Z"
   },
   {
    "duration": 3,
    "start_time": "2021-11-17T21:38:48.896Z"
   },
   {
    "duration": 2,
    "start_time": "2021-11-17T21:38:49.171Z"
   },
   {
    "duration": 4,
    "start_time": "2021-11-17T21:39:57.889Z"
   },
   {
    "duration": 3,
    "start_time": "2021-11-17T21:39:58.057Z"
   },
   {
    "duration": 3,
    "start_time": "2021-11-17T21:41:20.108Z"
   },
   {
    "duration": 3,
    "start_time": "2021-11-17T21:41:20.629Z"
   },
   {
    "duration": 3,
    "start_time": "2021-11-17T21:42:49.136Z"
   },
   {
    "duration": 3,
    "start_time": "2021-11-17T21:43:15.137Z"
   },
   {
    "duration": 4,
    "start_time": "2021-11-17T21:43:16.766Z"
   },
   {
    "duration": 4,
    "start_time": "2021-11-17T21:43:31.711Z"
   },
   {
    "duration": 3,
    "start_time": "2021-11-17T21:43:36.312Z"
   },
   {
    "duration": 4,
    "start_time": "2021-11-17T21:45:08.825Z"
   },
   {
    "duration": 4,
    "start_time": "2021-11-17T21:45:10.119Z"
   },
   {
    "duration": 4,
    "start_time": "2021-11-17T21:45:13.748Z"
   },
   {
    "duration": 3,
    "start_time": "2021-11-17T21:45:22.219Z"
   },
   {
    "duration": 3,
    "start_time": "2021-11-17T21:45:33.412Z"
   },
   {
    "duration": 2,
    "start_time": "2021-11-17T21:46:01.885Z"
   },
   {
    "duration": 3,
    "start_time": "2021-11-17T21:46:03.628Z"
   },
   {
    "duration": 107,
    "start_time": "2021-11-17T21:47:32.512Z"
   },
   {
    "duration": 103,
    "start_time": "2021-11-17T21:50:36.243Z"
   },
   {
    "duration": 3,
    "start_time": "2021-11-18T06:28:31.440Z"
   },
   {
    "duration": 3,
    "start_time": "2021-11-18T06:29:00.168Z"
   },
   {
    "duration": 3,
    "start_time": "2021-11-18T06:31:27.008Z"
   },
   {
    "duration": 2,
    "start_time": "2021-11-18T06:35:34.288Z"
   },
   {
    "duration": 2,
    "start_time": "2021-11-18T06:38:04.527Z"
   }
  ],
  "colab": {
   "provenance": []
  },
  "kernelspec": {
   "display_name": "Python 3 (ipykernel)",
   "language": "python",
   "name": "python3"
  },
  "language_info": {
   "codemirror_mode": {
    "name": "ipython",
    "version": 3
   },
   "file_extension": ".py",
   "mimetype": "text/x-python",
   "name": "python",
   "nbconvert_exporter": "python",
   "pygments_lexer": "ipython3",
   "version": "3.9.5"
  },
  "toc": {
   "base_numbering": 1,
   "nav_menu": {},
   "number_sections": true,
   "sideBar": true,
   "skip_h1_title": false,
   "title_cell": "Table of Contents",
   "title_sidebar": "Contents",
   "toc_cell": false,
   "toc_position": {},
   "toc_section_display": true,
   "toc_window_display": true
  }
 },
 "nbformat": 4,
 "nbformat_minor": 1
}
